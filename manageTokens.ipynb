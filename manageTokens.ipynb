{
 "cells": [
  {
   "cell_type": "code",
   "execution_count": 1,
   "metadata": {},
   "outputs": [],
   "source": [
    "from web3 import Web3\n",
    "w3 = Web3(Web3.HTTPProvider('https://goerli.infura.io/v3/7666ec09a4e747b5aea5380b91f62f9b'))\n"
   ]
  },
  {
   "cell_type": "code",
   "execution_count": 2,
   "metadata": {},
   "outputs": [
    {
     "data": {
      "text/plain": [
       "<web3.main.Web3 at 0x7fe6f2d25b50>"
      ]
     },
     "execution_count": 2,
     "metadata": {},
     "output_type": "execute_result"
    }
   ],
   "source": [
    "w3"
   ]
  },
  {
   "cell_type": "code",
   "execution_count": 3,
   "metadata": {},
   "outputs": [],
   "source": [
    "import os\n",
    "os.environ['WEB3_INFURA_PROJECT_ID']='7666ec09a4e747b5aea5380b91f62f9b'"
   ]
  },
  {
   "cell_type": "code",
   "execution_count": 4,
   "metadata": {},
   "outputs": [
    {
     "data": {
      "text/plain": [
       "5575681"
      ]
     },
     "execution_count": 4,
     "metadata": {},
     "output_type": "execute_result"
    }
   ],
   "source": [
    "from web3.auto.infura.goerli import w3\n",
    "w3.eth.block_number"
   ]
  },
  {
   "cell_type": "code",
   "execution_count": 5,
   "metadata": {},
   "outputs": [],
   "source": [
    "import json \n",
    "abi = json.loads('[{\"anonymous\":false,\"inputs\":[{\"indexed\":true,\"internalType\":\"address\",\"name\":\"owner\",\"type\":\"address\"},{\"indexed\":true,\"internalType\":\"address\",\"name\":\"approved\",\"type\":\"address\"},{\"indexed\":true,\"internalType\":\"uint256\",\"name\":\"tokenId\",\"type\":\"uint256\"}],\"name\":\"Approval\",\"type\":\"event\"},{\"anonymous\":false,\"inputs\":[{\"indexed\":true,\"internalType\":\"address\",\"name\":\"owner\",\"type\":\"address\"},{\"indexed\":true,\"internalType\":\"address\",\"name\":\"operator\",\"type\":\"address\"},{\"indexed\":false,\"internalType\":\"bool\",\"name\":\"approved\",\"type\":\"bool\"}],\"name\":\"ApprovalForAll\",\"type\":\"event\"},{\"anonymous\":false,\"inputs\":[{\"indexed\":true,\"internalType\":\"address\",\"name\":\"to\",\"type\":\"address\"},{\"indexed\":true,\"internalType\":\"uint256\",\"name\":\"tokenID\",\"type\":\"uint256\"},{\"indexed\":true,\"internalType\":\"uint256\",\"name\":\"sid\",\"type\":\"uint256\"}],\"name\":\"Mint\",\"type\":\"event\"},{\"anonymous\":false,\"inputs\":[{\"indexed\":false,\"internalType\":\"address\",\"name\":\"account\",\"type\":\"address\"}],\"name\":\"Paused\",\"type\":\"event\"},{\"anonymous\":false,\"inputs\":[{\"indexed\":true,\"internalType\":\"bytes32\",\"name\":\"role\",\"type\":\"bytes32\"},{\"indexed\":true,\"internalType\":\"bytes32\",\"name\":\"previousAdminRole\",\"type\":\"bytes32\"},{\"indexed\":true,\"internalType\":\"bytes32\",\"name\":\"newAdminRole\",\"type\":\"bytes32\"}],\"name\":\"RoleAdminChanged\",\"type\":\"event\"},{\"anonymous\":false,\"inputs\":[{\"indexed\":true,\"internalType\":\"bytes32\",\"name\":\"role\",\"type\":\"bytes32\"},{\"indexed\":true,\"internalType\":\"address\",\"name\":\"account\",\"type\":\"address\"},{\"indexed\":true,\"internalType\":\"address\",\"name\":\"sender\",\"type\":\"address\"}],\"name\":\"RoleGranted\",\"type\":\"event\"},{\"anonymous\":false,\"inputs\":[{\"indexed\":true,\"internalType\":\"bytes32\",\"name\":\"role\",\"type\":\"bytes32\"},{\"indexed\":true,\"internalType\":\"address\",\"name\":\"account\",\"type\":\"address\"},{\"indexed\":true,\"internalType\":\"address\",\"name\":\"sender\",\"type\":\"address\"}],\"name\":\"RoleRevoked\",\"type\":\"event\"},{\"anonymous\":false,\"inputs\":[{\"indexed\":true,\"internalType\":\"address\",\"name\":\"from\",\"type\":\"address\"},{\"indexed\":true,\"internalType\":\"address\",\"name\":\"to\",\"type\":\"address\"},{\"indexed\":true,\"internalType\":\"uint256\",\"name\":\"tokenId\",\"type\":\"uint256\"}],\"name\":\"Transfer\",\"type\":\"event\"},{\"anonymous\":false,\"inputs\":[{\"indexed\":false,\"internalType\":\"address\",\"name\":\"account\",\"type\":\"address\"}],\"name\":\"Unpaused\",\"type\":\"event\"},{\"inputs\":[{\"internalType\":\"uint256\",\"name\":\"startingWeiPrice\",\"type\":\"uint256\"},{\"internalType\":\"uint256\",\"name\":\"maxMint\",\"type\":\"uint256\"},{\"internalType\":\"uint256\",\"name\":\"royaltyPercentage\",\"type\":\"uint256\"}],\"name\":\"addSeries\",\"outputs\":[{\"internalType\":\"uint256\",\"name\":\"sid\",\"type\":\"uint256\"}],\"stateMutability\":\"nonpayable\",\"type\":\"function\"},{\"inputs\":[{\"internalType\":\"uint256\",\"name\":\"sid\",\"type\":\"uint256\"},{\"internalType\":\"string\",\"name\":\"_script\",\"type\":\"string\"}],\"name\":\"addSeriesScript\",\"outputs\":[],\"stateMutability\":\"nonpayable\",\"type\":\"function\"},{\"inputs\":[{\"internalType\":\"address\",\"name\":\"to\",\"type\":\"address\"},{\"internalType\":\"uint256\",\"name\":\"tokenId\",\"type\":\"uint256\"}],\"name\":\"approve\",\"outputs\":[],\"stateMutability\":\"nonpayable\",\"type\":\"function\"},{\"inputs\":[{\"internalType\":\"bytes32\",\"name\":\"role\",\"type\":\"bytes32\"},{\"internalType\":\"address\",\"name\":\"account\",\"type\":\"address\"}],\"name\":\"grantRole\",\"outputs\":[],\"stateMutability\":\"nonpayable\",\"type\":\"function\"},{\"inputs\":[{\"internalType\":\"uint256\",\"name\":\"sid\",\"type\":\"uint256\"}],\"name\":\"lockCodeForever\",\"outputs\":[],\"stateMutability\":\"nonpayable\",\"type\":\"function\"},{\"inputs\":[{\"internalType\":\"uint256\",\"name\":\"sid\",\"type\":\"uint256\"},{\"internalType\":\"address\",\"name\":\"to\",\"type\":\"address\"}],\"name\":\"minterMint\",\"outputs\":[],\"stateMutability\":\"nonpayable\",\"type\":\"function\"},{\"inputs\":[{\"internalType\":\"uint256\",\"name\":\"sid\",\"type\":\"uint256\"}],\"name\":\"purchase\",\"outputs\":[{\"internalType\":\"uint256\",\"name\":\"_tokenId\",\"type\":\"uint256\"}],\"stateMutability\":\"payable\",\"type\":\"function\"},{\"inputs\":[{\"internalType\":\"bytes32\",\"name\":\"role\",\"type\":\"bytes32\"},{\"internalType\":\"address\",\"name\":\"account\",\"type\":\"address\"}],\"name\":\"renounceRole\",\"outputs\":[],\"stateMutability\":\"nonpayable\",\"type\":\"function\"},{\"inputs\":[{\"internalType\":\"bytes32\",\"name\":\"role\",\"type\":\"bytes32\"},{\"internalType\":\"address\",\"name\":\"account\",\"type\":\"address\"}],\"name\":\"revokeRole\",\"outputs\":[],\"stateMutability\":\"nonpayable\",\"type\":\"function\"},{\"inputs\":[{\"internalType\":\"address\",\"name\":\"from\",\"type\":\"address\"},{\"internalType\":\"address\",\"name\":\"to\",\"type\":\"address\"},{\"internalType\":\"uint256\",\"name\":\"tokenId\",\"type\":\"uint256\"}],\"name\":\"safeTransferFrom\",\"outputs\":[],\"stateMutability\":\"nonpayable\",\"type\":\"function\"},{\"inputs\":[{\"internalType\":\"address\",\"name\":\"from\",\"type\":\"address\"},{\"internalType\":\"address\",\"name\":\"to\",\"type\":\"address\"},{\"internalType\":\"uint256\",\"name\":\"tokenId\",\"type\":\"uint256\"},{\"internalType\":\"bytes\",\"name\":\"_data\",\"type\":\"bytes\"}],\"name\":\"safeTransferFrom\",\"outputs\":[],\"stateMutability\":\"nonpayable\",\"type\":\"function\"},{\"inputs\":[{\"internalType\":\"bool\",\"name\":\"m\",\"type\":\"bool\"}],\"name\":\"setAllowInternalPurchases\",\"outputs\":[],\"stateMutability\":\"nonpayable\",\"type\":\"function\"},{\"inputs\":[{\"internalType\":\"address\",\"name\":\"operator\",\"type\":\"address\"},{\"internalType\":\"bool\",\"name\":\"approved\",\"type\":\"bool\"}],\"name\":\"setApprovalForAll\",\"outputs\":[],\"stateMutability\":\"nonpayable\",\"type\":\"function\"},{\"inputs\":[{\"internalType\":\"uint256\",\"name\":\"sid\",\"type\":\"uint256\"},{\"internalType\":\"uint256\",\"name\":\"m\",\"type\":\"uint256\"}],\"name\":\"setMaxMint\",\"outputs\":[],\"stateMutability\":\"nonpayable\",\"type\":\"function\"},{\"inputs\":[{\"internalType\":\"uint256\",\"name\":\"sid\",\"type\":\"uint256\"},{\"internalType\":\"uint256\",\"name\":\"m\",\"type\":\"uint256\"}],\"name\":\"setSecondaryMarketPercentage\",\"outputs\":[],\"stateMutability\":\"nonpayable\",\"type\":\"function\"},{\"inputs\":[{\"internalType\":\"uint256\",\"name\":\"sid\",\"type\":\"uint256\"},{\"internalType\":\"bool\",\"name\":\"m\",\"type\":\"bool\"}],\"name\":\"setSeriesPause\",\"outputs\":[],\"stateMutability\":\"nonpayable\",\"type\":\"function\"},{\"inputs\":[{\"internalType\":\"uint256\",\"name\":\"sid\",\"type\":\"uint256\"},{\"internalType\":\"uint256\",\"name\":\"p\",\"type\":\"uint256\"}],\"name\":\"setWeiPrice\",\"outputs\":[],\"stateMutability\":\"nonpayable\",\"type\":\"function\"},{\"inputs\":[{\"internalType\":\"address\",\"name\":\"from\",\"type\":\"address\"},{\"internalType\":\"address\",\"name\":\"to\",\"type\":\"address\"},{\"internalType\":\"uint256\",\"name\":\"tokenId\",\"type\":\"uint256\"}],\"name\":\"transferFrom\",\"outputs\":[],\"stateMutability\":\"nonpayable\",\"type\":\"function\"},{\"inputs\":[],\"stateMutability\":\"nonpayable\",\"type\":\"constructor\"},{\"inputs\":[{\"internalType\":\"uint256\",\"name\":\"sid\",\"type\":\"uint256\"},{\"internalType\":\"uint256\",\"name\":\"_scriptId\",\"type\":\"uint256\"},{\"internalType\":\"string\",\"name\":\"_script\",\"type\":\"string\"}],\"name\":\"updateSeriesScript\",\"outputs\":[],\"stateMutability\":\"nonpayable\",\"type\":\"function\"},{\"inputs\":[{\"internalType\":\"uint256\",\"name\":\"amount\",\"type\":\"uint256\"}],\"name\":\"withdraw\",\"outputs\":[],\"stateMutability\":\"nonpayable\",\"type\":\"function\"},{\"inputs\":[{\"internalType\":\"address\",\"name\":\"owner\",\"type\":\"address\"}],\"name\":\"balanceOf\",\"outputs\":[{\"internalType\":\"uint256\",\"name\":\"\",\"type\":\"uint256\"}],\"stateMutability\":\"view\",\"type\":\"function\"},{\"inputs\":[],\"name\":\"DEFAULT_ADMIN_ROLE\",\"outputs\":[{\"internalType\":\"bytes32\",\"name\":\"\",\"type\":\"bytes32\"}],\"stateMutability\":\"view\",\"type\":\"function\"},{\"inputs\":[{\"internalType\":\"uint256\",\"name\":\"tokenId\",\"type\":\"uint256\"}],\"name\":\"getApproved\",\"outputs\":[{\"internalType\":\"address\",\"name\":\"\",\"type\":\"address\"}],\"stateMutability\":\"view\",\"type\":\"function\"},{\"inputs\":[{\"internalType\":\"bytes32\",\"name\":\"role\",\"type\":\"bytes32\"}],\"name\":\"getRoleAdmin\",\"outputs\":[{\"internalType\":\"bytes32\",\"name\":\"\",\"type\":\"bytes32\"}],\"stateMutability\":\"view\",\"type\":\"function\"},{\"inputs\":[{\"internalType\":\"uint256\",\"name\":\"i\",\"type\":\"uint256\"},{\"internalType\":\"uint256\",\"name\":\"script_id\",\"type\":\"uint256\"}],\"name\":\"getSeries\",\"outputs\":[{\"internalType\":\"string\",\"name\":\"script\",\"type\":\"string\"},{\"internalType\":\"uint256\",\"name\":\"numCodeLocations\",\"type\":\"uint256\"},{\"internalType\":\"uint256\",\"name\":\"numMint\",\"type\":\"uint256\"},{\"internalType\":\"uint256\",\"name\":\"maxMint\",\"type\":\"uint256\"},{\"internalType\":\"uint256\",\"name\":\"curPricePerToken\",\"type\":\"uint256\"},{\"internalType\":\"uint256\",\"name\":\"royaltyPercentage\",\"type\":\"uint256\"},{\"internalType\":\"bool\",\"name\":\"paused\",\"type\":\"bool\"},{\"internalType\":\"bool\",\"name\":\"locked\",\"type\":\"bool\"}],\"stateMutability\":\"view\",\"type\":\"function\"},{\"inputs\":[{\"internalType\":\"uint256\",\"name\":\"i\",\"type\":\"uint256\"}],\"name\":\"getTokenParams\",\"outputs\":[{\"internalType\":\"bytes32\",\"name\":\"seed\",\"type\":\"bytes32\"},{\"internalType\":\"string\",\"name\":\"codeLocation0\",\"type\":\"string\"},{\"internalType\":\"uint256\",\"name\":\"seriesID\",\"type\":\"uint256\"},{\"internalType\":\"uint256\",\"name\":\"royaltyPercentage\",\"type\":\"uint256\"},{\"internalType\":\"uint32\",\"name\":\"nTrades\",\"type\":\"uint32\"}],\"stateMutability\":\"view\",\"type\":\"function\"},{\"inputs\":[{\"internalType\":\"bytes32\",\"name\":\"role\",\"type\":\"bytes32\"},{\"internalType\":\"address\",\"name\":\"account\",\"type\":\"address\"}],\"name\":\"hasRole\",\"outputs\":[{\"internalType\":\"bool\",\"name\":\"\",\"type\":\"bool\"}],\"stateMutability\":\"view\",\"type\":\"function\"},{\"inputs\":[{\"internalType\":\"address\",\"name\":\"owner\",\"type\":\"address\"},{\"internalType\":\"address\",\"name\":\"operator\",\"type\":\"address\"}],\"name\":\"isApprovedForAll\",\"outputs\":[{\"internalType\":\"bool\",\"name\":\"\",\"type\":\"bool\"}],\"stateMutability\":\"view\",\"type\":\"function\"},{\"inputs\":[],\"name\":\"MINTER_ROLE\",\"outputs\":[{\"internalType\":\"bytes32\",\"name\":\"\",\"type\":\"bytes32\"}],\"stateMutability\":\"view\",\"type\":\"function\"},{\"inputs\":[],\"name\":\"name\",\"outputs\":[{\"internalType\":\"string\",\"name\":\"\",\"type\":\"string\"}],\"stateMutability\":\"view\",\"type\":\"function\"},{\"inputs\":[],\"name\":\"numSeries\",\"outputs\":[{\"internalType\":\"uint256\",\"name\":\"\",\"type\":\"uint256\"}],\"stateMutability\":\"view\",\"type\":\"function\"},{\"inputs\":[{\"internalType\":\"uint256\",\"name\":\"tokenId\",\"type\":\"uint256\"}],\"name\":\"ownerOf\",\"outputs\":[{\"internalType\":\"address\",\"name\":\"\",\"type\":\"address\"}],\"stateMutability\":\"view\",\"type\":\"function\"},{\"inputs\":[],\"name\":\"paused\",\"outputs\":[{\"internalType\":\"bool\",\"name\":\"\",\"type\":\"bool\"}],\"stateMutability\":\"view\",\"type\":\"function\"},{\"inputs\":[{\"internalType\":\"uint256\",\"name\":\"sid\",\"type\":\"uint256\"}],\"name\":\"showAllTokensPerSeries\",\"outputs\":[{\"internalType\":\"uint256[]\",\"name\":\"\",\"type\":\"uint256[]\"}],\"stateMutability\":\"view\",\"type\":\"function\"},{\"inputs\":[{\"internalType\":\"bytes4\",\"name\":\"interfaceId\",\"type\":\"bytes4\"}],\"name\":\"supportsInterface\",\"outputs\":[{\"internalType\":\"bool\",\"name\":\"\",\"type\":\"bool\"}],\"stateMutability\":\"view\",\"type\":\"function\"},{\"inputs\":[],\"name\":\"symbol\",\"outputs\":[{\"internalType\":\"string\",\"name\":\"\",\"type\":\"string\"}],\"stateMutability\":\"view\",\"type\":\"function\"},{\"inputs\":[{\"internalType\":\"uint256\",\"name\":\"index\",\"type\":\"uint256\"}],\"name\":\"tokenByIndex\",\"outputs\":[{\"internalType\":\"uint256\",\"name\":\"\",\"type\":\"uint256\"}],\"stateMutability\":\"view\",\"type\":\"function\"},{\"inputs\":[{\"internalType\":\"address\",\"name\":\"owner\",\"type\":\"address\"},{\"internalType\":\"uint256\",\"name\":\"index\",\"type\":\"uint256\"}],\"name\":\"tokenOfOwnerByIndex\",\"outputs\":[{\"internalType\":\"uint256\",\"name\":\"\",\"type\":\"uint256\"}],\"stateMutability\":\"view\",\"type\":\"function\"},{\"inputs\":[{\"internalType\":\"address\",\"name\":\"owner\",\"type\":\"address\"}],\"name\":\"tokensOfOwner\",\"outputs\":[{\"internalType\":\"uint256[]\",\"name\":\"\",\"type\":\"uint256[]\"}],\"stateMutability\":\"view\",\"type\":\"function\"},{\"inputs\":[{\"internalType\":\"uint256\",\"name\":\"tokenId\",\"type\":\"uint256\"}],\"name\":\"tokenURI\",\"outputs\":[{\"internalType\":\"string\",\"name\":\"\",\"type\":\"string\"}],\"stateMutability\":\"view\",\"type\":\"function\"},{\"inputs\":[],\"name\":\"totalSupply\",\"outputs\":[{\"internalType\":\"uint256\",\"name\":\"\",\"type\":\"uint256\"}],\"stateMutability\":\"view\",\"type\":\"function\"}]');\n",
    "contactAddress = '0x08222d81A220d39dD3012668a94b62Cc653AD273'\n",
    "      \n",
    "sc = w3.eth.contract(abi=abi, address=contactAddress)"
   ]
  },
  {
   "cell_type": "code",
   "execution_count": 6,
   "metadata": {},
   "outputs": [
    {
     "name": "stdout",
     "output_type": "stream",
     "text": [
      "addSeries\n",
      "addSeriesScript\n",
      "approve\n",
      "grantRole\n",
      "lockCodeForever\n",
      "minterMint\n",
      "purchase\n",
      "renounceRole\n",
      "revokeRole\n",
      "safeTransferFrom\n",
      "safeTransferFrom\n",
      "setAllowInternalPurchases\n",
      "setApprovalForAll\n",
      "setMaxMint\n",
      "setSecondaryMarketPercentage\n",
      "setSeriesPause\n",
      "setWeiPrice\n",
      "transferFrom\n",
      "updateSeriesScript\n",
      "withdraw\n",
      "balanceOf\n",
      "DEFAULT_ADMIN_ROLE\n",
      "getApproved\n",
      "getRoleAdmin\n",
      "getSeries\n",
      "getTokenParams\n",
      "hasRole\n",
      "isApprovedForAll\n",
      "MINTER_ROLE\n",
      "name\n",
      "numSeries\n",
      "ownerOf\n",
      "paused\n",
      "showAllTokensPerSeries\n",
      "supportsInterface\n",
      "symbol\n",
      "tokenByIndex\n",
      "tokenOfOwnerByIndex\n",
      "tokensOfOwner\n",
      "tokenURI\n",
      "totalSupply\n"
     ]
    }
   ],
   "source": [
    "for f in sc.functions:\n",
    "    print(f)"
   ]
  },
  {
   "cell_type": "code",
   "execution_count": 7,
   "metadata": {},
   "outputs": [
    {
     "name": "stdout",
     "output_type": "stream",
     "text": [
      "<class 'web3._utils.datatypes.Approval'>\n",
      "<class 'web3._utils.datatypes.ApprovalForAll'>\n",
      "<class 'web3._utils.datatypes.Mint'>\n",
      "<class 'web3._utils.datatypes.Paused'>\n",
      "<class 'web3._utils.datatypes.RoleAdminChanged'>\n",
      "<class 'web3._utils.datatypes.RoleGranted'>\n",
      "<class 'web3._utils.datatypes.RoleRevoked'>\n",
      "<class 'web3._utils.datatypes.Transfer'>\n",
      "<class 'web3._utils.datatypes.Unpaused'>\n"
     ]
    }
   ],
   "source": [
    "for e in sc.events:\n",
    "    print(e)"
   ]
  },
  {
   "cell_type": "code",
   "execution_count": 8,
   "metadata": {},
   "outputs": [],
   "source": [
    "# getting all of the tokens that have been made for a series. \n",
    "\n",
    "sid = 0\n",
    "seriesName = \"SpikeBall\"\n",
    "seriesTokens = sc.functions.showAllTokensPerSeries(sid).call()"
   ]
  },
  {
   "cell_type": "code",
   "execution_count": 26,
   "metadata": {},
   "outputs": [],
   "source": [
    "tdict = {}\n",
    "with open(\"_data/works.yml\", 'w') as file: \n",
    "    for tid in seriesTokens:\n",
    "        tp = sc.functions.getTokenParams(tid).call()\n",
    "        seed = Web3.toHex(tp[0])\n",
    "        ntrades = tp[4]\n",
    "        owner = sc.functions.ownerOf(tid).call()\n",
    "        link = \"/\"+seriesName+\"-\"+str(tid)+\"/\"\n",
    "        \n",
    "        file.write(seriesName+' '+str(tid)+':'+'\\n')\n",
    "        file.write('  '+'link: '+link+'\\n')\n",
    "        file.write('  '+'owner: \\\"'+owner+'\\\"\\n')\n",
    "        file.write('  '+'seed: \\\"'+str(seed)+'\\\"\\n')\n",
    "        file.write('  '+'nTransactions: '+str(ntrades)+'\\n')\n",
    "        tdict[tid]=seed\n",
    "        "
   ]
  },
  {
   "cell_type": "code",
   "execution_count": 24,
   "metadata": {},
   "outputs": [
    {
     "data": {
      "text/plain": [
       "str"
      ]
     },
     "execution_count": 24,
     "metadata": {},
     "output_type": "execute_result"
    }
   ],
   "source": [
    "type(owner)"
   ]
  },
  {
   "cell_type": "code",
   "execution_count": 15,
   "metadata": {},
   "outputs": [],
   "source": [
    "for tid in seriesTokens:\n",
    "    with open(\"works/SpikeBall-\"+str(tid)+\".md\", 'w') as file: \n",
    "        file.write('---\\n')\n",
    "        file.write('layout: post\\n')\n",
    "        file.write('title: SpikeBall '+str(tid)+'\\n')\n",
    "        file.write('---\\n')\n",
    "        file.write('{% include token.html %}')"
   ]
  },
  {
   "cell_type": "code",
   "execution_count": 10,
   "metadata": {},
   "outputs": [
    {
     "data": {
      "text/plain": [
       "{0: '0xe07988ab0002cfdabd2eeddd715aeaad10ae62358abea76a49a3677979724378',\n",
       " 1: '0xe854a9554f83ba8bfad13016f1519d8f10262c874552abd73ef2a5cac127252c',\n",
       " 2: '0x50d84ce118aef09742266c73c9d1ecee1f08b1aa6e96f670c7ae19931ca5af3c',\n",
       " 3: '0xb3c5ea47fea037913b3fc3c30509ccb148ea220230fc5ad053b2a1ed5dd96170',\n",
       " 4: '0x1e7834485b85c1e5da9a1b4c7615387a278a775415cab156bab052b59697a2b5',\n",
       " 5: '0xbbeb900446f116cb101686b532e802c683c6d17445468652f14c69b2957aafbf',\n",
       " 6: '0xd4c84778046b0d6043f8e3e20d374b7959254352af74ca692b542928ba55f497',\n",
       " 7: '0xd39c829206c2b9ddeb7370930474a73474d456062ca903014c2168f02f7b2e4e',\n",
       " 8: '0x85c0b2eabd30f872ad3ba538af1058c331256a89c08161cbc5a974be5fb050d1',\n",
       " 9: '0x4c3a1684f27491c2bb689b81dcebe583e2471f8d3531819d6b1d5e1b9564efeb',\n",
       " 10: '0xcc022812be564c421fce2a1fe1af7a5a143b5cab9b8c1fe6e035d29a20dea1ec'}"
      ]
     },
     "execution_count": 10,
     "metadata": {},
     "output_type": "execute_result"
    }
   ],
   "source": [
    "tdict"
   ]
  },
  {
   "cell_type": "code",
   "execution_count": 11,
   "metadata": {},
   "outputs": [],
   "source": [
    "import os"
   ]
  },
  {
   "cell_type": "code",
   "execution_count": 12,
   "metadata": {},
   "outputs": [
    {
     "name": "stdout",
     "output_type": "stream",
     "text": [
      "2021-09-28 01:28:07.135 java[96003:4217366] WARNING: NSWindow drag regions should only be invalidated on the Main Thread! This will throw an exception in the future. Called from (\n",
      "\t0   AppKit                              0x00007fff22dca481 -[NSWindow(NSWindow_Theme) _postWindowNeedsToResetDragMarginsUnlessPostingDisabled] + 352\n",
      "\t1   AppKit                              0x00007fff22db5042 -[NSWindow _initContent:styleMask:backing:defer:contentView:] + 1296\n",
      "\t2   AppKit                              0x00007fff22db4b2b -[NSWindow initWithContentRect:styleMask:backing:defer:] + 42\n",
      "\t3   libnativewindow_macosx.jnilib       0x000000012be0b3fe Java_jogamp_nativewindow_macosx_OSXUtil_CreateNSWindow0 + 398\n",
      "\t4   ???                                 0x000000010e020a88 0x0 + 4529982088\n",
      ")\n",
      "/Users/trentonbricken/blitzgenerative.github.io/assets/vids/SpikeBall null.mp4 saved.\n",
      "Finished.\n",
      "2021-09-28 01:29:03.382 java[96042:4218497] WARNING: NSWindow drag regions should only be invalidated on the Main Thread! This will throw an exception in the future. Called from (\n",
      "\t0   AppKit                              0x00007fff22dca481 -[NSWindow(NSWindow_Theme) _postWindowNeedsToResetDragMarginsUnlessPostingDisabled] + 352\n",
      "\t1   AppKit                              0x00007fff22db5042 -[NSWindow _initContent:styleMask:backing:defer:contentView:] + 1296\n",
      "\t2   AppKit                              0x00007fff22db4b2b -[NSWindow initWithContentRect:styleMask:backing:defer:] + 42\n",
      "\t3   libnativewindow_macosx.jnilib       0x000000012e2313fe Java_jogamp_nativewindow_macosx_OSXUtil_CreateNSWindow0 + 398\n",
      "\t4   ???                                 0x0000000111020a88 0x0 + 4580313736\n",
      ")\n",
      "/Users/trentonbricken/blitzgenerative.github.io/assets/vids/SpikeBall null.mp4 saved.\n",
      "Finished.\n",
      "2021-09-28 01:29:59.939 java[96087:4219688] WARNING: NSWindow drag regions should only be invalidated on the Main Thread! This will throw an exception in the future. Called from (\n",
      "\t0   AppKit                              0x00007fff22dca481 -[NSWindow(NSWindow_Theme) _postWindowNeedsToResetDragMarginsUnlessPostingDisabled] + 352\n",
      "\t1   AppKit                              0x00007fff22db5042 -[NSWindow _initContent:styleMask:backing:defer:contentView:] + 1296\n",
      "\t2   AppKit                              0x00007fff22db4b2b -[NSWindow initWithContentRect:styleMask:backing:defer:] + 42\n",
      "\t3   libnativewindow_macosx.jnilib       0x00000001302253fe Java_jogamp_nativewindow_macosx_OSXUtil_CreateNSWindow0 + 398\n",
      "\t4   ???                                 0x0000000114496a88 0x0 + 4635323016\n",
      ")\n",
      "/Users/trentonbricken/blitzgenerative.github.io/assets/vids/SpikeBall null.mp4 saved.\n",
      "Finished.\n",
      "2021-09-28 01:30:56.350 java[96121:4220758] WARNING: NSWindow drag regions should only be invalidated on the Main Thread! This will throw an exception in the future. Called from (\n",
      "\t0   AppKit                              0x00007fff22dca481 -[NSWindow(NSWindow_Theme) _postWindowNeedsToResetDragMarginsUnlessPostingDisabled] + 352\n",
      "\t1   AppKit                              0x00007fff22db5042 -[NSWindow _initContent:styleMask:backing:defer:contentView:] + 1296\n",
      "\t2   AppKit                              0x00007fff22db4b2b -[NSWindow initWithContentRect:styleMask:backing:defer:] + 42\n",
      "\t3   libnativewindow_macosx.jnilib       0x00000001316253fe Java_jogamp_nativewindow_macosx_OSXUtil_CreateNSWindow0 + 398\n",
      "\t4   ???                                 0x0000000114263a88 0x0 + 4633016968\n",
      ")\n",
      "/Users/trentonbricken/blitzgenerative.github.io/assets/vids/SpikeBall null.mp4 saved.\n",
      "Finished.\n",
      "2021-09-28 01:31:53.140 java[96169:4222070] WARNING: NSWindow drag regions should only be invalidated on the Main Thread! This will throw an exception in the future. Called from (\n",
      "\t0   AppKit                              0x00007fff22dca481 -[NSWindow(NSWindow_Theme) _postWindowNeedsToResetDragMarginsUnlessPostingDisabled] + 352\n",
      "\t1   AppKit                              0x00007fff22db5042 -[NSWindow _initContent:styleMask:backing:defer:contentView:] + 1296\n",
      "\t2   AppKit                              0x00007fff22db4b2b -[NSWindow initWithContentRect:styleMask:backing:defer:] + 42\n",
      "\t3   libnativewindow_macosx.jnilib       0x0000000128f713fe Java_jogamp_nativewindow_macosx_OSXUtil_CreateNSWindow0 + 398\n",
      "\t4   ???                                 0x0000000110aa2a88 0x0 + 4574554760\n",
      ")\n",
      "/Users/trentonbricken/blitzgenerative.github.io/assets/vids/SpikeBall null.mp4 saved.\n",
      "Finished.\n",
      "2021-09-28 01:32:51.800 java[96204:4223586] WARNING: NSWindow drag regions should only be invalidated on the Main Thread! This will throw an exception in the future. Called from (\n",
      "\t0   AppKit                              0x00007fff22dca481 -[NSWindow(NSWindow_Theme) _postWindowNeedsToResetDragMarginsUnlessPostingDisabled] + 352\n",
      "\t1   AppKit                              0x00007fff22db5042 -[NSWindow _initContent:styleMask:backing:defer:contentView:] + 1296\n",
      "\t2   AppKit                              0x00007fff22db4b2b -[NSWindow initWithContentRect:styleMask:backing:defer:] + 42\n",
      "\t3   libnativewindow_macosx.jnilib       0x0000000132ee73fe Java_jogamp_nativewindow_macosx_OSXUtil_CreateNSWindow0 + 398\n",
      "\t4   ???                                 0x000000011b6b2a88 0x0 + 4754975368\n",
      ")\n",
      "/Users/trentonbricken/blitzgenerative.github.io/assets/vids/SpikeBall null.mp4 saved.\n",
      "Finished.\n",
      "2021-09-28 01:33:48.525 java[96248:4224897] WARNING: NSWindow drag regions should only be invalidated on the Main Thread! This will throw an exception in the future. Called from (\n",
      "\t0   AppKit                              0x00007fff22dca481 -[NSWindow(NSWindow_Theme) _postWindowNeedsToResetDragMarginsUnlessPostingDisabled] + 352\n",
      "\t1   AppKit                              0x00007fff22db5042 -[NSWindow _initContent:styleMask:backing:defer:contentView:] + 1296\n",
      "\t2   AppKit                              0x00007fff22db4b2b -[NSWindow initWithContentRect:styleMask:backing:defer:] + 42\n",
      "\t3   libnativewindow_macosx.jnilib       0x00000001372233fe Java_jogamp_nativewindow_macosx_OSXUtil_CreateNSWindow0 + 398\n",
      "\t4   ???                                 0x000000011fbeea88 0x0 + 4827572872\n",
      ")\n",
      "/Users/trentonbricken/blitzgenerative.github.io/assets/vids/SpikeBall null.mp4 saved.\n",
      "Finished.\n",
      "2021-09-28 01:34:44.745 java[96291:4226347] WARNING: NSWindow drag regions should only be invalidated on the Main Thread! This will throw an exception in the future. Called from (\n",
      "\t0   AppKit                              0x00007fff22dca481 -[NSWindow(NSWindow_Theme) _postWindowNeedsToResetDragMarginsUnlessPostingDisabled] + 352\n",
      "\t1   AppKit                              0x00007fff22db5042 -[NSWindow _initContent:styleMask:backing:defer:contentView:] + 1296\n",
      "\t2   AppKit                              0x00007fff22db4b2b -[NSWindow initWithContentRect:styleMask:backing:defer:] + 42\n",
      "\t3   libnativewindow_macosx.jnilib       0x000000012d5e43fe Java_jogamp_nativewindow_macosx_OSXUtil_CreateNSWindow0 + 398\n",
      "\t4   ???                                 0x0000000115d90a88 0x0 + 4661512840\n",
      ")\n",
      "/Users/trentonbricken/blitzgenerative.github.io/assets/vids/SpikeBall null.mp4 saved.\n",
      "Finished.\n",
      "2021-09-28 01:35:42.135 java[96340:4227860] WARNING: NSWindow drag regions should only be invalidated on the Main Thread! This will throw an exception in the future. Called from (\n",
      "\t0   AppKit                              0x00007fff22dca481 -[NSWindow(NSWindow_Theme) _postWindowNeedsToResetDragMarginsUnlessPostingDisabled] + 352\n",
      "\t1   AppKit                              0x00007fff22db5042 -[NSWindow _initContent:styleMask:backing:defer:contentView:] + 1296\n",
      "\t2   AppKit                              0x00007fff22db4b2b -[NSWindow initWithContentRect:styleMask:backing:defer:] + 42\n",
      "\t3   libnativewindow_macosx.jnilib       0x00000001289663fe Java_jogamp_nativewindow_macosx_OSXUtil_CreateNSWindow0 + 398\n",
      "\t4   ???                                 0x000000010b820a88 0x0 + 4488039048\n",
      ")\n",
      "/Users/trentonbricken/blitzgenerative.github.io/assets/vids/SpikeBall null.mp4 saved.\n",
      "Finished.\n",
      "2021-09-28 01:36:41.034 java[96382:4229298] WARNING: NSWindow drag regions should only be invalidated on the Main Thread! This will throw an exception in the future. Called from (\n",
      "\t0   AppKit                              0x00007fff22dca481 -[NSWindow(NSWindow_Theme) _postWindowNeedsToResetDragMarginsUnlessPostingDisabled] + 352\n",
      "\t1   AppKit                              0x00007fff22db5042 -[NSWindow _initContent:styleMask:backing:defer:contentView:] + 1296\n",
      "\t2   AppKit                              0x00007fff22db4b2b -[NSWindow initWithContentRect:styleMask:backing:defer:] + 42\n",
      "\t3   libnativewindow_macosx.jnilib       0x00000001331613fe Java_jogamp_nativewindow_macosx_OSXUtil_CreateNSWindow0 + 398\n",
      "\t4   ???                                 0x0000000118020a88 0x0 + 4697754248\n",
      ")\n",
      "/Users/trentonbricken/blitzgenerative.github.io/assets/vids/SpikeBall null.mp4 saved.\n",
      "Finished.\n",
      "2021-09-28 01:39:15.034 java[96498:4232442] WARNING: NSWindow drag regions should only be invalidated on the Main Thread! This will throw an exception in the future. Called from (\n",
      "\t0   AppKit                              0x00007fff22dca481 -[NSWindow(NSWindow_Theme) _postWindowNeedsToResetDragMarginsUnlessPostingDisabled] + 352\n",
      "\t1   AppKit                              0x00007fff22db5042 -[NSWindow _initContent:styleMask:backing:defer:contentView:] + 1296\n",
      "\t2   AppKit                              0x00007fff22db4b2b -[NSWindow initWithContentRect:styleMask:backing:defer:] + 42\n",
      "\t3   libnativewindow_macosx.jnilib       0x000000012b15a3fe Java_jogamp_nativewindow_macosx_OSXUtil_CreateNSWindow0 + 398\n",
      "\t4   ???                                 0x0000000112149a88 0x0 + 4598307464\n",
      ")\n",
      "/Users/trentonbricken/blitzgenerative.github.io/assets/vids/SpikeBall null.mp4 saved.\n",
      "Finished.\n"
     ]
    }
   ],
   "source": [
    "for k,v in tdict.items():\n",
    "    !processing-java --sketch=/Users/trentonbricken/Documents/Processing/SaveOut_java_sphere_morph --run $v\n",
    "    os.rename('/Users/trentonbricken/blitzgenerative.github.io/assets/vids/SpikeBall null.mp4',\n",
    "             '/Users/trentonbricken/blitzgenerative.github.io/assets/vids/SpikeBall '+str(k)+'.mp4')\n",
    "    os.rename('/Users/trentonbricken/blitzgenerative.github.io/assets/thumbnails/SpikeBall null.png',\n",
    "             '/Users/trentonbricken/blitzgenerative.github.io/assets/thumbnails/SpikeBall '+str(k)+'.png')\n",
    "    \n",
    "    \n",
    "    \n"
   ]
  },
  {
   "cell_type": "code",
   "execution_count": null,
   "metadata": {},
   "outputs": [],
   "source": []
  }
 ],
 "metadata": {
  "kernelspec": {
   "display_name": "Python 3",
   "language": "python",
   "name": "python3"
  },
  "language_info": {
   "codemirror_mode": {
    "name": "ipython",
    "version": 3
   },
   "file_extension": ".py",
   "mimetype": "text/x-python",
   "name": "python",
   "nbconvert_exporter": "python",
   "pygments_lexer": "ipython3",
   "version": "3.7.5"
  }
 },
 "nbformat": 4,
 "nbformat_minor": 4
}
