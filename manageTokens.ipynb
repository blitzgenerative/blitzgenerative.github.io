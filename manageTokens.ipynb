{
 "cells": [
  {
   "cell_type": "code",
   "execution_count": 4,
   "metadata": {},
   "outputs": [],
   "source": [
    "from web3 import Web3\n",
    "w3 = Web3(Web3.HTTPProvider('https://goerli.infura.io/v3/7666ec09a4e747b5aea5380b91f62f9b'))\n"
   ]
  },
  {
   "cell_type": "code",
   "execution_count": 5,
   "metadata": {},
   "outputs": [
    {
     "data": {
      "text/plain": [
       "<web3.main.Web3 at 0x7fbb294b4990>"
      ]
     },
     "execution_count": 5,
     "metadata": {},
     "output_type": "execute_result"
    }
   ],
   "source": [
    "w3"
   ]
  },
  {
   "cell_type": "code",
   "execution_count": 6,
   "metadata": {},
   "outputs": [],
   "source": [
    "import os\n",
    "os.environ['WEB3_INFURA_PROJECT_ID']='7666ec09a4e747b5aea5380b91f62f9b'"
   ]
  },
  {
   "cell_type": "code",
   "execution_count": 12,
   "metadata": {},
   "outputs": [
    {
     "data": {
      "text/plain": [
       "13348606"
      ]
     },
     "execution_count": 12,
     "metadata": {},
     "output_type": "execute_result"
    }
   ],
   "source": [
    "from web3.auto.infura import w3 #.goerli import w3\n",
    "import json \n",
    "w3.eth.block_number"
   ]
  },
  {
   "cell_type": "code",
   "execution_count": 5,
   "metadata": {},
   "outputs": [],
   "source": [
    "\n",
    "abi = json.loads('[{\"anonymous\":false,\"inputs\":[{\"indexed\":true,\"internalType\":\"address\",\"name\":\"owner\",\"type\":\"address\"},{\"indexed\":true,\"internalType\":\"address\",\"name\":\"approved\",\"type\":\"address\"},{\"indexed\":true,\"internalType\":\"uint256\",\"name\":\"tokenId\",\"type\":\"uint256\"}],\"name\":\"Approval\",\"type\":\"event\"},{\"anonymous\":false,\"inputs\":[{\"indexed\":true,\"internalType\":\"address\",\"name\":\"owner\",\"type\":\"address\"},{\"indexed\":true,\"internalType\":\"address\",\"name\":\"operator\",\"type\":\"address\"},{\"indexed\":false,\"internalType\":\"bool\",\"name\":\"approved\",\"type\":\"bool\"}],\"name\":\"ApprovalForAll\",\"type\":\"event\"},{\"anonymous\":false,\"inputs\":[{\"indexed\":true,\"internalType\":\"address\",\"name\":\"to\",\"type\":\"address\"},{\"indexed\":true,\"internalType\":\"uint256\",\"name\":\"tokenID\",\"type\":\"uint256\"},{\"indexed\":true,\"internalType\":\"uint256\",\"name\":\"sid\",\"type\":\"uint256\"}],\"name\":\"Mint\",\"type\":\"event\"},{\"anonymous\":false,\"inputs\":[{\"indexed\":false,\"internalType\":\"address\",\"name\":\"account\",\"type\":\"address\"}],\"name\":\"Paused\",\"type\":\"event\"},{\"anonymous\":false,\"inputs\":[{\"indexed\":true,\"internalType\":\"bytes32\",\"name\":\"role\",\"type\":\"bytes32\"},{\"indexed\":true,\"internalType\":\"bytes32\",\"name\":\"previousAdminRole\",\"type\":\"bytes32\"},{\"indexed\":true,\"internalType\":\"bytes32\",\"name\":\"newAdminRole\",\"type\":\"bytes32\"}],\"name\":\"RoleAdminChanged\",\"type\":\"event\"},{\"anonymous\":false,\"inputs\":[{\"indexed\":true,\"internalType\":\"bytes32\",\"name\":\"role\",\"type\":\"bytes32\"},{\"indexed\":true,\"internalType\":\"address\",\"name\":\"account\",\"type\":\"address\"},{\"indexed\":true,\"internalType\":\"address\",\"name\":\"sender\",\"type\":\"address\"}],\"name\":\"RoleGranted\",\"type\":\"event\"},{\"anonymous\":false,\"inputs\":[{\"indexed\":true,\"internalType\":\"bytes32\",\"name\":\"role\",\"type\":\"bytes32\"},{\"indexed\":true,\"internalType\":\"address\",\"name\":\"account\",\"type\":\"address\"},{\"indexed\":true,\"internalType\":\"address\",\"name\":\"sender\",\"type\":\"address\"}],\"name\":\"RoleRevoked\",\"type\":\"event\"},{\"anonymous\":false,\"inputs\":[{\"indexed\":true,\"internalType\":\"address\",\"name\":\"from\",\"type\":\"address\"},{\"indexed\":true,\"internalType\":\"address\",\"name\":\"to\",\"type\":\"address\"},{\"indexed\":true,\"internalType\":\"uint256\",\"name\":\"tokenId\",\"type\":\"uint256\"}],\"name\":\"Transfer\",\"type\":\"event\"},{\"anonymous\":false,\"inputs\":[{\"indexed\":false,\"internalType\":\"address\",\"name\":\"account\",\"type\":\"address\"}],\"name\":\"Unpaused\",\"type\":\"event\"},{\"inputs\":[{\"internalType\":\"uint256\",\"name\":\"startingWeiPrice\",\"type\":\"uint256\"},{\"internalType\":\"uint256\",\"name\":\"maxMint\",\"type\":\"uint256\"},{\"internalType\":\"uint256\",\"name\":\"royaltyPercentage\",\"type\":\"uint256\"}],\"name\":\"addSeries\",\"outputs\":[{\"internalType\":\"uint256\",\"name\":\"sid\",\"type\":\"uint256\"}],\"stateMutability\":\"nonpayable\",\"type\":\"function\"},{\"inputs\":[{\"internalType\":\"uint256\",\"name\":\"sid\",\"type\":\"uint256\"},{\"internalType\":\"string\",\"name\":\"_script\",\"type\":\"string\"}],\"name\":\"addSeriesScript\",\"outputs\":[],\"stateMutability\":\"nonpayable\",\"type\":\"function\"},{\"inputs\":[{\"internalType\":\"address\",\"name\":\"to\",\"type\":\"address\"},{\"internalType\":\"uint256\",\"name\":\"tokenId\",\"type\":\"uint256\"}],\"name\":\"approve\",\"outputs\":[],\"stateMutability\":\"nonpayable\",\"type\":\"function\"},{\"inputs\":[{\"internalType\":\"bytes32\",\"name\":\"role\",\"type\":\"bytes32\"},{\"internalType\":\"address\",\"name\":\"account\",\"type\":\"address\"}],\"name\":\"grantRole\",\"outputs\":[],\"stateMutability\":\"nonpayable\",\"type\":\"function\"},{\"inputs\":[{\"internalType\":\"uint256\",\"name\":\"sid\",\"type\":\"uint256\"}],\"name\":\"lockCodeForever\",\"outputs\":[],\"stateMutability\":\"nonpayable\",\"type\":\"function\"},{\"inputs\":[{\"internalType\":\"uint256\",\"name\":\"sid\",\"type\":\"uint256\"},{\"internalType\":\"address\",\"name\":\"to\",\"type\":\"address\"}],\"name\":\"minterMint\",\"outputs\":[],\"stateMutability\":\"nonpayable\",\"type\":\"function\"},{\"inputs\":[{\"internalType\":\"uint256\",\"name\":\"sid\",\"type\":\"uint256\"}],\"name\":\"purchase\",\"outputs\":[{\"internalType\":\"uint256\",\"name\":\"_tokenId\",\"type\":\"uint256\"}],\"stateMutability\":\"payable\",\"type\":\"function\"},{\"inputs\":[{\"internalType\":\"bytes32\",\"name\":\"role\",\"type\":\"bytes32\"},{\"internalType\":\"address\",\"name\":\"account\",\"type\":\"address\"}],\"name\":\"renounceRole\",\"outputs\":[],\"stateMutability\":\"nonpayable\",\"type\":\"function\"},{\"inputs\":[{\"internalType\":\"bytes32\",\"name\":\"role\",\"type\":\"bytes32\"},{\"internalType\":\"address\",\"name\":\"account\",\"type\":\"address\"}],\"name\":\"revokeRole\",\"outputs\":[],\"stateMutability\":\"nonpayable\",\"type\":\"function\"},{\"inputs\":[{\"internalType\":\"address\",\"name\":\"from\",\"type\":\"address\"},{\"internalType\":\"address\",\"name\":\"to\",\"type\":\"address\"},{\"internalType\":\"uint256\",\"name\":\"tokenId\",\"type\":\"uint256\"}],\"name\":\"safeTransferFrom\",\"outputs\":[],\"stateMutability\":\"nonpayable\",\"type\":\"function\"},{\"inputs\":[{\"internalType\":\"address\",\"name\":\"from\",\"type\":\"address\"},{\"internalType\":\"address\",\"name\":\"to\",\"type\":\"address\"},{\"internalType\":\"uint256\",\"name\":\"tokenId\",\"type\":\"uint256\"},{\"internalType\":\"bytes\",\"name\":\"_data\",\"type\":\"bytes\"}],\"name\":\"safeTransferFrom\",\"outputs\":[],\"stateMutability\":\"nonpayable\",\"type\":\"function\"},{\"inputs\":[{\"internalType\":\"bool\",\"name\":\"m\",\"type\":\"bool\"}],\"name\":\"setAllowInternalPurchases\",\"outputs\":[],\"stateMutability\":\"nonpayable\",\"type\":\"function\"},{\"inputs\":[{\"internalType\":\"address\",\"name\":\"operator\",\"type\":\"address\"},{\"internalType\":\"bool\",\"name\":\"approved\",\"type\":\"bool\"}],\"name\":\"setApprovalForAll\",\"outputs\":[],\"stateMutability\":\"nonpayable\",\"type\":\"function\"},{\"inputs\":[{\"internalType\":\"uint256\",\"name\":\"sid\",\"type\":\"uint256\"},{\"internalType\":\"uint256\",\"name\":\"m\",\"type\":\"uint256\"}],\"name\":\"setMaxMint\",\"outputs\":[],\"stateMutability\":\"nonpayable\",\"type\":\"function\"},{\"inputs\":[{\"internalType\":\"uint256\",\"name\":\"sid\",\"type\":\"uint256\"},{\"internalType\":\"uint256\",\"name\":\"m\",\"type\":\"uint256\"}],\"name\":\"setSecondaryMarketPercentage\",\"outputs\":[],\"stateMutability\":\"nonpayable\",\"type\":\"function\"},{\"inputs\":[{\"internalType\":\"uint256\",\"name\":\"sid\",\"type\":\"uint256\"},{\"internalType\":\"bool\",\"name\":\"m\",\"type\":\"bool\"}],\"name\":\"setSeriesPause\",\"outputs\":[],\"stateMutability\":\"nonpayable\",\"type\":\"function\"},{\"inputs\":[{\"internalType\":\"uint256\",\"name\":\"sid\",\"type\":\"uint256\"},{\"internalType\":\"uint256\",\"name\":\"p\",\"type\":\"uint256\"}],\"name\":\"setWeiPrice\",\"outputs\":[],\"stateMutability\":\"nonpayable\",\"type\":\"function\"},{\"inputs\":[{\"internalType\":\"address\",\"name\":\"from\",\"type\":\"address\"},{\"internalType\":\"address\",\"name\":\"to\",\"type\":\"address\"},{\"internalType\":\"uint256\",\"name\":\"tokenId\",\"type\":\"uint256\"}],\"name\":\"transferFrom\",\"outputs\":[],\"stateMutability\":\"nonpayable\",\"type\":\"function\"},{\"inputs\":[],\"stateMutability\":\"nonpayable\",\"type\":\"constructor\"},{\"inputs\":[{\"internalType\":\"uint256\",\"name\":\"sid\",\"type\":\"uint256\"},{\"internalType\":\"uint256\",\"name\":\"_scriptId\",\"type\":\"uint256\"},{\"internalType\":\"string\",\"name\":\"_script\",\"type\":\"string\"}],\"name\":\"updateSeriesScript\",\"outputs\":[],\"stateMutability\":\"nonpayable\",\"type\":\"function\"},{\"inputs\":[{\"internalType\":\"uint256\",\"name\":\"amount\",\"type\":\"uint256\"}],\"name\":\"withdraw\",\"outputs\":[],\"stateMutability\":\"nonpayable\",\"type\":\"function\"},{\"inputs\":[{\"internalType\":\"address\",\"name\":\"owner\",\"type\":\"address\"}],\"name\":\"balanceOf\",\"outputs\":[{\"internalType\":\"uint256\",\"name\":\"\",\"type\":\"uint256\"}],\"stateMutability\":\"view\",\"type\":\"function\"},{\"inputs\":[],\"name\":\"DEFAULT_ADMIN_ROLE\",\"outputs\":[{\"internalType\":\"bytes32\",\"name\":\"\",\"type\":\"bytes32\"}],\"stateMutability\":\"view\",\"type\":\"function\"},{\"inputs\":[{\"internalType\":\"uint256\",\"name\":\"tokenId\",\"type\":\"uint256\"}],\"name\":\"getApproved\",\"outputs\":[{\"internalType\":\"address\",\"name\":\"\",\"type\":\"address\"}],\"stateMutability\":\"view\",\"type\":\"function\"},{\"inputs\":[{\"internalType\":\"bytes32\",\"name\":\"role\",\"type\":\"bytes32\"}],\"name\":\"getRoleAdmin\",\"outputs\":[{\"internalType\":\"bytes32\",\"name\":\"\",\"type\":\"bytes32\"}],\"stateMutability\":\"view\",\"type\":\"function\"},{\"inputs\":[{\"internalType\":\"uint256\",\"name\":\"i\",\"type\":\"uint256\"},{\"internalType\":\"uint256\",\"name\":\"script_id\",\"type\":\"uint256\"}],\"name\":\"getSeries\",\"outputs\":[{\"internalType\":\"string\",\"name\":\"script\",\"type\":\"string\"},{\"internalType\":\"uint256\",\"name\":\"numCodeLocations\",\"type\":\"uint256\"},{\"internalType\":\"uint256\",\"name\":\"numMint\",\"type\":\"uint256\"},{\"internalType\":\"uint256\",\"name\":\"maxMint\",\"type\":\"uint256\"},{\"internalType\":\"uint256\",\"name\":\"curPricePerToken\",\"type\":\"uint256\"},{\"internalType\":\"uint256\",\"name\":\"royaltyPercentage\",\"type\":\"uint256\"},{\"internalType\":\"bool\",\"name\":\"paused\",\"type\":\"bool\"},{\"internalType\":\"bool\",\"name\":\"locked\",\"type\":\"bool\"}],\"stateMutability\":\"view\",\"type\":\"function\"},{\"inputs\":[{\"internalType\":\"uint256\",\"name\":\"i\",\"type\":\"uint256\"}],\"name\":\"getTokenParams\",\"outputs\":[{\"internalType\":\"bytes32\",\"name\":\"seed\",\"type\":\"bytes32\"},{\"internalType\":\"string\",\"name\":\"codeLocation0\",\"type\":\"string\"},{\"internalType\":\"uint256\",\"name\":\"seriesID\",\"type\":\"uint256\"},{\"internalType\":\"uint256\",\"name\":\"royaltyPercentage\",\"type\":\"uint256\"},{\"internalType\":\"uint32\",\"name\":\"nTrades\",\"type\":\"uint32\"}],\"stateMutability\":\"view\",\"type\":\"function\"},{\"inputs\":[{\"internalType\":\"bytes32\",\"name\":\"role\",\"type\":\"bytes32\"},{\"internalType\":\"address\",\"name\":\"account\",\"type\":\"address\"}],\"name\":\"hasRole\",\"outputs\":[{\"internalType\":\"bool\",\"name\":\"\",\"type\":\"bool\"}],\"stateMutability\":\"view\",\"type\":\"function\"},{\"inputs\":[{\"internalType\":\"address\",\"name\":\"owner\",\"type\":\"address\"},{\"internalType\":\"address\",\"name\":\"operator\",\"type\":\"address\"}],\"name\":\"isApprovedForAll\",\"outputs\":[{\"internalType\":\"bool\",\"name\":\"\",\"type\":\"bool\"}],\"stateMutability\":\"view\",\"type\":\"function\"},{\"inputs\":[],\"name\":\"MINTER_ROLE\",\"outputs\":[{\"internalType\":\"bytes32\",\"name\":\"\",\"type\":\"bytes32\"}],\"stateMutability\":\"view\",\"type\":\"function\"},{\"inputs\":[],\"name\":\"name\",\"outputs\":[{\"internalType\":\"string\",\"name\":\"\",\"type\":\"string\"}],\"stateMutability\":\"view\",\"type\":\"function\"},{\"inputs\":[],\"name\":\"numSeries\",\"outputs\":[{\"internalType\":\"uint256\",\"name\":\"\",\"type\":\"uint256\"}],\"stateMutability\":\"view\",\"type\":\"function\"},{\"inputs\":[{\"internalType\":\"uint256\",\"name\":\"tokenId\",\"type\":\"uint256\"}],\"name\":\"ownerOf\",\"outputs\":[{\"internalType\":\"address\",\"name\":\"\",\"type\":\"address\"}],\"stateMutability\":\"view\",\"type\":\"function\"},{\"inputs\":[],\"name\":\"paused\",\"outputs\":[{\"internalType\":\"bool\",\"name\":\"\",\"type\":\"bool\"}],\"stateMutability\":\"view\",\"type\":\"function\"},{\"inputs\":[{\"internalType\":\"uint256\",\"name\":\"sid\",\"type\":\"uint256\"}],\"name\":\"showAllTokensPerSeries\",\"outputs\":[{\"internalType\":\"uint256[]\",\"name\":\"\",\"type\":\"uint256[]\"}],\"stateMutability\":\"view\",\"type\":\"function\"},{\"inputs\":[{\"internalType\":\"bytes4\",\"name\":\"interfaceId\",\"type\":\"bytes4\"}],\"name\":\"supportsInterface\",\"outputs\":[{\"internalType\":\"bool\",\"name\":\"\",\"type\":\"bool\"}],\"stateMutability\":\"view\",\"type\":\"function\"},{\"inputs\":[],\"name\":\"symbol\",\"outputs\":[{\"internalType\":\"string\",\"name\":\"\",\"type\":\"string\"}],\"stateMutability\":\"view\",\"type\":\"function\"},{\"inputs\":[{\"internalType\":\"uint256\",\"name\":\"index\",\"type\":\"uint256\"}],\"name\":\"tokenByIndex\",\"outputs\":[{\"internalType\":\"uint256\",\"name\":\"\",\"type\":\"uint256\"}],\"stateMutability\":\"view\",\"type\":\"function\"},{\"inputs\":[{\"internalType\":\"address\",\"name\":\"owner\",\"type\":\"address\"},{\"internalType\":\"uint256\",\"name\":\"index\",\"type\":\"uint256\"}],\"name\":\"tokenOfOwnerByIndex\",\"outputs\":[{\"internalType\":\"uint256\",\"name\":\"\",\"type\":\"uint256\"}],\"stateMutability\":\"view\",\"type\":\"function\"},{\"inputs\":[{\"internalType\":\"address\",\"name\":\"owner\",\"type\":\"address\"}],\"name\":\"tokensOfOwner\",\"outputs\":[{\"internalType\":\"uint256[]\",\"name\":\"\",\"type\":\"uint256[]\"}],\"stateMutability\":\"view\",\"type\":\"function\"},{\"inputs\":[{\"internalType\":\"uint256\",\"name\":\"tokenId\",\"type\":\"uint256\"}],\"name\":\"tokenURI\",\"outputs\":[{\"internalType\":\"string\",\"name\":\"\",\"type\":\"string\"}],\"stateMutability\":\"view\",\"type\":\"function\"},{\"inputs\":[],\"name\":\"totalSupply\",\"outputs\":[{\"internalType\":\"uint256\",\"name\":\"\",\"type\":\"uint256\"}],\"stateMutability\":\"view\",\"type\":\"function\"}]');\n",
    "contactAddress = '0x08222d81A220d39dD3012668a94b62Cc653AD273'\n",
    "      \n",
    "sc = w3.eth.contract(abi=abi, address=contactAddress)"
   ]
  },
  {
   "cell_type": "code",
   "execution_count": 14,
   "metadata": {},
   "outputs": [],
   "source": []
  },
  {
   "cell_type": "code",
   "execution_count": 15,
   "metadata": {},
   "outputs": [],
   "source": [
    "from web3.auto.infura import w3\n",
    "addr= \"0xd754937672300Ae6708a51229112dE4017810934\"\n",
    "abi = json.loads('[    {      \"inputs\": [        {          \"internalType\": \"string\",          \"name\": \"name\",          \"type\": \"string\"        },        {          \"internalType\": \"string\",          \"name\": \"symbol\",          \"type\": \"string\"        },        {          \"internalType\": \"string\",          \"name\": \"baseURI\",          \"type\": \"string\"        }      ],      \"stateMutability\": \"nonpayable\",      \"type\": \"constructor\"    },    {      \"anonymous\": false,      \"inputs\": [        {          \"indexed\": true,          \"internalType\": \"address\",          \"name\": \"owner\",          \"type\": \"address\"        },        {          \"indexed\": true,          \"internalType\": \"address\",          \"name\": \"approved\",          \"type\": \"address\"        },        {          \"indexed\": true,          \"internalType\": \"uint256\",          \"name\": \"tokenId\",          \"type\": \"uint256\"        }      ],      \"name\": \"Approval\",      \"type\": \"event\"    },    {      \"anonymous\": false,      \"inputs\": [        {          \"indexed\": true,          \"internalType\": \"address\",          \"name\": \"owner\",          \"type\": \"address\"        },        {          \"indexed\": true,          \"internalType\": \"address\",          \"name\": \"operator\",          \"type\": \"address\"        },        {          \"indexed\": false,          \"internalType\": \"bool\",          \"name\": \"approved\",          \"type\": \"bool\"        }      ],      \"name\": \"ApprovalForAll\",      \"type\": \"event\"    },    {      \"anonymous\": false,      \"inputs\": [        {          \"indexed\": true,          \"internalType\": \"bytes32\",          \"name\": \"role\",          \"type\": \"bytes32\"        },        {          \"indexed\": true,          \"internalType\": \"bytes32\",          \"name\": \"previousAdminRole\",          \"type\": \"bytes32\"        },        {          \"indexed\": true,          \"internalType\": \"bytes32\",          \"name\": \"newAdminRole\",          \"type\": \"bytes32\"        }      ],      \"name\": \"RoleAdminChanged\",      \"type\": \"event\"    },    {      \"anonymous\": false,      \"inputs\": [        {          \"indexed\": true,          \"internalType\": \"bytes32\",          \"name\": \"role\",          \"type\": \"bytes32\"        },        {          \"indexed\": true,          \"internalType\": \"address\",          \"name\": \"account\",          \"type\": \"address\"        },        {          \"indexed\": true,          \"internalType\": \"address\",          \"name\": \"sender\",          \"type\": \"address\"        }      ],      \"name\": \"RoleGranted\",      \"type\": \"event\"    },    {      \"anonymous\": false,      \"inputs\": [        {          \"indexed\": true,          \"internalType\": \"bytes32\",          \"name\": \"role\",          \"type\": \"bytes32\"        },        {          \"indexed\": true,          \"internalType\": \"address\",          \"name\": \"account\",          \"type\": \"address\"        },        {          \"indexed\": true,          \"internalType\": \"address\",          \"name\": \"sender\",          \"type\": \"address\"        }      ],      \"name\": \"RoleRevoked\",      \"type\": \"event\"    },    {      \"anonymous\": false,      \"inputs\": [        {          \"indexed\": true,          \"internalType\": \"address\",          \"name\": \"from\",          \"type\": \"address\"        },        {          \"indexed\": true,          \"internalType\": \"address\",          \"name\": \"to\",          \"type\": \"address\"        },        {          \"indexed\": true,          \"internalType\": \"uint256\",          \"name\": \"tokenId\",          \"type\": \"uint256\"        }      ],      \"name\": \"Transfer\",      \"type\": \"event\"    },    {      \"inputs\": [],      \"name\": \"DEFAULT_ADMIN_ROLE\",      \"outputs\": [        {          \"internalType\": \"bytes32\",          \"name\": \"\",          \"type\": \"bytes32\"        }      ],      \"stateMutability\": \"view\",      \"type\": \"function\",      \"constant\": true    },    {      \"inputs\": [],      \"name\": \"MINTER_ROLE\",      \"outputs\": [        {          \"internalType\": \"bytes32\",          \"name\": \"\",          \"type\": \"bytes32\"        }      ],      \"stateMutability\": \"view\",      \"type\": \"function\",      \"constant\": true    },    {      \"inputs\": [        {          \"internalType\": \"address\",          \"name\": \"to\",          \"type\": \"address\"        },        {          \"internalType\": \"uint256\",          \"name\": \"tokenId\",          \"type\": \"uint256\"        }      ],      \"name\": \"approve\",      \"outputs\": [],      \"stateMutability\": \"nonpayable\",      \"type\": \"function\"    },    {      \"inputs\": [        {          \"internalType\": \"address\",          \"name\": \"owner\",          \"type\": \"address\"        }      ],      \"name\": \"balanceOf\",      \"outputs\": [        {          \"internalType\": \"uint256\",          \"name\": \"\",          \"type\": \"uint256\"        }      ],      \"stateMutability\": \"view\",      \"type\": \"function\",      \"constant\": true    },    {      \"inputs\": [],      \"name\": \"baseURI\",      \"outputs\": [        {          \"internalType\": \"string\",          \"name\": \"\",          \"type\": \"string\"        }      ],      \"stateMutability\": \"view\",      \"type\": \"function\",      \"constant\": true    },    {      \"inputs\": [        {          \"internalType\": \"uint256\",          \"name\": \"tokenId\",          \"type\": \"uint256\"        }      ],      \"name\": \"getApproved\",      \"outputs\": [        {          \"internalType\": \"address\",          \"name\": \"\",          \"type\": \"address\"        }      ],      \"stateMutability\": \"view\",      \"type\": \"function\",      \"constant\": true    },    {      \"inputs\": [        {          \"internalType\": \"bytes32\",          \"name\": \"role\",          \"type\": \"bytes32\"        }      ],      \"name\": \"getRoleAdmin\",      \"outputs\": [        {          \"internalType\": \"bytes32\",          \"name\": \"\",          \"type\": \"bytes32\"        }      ],      \"stateMutability\": \"view\",      \"type\": \"function\",      \"constant\": true    },    {      \"inputs\": [        {          \"internalType\": \"bytes32\",          \"name\": \"role\",          \"type\": \"bytes32\"        },        {          \"internalType\": \"uint256\",          \"name\": \"index\",          \"type\": \"uint256\"        }      ],      \"name\": \"getRoleMember\",      \"outputs\": [        {          \"internalType\": \"address\",          \"name\": \"\",          \"type\": \"address\"        }      ],      \"stateMutability\": \"view\",      \"type\": \"function\",      \"constant\": true    },    {      \"inputs\": [        {          \"internalType\": \"bytes32\",          \"name\": \"role\",          \"type\": \"bytes32\"        }      ],      \"name\": \"getRoleMemberCount\",      \"outputs\": [        {          \"internalType\": \"uint256\",          \"name\": \"\",          \"type\": \"uint256\"        }      ],      \"stateMutability\": \"view\",      \"type\": \"function\",      \"constant\": true    },    {      \"inputs\": [        {          \"internalType\": \"bytes32\",          \"name\": \"role\",          \"type\": \"bytes32\"        },        {          \"internalType\": \"address\",          \"name\": \"account\",          \"type\": \"address\"        }      ],      \"name\": \"grantRole\",      \"outputs\": [],      \"stateMutability\": \"nonpayable\",      \"type\": \"function\"    },    {      \"inputs\": [        {          \"internalType\": \"bytes32\",          \"name\": \"role\",          \"type\": \"bytes32\"        },        {          \"internalType\": \"address\",          \"name\": \"account\",          \"type\": \"address\"        }      ],      \"name\": \"hasRole\",      \"outputs\": [        {          \"internalType\": \"bool\",          \"name\": \"\",          \"type\": \"bool\"        }      ],      \"stateMutability\": \"view\",      \"type\": \"function\",      \"constant\": true    },    {      \"inputs\": [        {          \"internalType\": \"address\",          \"name\": \"owner\",          \"type\": \"address\"        },        {          \"internalType\": \"address\",          \"name\": \"operator\",          \"type\": \"address\"        }      ],      \"name\": \"isApprovedForAll\",      \"outputs\": [        {          \"internalType\": \"bool\",          \"name\": \"\",          \"type\": \"bool\"        }      ],      \"stateMutability\": \"view\",      \"type\": \"function\",      \"constant\": true    },    {      \"inputs\": [],      \"name\": \"name\",      \"outputs\": [        {          \"internalType\": \"string\",          \"name\": \"\",          \"type\": \"string\"        }      ],      \"stateMutability\": \"view\",      \"type\": \"function\",      \"constant\": true    },    {      \"inputs\": [],      \"name\": \"numSeries\",      \"outputs\": [        {          \"internalType\": \"uint256\",          \"name\": \"\",          \"type\": \"uint256\"        }      ],      \"stateMutability\": \"view\",      \"type\": \"function\",      \"constant\": true    },    {      \"inputs\": [        {          \"internalType\": \"uint256\",          \"name\": \"tokenId\",          \"type\": \"uint256\"        }      ],      \"name\": \"ownerOf\",      \"outputs\": [        {          \"internalType\": \"address\",          \"name\": \"\",          \"type\": \"address\"        }      ],      \"stateMutability\": \"view\",      \"type\": \"function\",      \"constant\": true    },    {      \"inputs\": [        {          \"internalType\": \"bytes32\",          \"name\": \"role\",          \"type\": \"bytes32\"        },        {          \"internalType\": \"address\",          \"name\": \"account\",          \"type\": \"address\"        }      ],      \"name\": \"renounceRole\",      \"outputs\": [],      \"stateMutability\": \"nonpayable\",      \"type\": \"function\"    },    {      \"inputs\": [        {          \"internalType\": \"bytes32\",          \"name\": \"role\",          \"type\": \"bytes32\"        },        {          \"internalType\": \"address\",          \"name\": \"account\",          \"type\": \"address\"        }      ],      \"name\": \"revokeRole\",      \"outputs\": [],      \"stateMutability\": \"nonpayable\",      \"type\": \"function\"    },    {      \"inputs\": [        {          \"internalType\": \"address\",          \"name\": \"from\",          \"type\": \"address\"        },        {          \"internalType\": \"address\",          \"name\": \"to\",          \"type\": \"address\"        },        {          \"internalType\": \"uint256\",          \"name\": \"tokenId\",          \"type\": \"uint256\"        }      ],      \"name\": \"safeTransferFrom\",      \"outputs\": [],      \"stateMutability\": \"nonpayable\",      \"type\": \"function\"    },    {      \"inputs\": [        {          \"internalType\": \"address\",          \"name\": \"from\",          \"type\": \"address\"        },        {          \"internalType\": \"address\",          \"name\": \"to\",          \"type\": \"address\"        },        {          \"internalType\": \"uint256\",          \"name\": \"tokenId\",          \"type\": \"uint256\"        },        {          \"internalType\": \"bytes\",          \"name\": \"_data\",          \"type\": \"bytes\"        }      ],      \"name\": \"safeTransferFrom\",      \"outputs\": [],      \"stateMutability\": \"nonpayable\",      \"type\": \"function\"    },    {      \"inputs\": [        {          \"internalType\": \"address\",          \"name\": \"operator\",          \"type\": \"address\"        },        {          \"internalType\": \"bool\",          \"name\": \"approved\",          \"type\": \"bool\"        }      ],      \"name\": \"setApprovalForAll\",      \"outputs\": [],      \"stateMutability\": \"nonpayable\",      \"type\": \"function\"    },    {      \"inputs\": [        {          \"internalType\": \"bytes4\",          \"name\": \"interfaceId\",          \"type\": \"bytes4\"        }      ],      \"name\": \"supportsInterface\",      \"outputs\": [        {          \"internalType\": \"bool\",          \"name\": \"\",          \"type\": \"bool\"        }      ],      \"stateMutability\": \"view\",      \"type\": \"function\",      \"constant\": true    },    {      \"inputs\": [],      \"name\": \"symbol\",      \"outputs\": [        {          \"internalType\": \"string\",          \"name\": \"\",          \"type\": \"string\"        }      ],      \"stateMutability\": \"view\",      \"type\": \"function\",      \"constant\": true    },    {      \"inputs\": [        {          \"internalType\": \"uint256\",          \"name\": \"index\",          \"type\": \"uint256\"        }      ],      \"name\": \"tokenByIndex\",      \"outputs\": [        {          \"internalType\": \"uint256\",          \"name\": \"\",          \"type\": \"uint256\"        }      ],      \"stateMutability\": \"view\",      \"type\": \"function\",      \"constant\": true    },    {      \"inputs\": [        {          \"internalType\": \"address\",          \"name\": \"owner\",          \"type\": \"address\"        },        {          \"internalType\": \"uint256\",          \"name\": \"index\",          \"type\": \"uint256\"        }      ],      \"name\": \"tokenOfOwnerByIndex\",      \"outputs\": [        {          \"internalType\": \"uint256\",          \"name\": \"\",          \"type\": \"uint256\"        }      ],      \"stateMutability\": \"view\",      \"type\": \"function\",      \"constant\": true    },    {      \"inputs\": [        {          \"internalType\": \"uint256\",          \"name\": \"tokenId\",          \"type\": \"uint256\"        }      ],      \"name\": \"tokenURI\",      \"outputs\": [        {          \"internalType\": \"string\",          \"name\": \"\",          \"type\": \"string\"        }      ],      \"stateMutability\": \"view\",      \"type\": \"function\",      \"constant\": true    },    {      \"inputs\": [],      \"name\": \"totalSupply\",      \"outputs\": [        {          \"internalType\": \"uint256\",          \"name\": \"\",          \"type\": \"uint256\"        }      ],      \"stateMutability\": \"view\",      \"type\": \"function\",      \"constant\": true    },    {      \"inputs\": [        {          \"internalType\": \"address\",          \"name\": \"from\",          \"type\": \"address\"        },        {          \"internalType\": \"address\",          \"name\": \"to\",          \"type\": \"address\"        },        {          \"internalType\": \"uint256\",          \"name\": \"tokenId\",          \"type\": \"uint256\"        }      ],      \"name\": \"transferFrom\",      \"outputs\": [],      \"stateMutability\": \"nonpayable\",      \"type\": \"function\"    },    {      \"inputs\": [        {          \"internalType\": \"uint256\",          \"name\": \"sid\",          \"type\": \"uint256\"        },        {          \"internalType\": \"uint256\",          \"name\": \"m\",          \"type\": \"uint256\"        }      ],      \"name\": \"setMaxMint\",      \"outputs\": [],      \"stateMutability\": \"nonpayable\",      \"type\": \"function\"    },    {      \"inputs\": [        {          \"internalType\": \"uint256\",          \"name\": \"sid\",          \"type\": \"uint256\"        },        {          \"internalType\": \"uint32\",          \"name\": \"n\",          \"type\": \"uint32\"        }      ],      \"name\": \"setNumCodeLocations\",      \"outputs\": [],      \"stateMutability\": \"nonpayable\",      \"type\": \"function\"    },    {      \"inputs\": [        {          \"internalType\": \"uint256\",          \"name\": \"sid\",          \"type\": \"uint256\"        },        {          \"internalType\": \"uint256\",          \"name\": \"i\",          \"type\": \"uint256\"        },        {          \"internalType\": \"bytes32\",          \"name\": \"txhash\",          \"type\": \"bytes32\"        }      ],      \"name\": \"setCodeLocation\",      \"outputs\": [],      \"stateMutability\": \"nonpayable\",      \"type\": \"function\"    },    {      \"inputs\": [        {          \"internalType\": \"uint256\",          \"name\": \"sid\",          \"type\": \"uint256\"        },        {          \"internalType\": \"uint256\",          \"name\": \"i\",          \"type\": \"uint256\"        },        {          \"internalType\": \"uint32\",          \"name\": \"v\",          \"type\": \"uint32\"        }      ],      \"name\": \"setSeriesParam\",      \"outputs\": [],      \"stateMutability\": \"nonpayable\",      \"type\": \"function\"    },    {      \"inputs\": [        {          \"internalType\": \"uint256\",          \"name\": \"tokenID\",          \"type\": \"uint256\"        },        {          \"internalType\": \"uint256\",          \"name\": \"i\",          \"type\": \"uint256\"        },        {          \"internalType\": \"uint32\",          \"name\": \"v\",          \"type\": \"uint32\"        }      ],      \"name\": \"setTokenParam\",      \"outputs\": [],      \"stateMutability\": \"nonpayable\",      \"type\": \"function\"    },    {      \"inputs\": [        {          \"internalType\": \"uint256\",          \"name\": \"i\",          \"type\": \"uint256\"        }      ],      \"name\": \"getTokenParams\",      \"outputs\": [        {          \"internalType\": \"bytes32\",          \"name\": \"seed\",          \"type\": \"bytes32\"        },        {          \"internalType\": \"bytes32\",          \"name\": \"codeLocation0\",          \"type\": \"bytes32\"        },        {          \"internalType\": \"uint256\",          \"name\": \"seriesID\",          \"type\": \"uint256\"        },        {          \"internalType\": \"uint32\",          \"name\": \"p0\",          \"type\": \"uint32\"        },        {          \"internalType\": \"uint32\",          \"name\": \"p1\",          \"type\": \"uint32\"        },        {          \"internalType\": \"uint32\",          \"name\": \"p2\",          \"type\": \"uint32\"        },        {          \"internalType\": \"uint32\",          \"name\": \"p3\",          \"type\": \"uint32\"        },        {          \"internalType\": \"uint32\",          \"name\": \"p4\",          \"type\": \"uint32\"        },        {          \"internalType\": \"uint32\",          \"name\": \"p5\",          \"type\": \"uint32\"        },        {          \"internalType\": \"uint32\",          \"name\": \"p6\",          \"type\": \"uint32\"        },        {          \"internalType\": \"uint32\",          \"name\": \"p7\",          \"type\": \"uint32\"        }      ],      \"stateMutability\": \"view\",      \"type\": \"function\",      \"constant\": true    },    {      \"inputs\": [        {          \"internalType\": \"uint256\",          \"name\": \"i\",          \"type\": \"uint256\"        }      ],      \"name\": \"getSeriesParams\",      \"outputs\": [        {          \"internalType\": \"uint32\",          \"name\": \"p0\",          \"type\": \"uint32\"        },        {          \"internalType\": \"uint32\",          \"name\": \"p1\",          \"type\": \"uint32\"        },        {          \"internalType\": \"uint32\",          \"name\": \"p2\",          \"type\": \"uint32\"        },        {          \"internalType\": \"uint32\",          \"name\": \"p3\",          \"type\": \"uint32\"        },        {          \"internalType\": \"uint32\",          \"name\": \"p4\",          \"type\": \"uint32\"        },        {          \"internalType\": \"uint32\",          \"name\": \"p5\",          \"type\": \"uint32\"        },        {          \"internalType\": \"uint32\",          \"name\": \"p6\",          \"type\": \"uint32\"        },        {          \"internalType\": \"uint32\",          \"name\": \"p7\",          \"type\": \"uint32\"        }      ],      \"stateMutability\": \"view\",      \"type\": \"function\",      \"constant\": true    },    {      \"inputs\": [        {          \"internalType\": \"uint256\",          \"name\": \"i\",          \"type\": \"uint256\"        }      ],      \"name\": \"getSeries\",      \"outputs\": [        {          \"internalType\": \"bytes32\",          \"name\": \"codeLocation0\",          \"type\": \"bytes32\"        },        {          \"internalType\": \"uint256\",          \"name\": \"numCodeLocations\",          \"type\": \"uint256\"        },        {          \"internalType\": \"uint256\",          \"name\": \"numMint\",          \"type\": \"uint256\"        },        {          \"internalType\": \"uint256\",          \"name\": \"maxMint\",          \"type\": \"uint256\"        },        {          \"internalType\": \"uint256\",          \"name\": \"curPricePerToken\",          \"type\": \"uint256\"        },        {          \"internalType\": \"bool\",          \"name\": \"paused\",          \"type\": \"bool\"        },        {          \"internalType\": \"bool\",          \"name\": \"locked\",          \"type\": \"bool\"        }      ],      \"stateMutability\": \"view\",      \"type\": \"function\",      \"constant\": true    },    {      \"inputs\": [        {          \"internalType\": \"uint256\",          \"name\": \"sid\",          \"type\": \"uint256\"        },        {          \"internalType\": \"uint256\",          \"name\": \"i\",          \"type\": \"uint256\"        }      ],      \"name\": \"getCodeLocation\",      \"outputs\": [        {          \"internalType\": \"bytes32\",          \"name\": \"txhash\",          \"type\": \"bytes32\"        }      ],      \"stateMutability\": \"view\",      \"type\": \"function\",      \"constant\": true    },    {      \"inputs\": [],      \"name\": \"addSeries\",      \"outputs\": [        {          \"internalType\": \"uint256\",          \"name\": \"sid\",          \"type\": \"uint256\"        }      ],      \"stateMutability\": \"nonpayable\",      \"type\": \"function\"    },    {      \"inputs\": [        {          \"internalType\": \"uint256\",          \"name\": \"sid\",          \"type\": \"uint256\"        },        {          \"internalType\": \"uint256\",          \"name\": \"p\",          \"type\": \"uint256\"        }      ],      \"name\": \"setPrice\",      \"outputs\": [],      \"stateMutability\": \"nonpayable\",      \"type\": \"function\"    },    {      \"inputs\": [        {          \"internalType\": \"bool\",          \"name\": \"m\",          \"type\": \"bool\"        }      ],      \"name\": \"setAllowInternalPurchases\",      \"outputs\": [],      \"stateMutability\": \"nonpayable\",      \"type\": \"function\"    },    {      \"inputs\": [        {          \"internalType\": \"uint256\",          \"name\": \"sid\",          \"type\": \"uint256\"        },        {          \"internalType\": \"bool\",          \"name\": \"m\",          \"type\": \"bool\"        }      ],      \"name\": \"setPaused\",      \"outputs\": [],      \"stateMutability\": \"nonpayable\",      \"type\": \"function\"    },    {      \"inputs\": [        {          \"internalType\": \"uint256\",          \"name\": \"sid\",          \"type\": \"uint256\"        }      ],      \"name\": \"lockCodeForever\",      \"outputs\": [],      \"stateMutability\": \"nonpayable\",      \"type\": \"function\"    },    {      \"inputs\": [        {          \"internalType\": \"uint256\",          \"name\": \"amount\",          \"type\": \"uint256\"        }      ],      \"name\": \"withdraw\",      \"outputs\": [],      \"stateMutability\": \"nonpayable\",      \"type\": \"function\"    },    {      \"inputs\": [        {          \"internalType\": \"string\",          \"name\": \"baseURI\",          \"type\": \"string\"        }      ],      \"name\": \"setBaseURI\",      \"outputs\": [],      \"stateMutability\": \"nonpayable\",      \"type\": \"function\"    },    {      \"inputs\": [        {          \"internalType\": \"uint256\",          \"name\": \"sid\",          \"type\": \"uint256\"        },        {          \"internalType\": \"address\",          \"name\": \"to\",          \"type\": \"address\"        }      ],      \"name\": \"mint\",      \"outputs\": [        {          \"internalType\": \"uint256\",          \"name\": \"_tokenId\",          \"type\": \"uint256\"        }      ],      \"stateMutability\": \"nonpayable\",      \"type\": \"function\"    },    {      \"inputs\": [        {          \"internalType\": \"uint256\",          \"name\": \"sid\",          \"type\": \"uint256\"        }      ],      \"name\": \"purchase\",      \"outputs\": [        {          \"internalType\": \"uint256\",          \"name\": \"_tokenId\",          \"type\": \"uint256\"        }      ],      \"stateMutability\": \"payable\",      \"type\": \"function\",      \"payable\": true    },    {      \"inputs\": [        {          \"internalType\": \"uint256\",          \"name\": \"sid\",          \"type\": \"uint256\"        },        {          \"internalType\": \"address\",          \"name\": \"_to\",          \"type\": \"address\"        }      ],      \"name\": \"purchaseTo\",      \"outputs\": [        {          \"internalType\": \"uint256\",          \"name\": \"_tokenId\",          \"type\": \"uint256\"        }      ],      \"stateMutability\": \"payable\",      \"type\": \"function\",      \"payable\": true    }    ]')\n",
    "sc = w3.eth.contract(abi=abi, address=addr)"
   ]
  },
  {
   "cell_type": "code",
   "execution_count": 16,
   "metadata": {},
   "outputs": [
    {
     "name": "stdout",
     "output_type": "stream",
     "text": [
      "DEFAULT_ADMIN_ROLE\n",
      "MINTER_ROLE\n",
      "approve\n",
      "balanceOf\n",
      "baseURI\n",
      "getApproved\n",
      "getRoleAdmin\n",
      "getRoleMember\n",
      "getRoleMemberCount\n",
      "grantRole\n",
      "hasRole\n",
      "isApprovedForAll\n",
      "name\n",
      "numSeries\n",
      "ownerOf\n",
      "renounceRole\n",
      "revokeRole\n",
      "safeTransferFrom\n",
      "safeTransferFrom\n",
      "setApprovalForAll\n",
      "supportsInterface\n",
      "symbol\n",
      "tokenByIndex\n",
      "tokenOfOwnerByIndex\n",
      "tokenURI\n",
      "totalSupply\n",
      "transferFrom\n",
      "setMaxMint\n",
      "setNumCodeLocations\n",
      "setCodeLocation\n",
      "setSeriesParam\n",
      "setTokenParam\n",
      "getTokenParams\n",
      "getSeriesParams\n",
      "getSeries\n",
      "getCodeLocation\n",
      "addSeries\n",
      "setPrice\n",
      "setAllowInternalPurchases\n",
      "setPaused\n",
      "lockCodeForever\n",
      "withdraw\n",
      "setBaseURI\n",
      "mint\n",
      "purchase\n",
      "purchaseTo\n"
     ]
    }
   ],
   "source": [
    "for f in sc.functions:\n",
    "    print(f)"
   ]
  },
  {
   "cell_type": "code",
   "execution_count": 19,
   "metadata": {},
   "outputs": [
    {
     "data": {
      "text/plain": [
       "'https://www.deafbeef.com/tokens/0'"
      ]
     },
     "execution_count": 19,
     "metadata": {},
     "output_type": "execute_result"
    }
   ],
   "source": [
    "sc.functions.tokenURI(0).call()"
   ]
  },
  {
   "cell_type": "code",
   "execution_count": 7,
   "metadata": {},
   "outputs": [
    {
     "name": "stdout",
     "output_type": "stream",
     "text": [
      "<class 'web3._utils.datatypes.Approval'>\n",
      "<class 'web3._utils.datatypes.ApprovalForAll'>\n",
      "<class 'web3._utils.datatypes.Mint'>\n",
      "<class 'web3._utils.datatypes.Paused'>\n",
      "<class 'web3._utils.datatypes.RoleAdminChanged'>\n",
      "<class 'web3._utils.datatypes.RoleGranted'>\n",
      "<class 'web3._utils.datatypes.RoleRevoked'>\n",
      "<class 'web3._utils.datatypes.Transfer'>\n",
      "<class 'web3._utils.datatypes.Unpaused'>\n"
     ]
    }
   ],
   "source": [
    "for e in sc.events:\n",
    "    print(e)"
   ]
  },
  {
   "cell_type": "code",
   "execution_count": 40,
   "metadata": {},
   "outputs": [
    {
     "data": {
      "text/plain": [
       "[0, 1, 2, 3, 4, 5, 6, 7, 8, 9, 10, 11, 12, 13]"
      ]
     },
     "execution_count": 40,
     "metadata": {},
     "output_type": "execute_result"
    }
   ],
   "source": [
    "# getting all of the tokens that have been made for a series. \n",
    "\n",
    "sid = 0\n",
    "seriesName = \"SpikeBall\"\n",
    "seriesTokens = sc.functions.showAllTokensPerSeries(sid).call()\n",
    "seriesTokens"
   ]
  },
  {
   "cell_type": "code",
   "execution_count": 41,
   "metadata": {},
   "outputs": [
    {
     "data": {
      "text/plain": [
       "[1, 0, 2, 3, 7, 6, 4, 5, 8, 9, 10]"
      ]
     },
     "execution_count": 41,
     "metadata": {},
     "output_type": "execute_result"
    }
   ],
   "source": [
    "import glob\n",
    "# seeing what tokens are already on the website: \n",
    "vids = glob.glob(\"assets/vids/*\")\n",
    "tokens_gend = []\n",
    "for v in vids: \n",
    "    tokens_gend.append( int(v.split('.mp4')[0].split(' ')[-1]))\n",
    "tokens_gend   "
   ]
  },
  {
   "cell_type": "code",
   "execution_count": 42,
   "metadata": {},
   "outputs": [
    {
     "data": {
      "text/plain": [
       "[11, 12, 13]"
      ]
     },
     "execution_count": 42,
     "metadata": {},
     "output_type": "execute_result"
    }
   ],
   "source": [
    "ungen_tokens = list(set(seriesTokens) - set(tokens_gend))\n",
    "ungen_tokens"
   ]
  },
  {
   "cell_type": "code",
   "execution_count": 43,
   "metadata": {},
   "outputs": [],
   "source": [
    "tdict = {}\n",
    "with open(\"_data/works.yml\", 'a') as file: \n",
    "    for tid in ungen_tokens:\n",
    "        tp = sc.functions.getTokenParams(tid).call()\n",
    "        seed = Web3.toHex(tp[0])\n",
    "        ntrades = tp[4]\n",
    "        owner = sc.functions.ownerOf(tid).call()\n",
    "        link = \"/\"+seriesName+\"-\"+str(tid)+\"/\"\n",
    "        \n",
    "        file.write(seriesName+' '+str(tid)+':'+'\\n')\n",
    "        file.write('  '+'link: '+link+'\\n')\n",
    "        file.write('  '+'owner: \\\"'+owner+'\\\"\\n')\n",
    "        file.write('  '+'seed: \\\"'+str(seed)+'\\\"\\n')\n",
    "        file.write('  '+'nTransactions: '+str(ntrades)+'\\n')\n",
    "        tdict[tid]=seed\n",
    "        "
   ]
  },
  {
   "cell_type": "code",
   "execution_count": 44,
   "metadata": {},
   "outputs": [
    {
     "data": {
      "text/plain": [
       "str"
      ]
     },
     "execution_count": 44,
     "metadata": {},
     "output_type": "execute_result"
    }
   ],
   "source": [
    "type(owner)"
   ]
  },
  {
   "cell_type": "code",
   "execution_count": 45,
   "metadata": {},
   "outputs": [],
   "source": [
    "for tid in ungen_tokens:\n",
    "    with open(\"works/SpikeBall-\"+str(tid)+\".md\", 'w') as file: \n",
    "        file.write('---\\n')\n",
    "        file.write('layout: post\\n')\n",
    "        file.write('title: SpikeBall '+str(tid)+'\\n')\n",
    "        file.write('---\\n')\n",
    "        file.write('{% include token.html %}')"
   ]
  },
  {
   "cell_type": "code",
   "execution_count": 46,
   "metadata": {},
   "outputs": [
    {
     "data": {
      "text/plain": [
       "{11: '0x301b2d3e032f4739d803dd10b73df48fa54d028b0fcb9b14da82cacc7960dd65',\n",
       " 12: '0x718424e8c15a020fcaac89d5dd8ada355018ffac55290db9d7950f808134ae89',\n",
       " 13: '0x1d5a94bac5b57bdb57b00fe0956b40fe971c55666e962c14b288618b4677ad7d'}"
      ]
     },
     "execution_count": 46,
     "metadata": {},
     "output_type": "execute_result"
    }
   ],
   "source": [
    "tdict"
   ]
  },
  {
   "cell_type": "code",
   "execution_count": 47,
   "metadata": {},
   "outputs": [],
   "source": [
    "import os"
   ]
  },
  {
   "cell_type": "code",
   "execution_count": 48,
   "metadata": {},
   "outputs": [
    {
     "name": "stdout",
     "output_type": "stream",
     "text": [
      "2021-09-28 12:20:46.410 java[8214:4702597] WARNING: NSWindow drag regions should only be invalidated on the Main Thread! This will throw an exception in the future. Called from (\n",
      "\t0   AppKit                              0x00007fff22dca481 -[NSWindow(NSWindow_Theme) _postWindowNeedsToResetDragMarginsUnlessPostingDisabled] + 352\n",
      "\t1   AppKit                              0x00007fff22db5042 -[NSWindow _initContent:styleMask:backing:defer:contentView:] + 1296\n",
      "\t2   AppKit                              0x00007fff22db4b2b -[NSWindow initWithContentRect:styleMask:backing:defer:] + 42\n",
      "\t3   libnativewindow_macosx.jnilib       0x0000000134b503fe Java_jogamp_nativewindow_macosx_OSXUtil_CreateNSWindow0 + 398\n",
      "\t4   ???                                 0x0000000118020a88 0x0 + 4697754248\n",
      ")\n",
      "/Users/trentonbricken/blitzgenerative.github.io/assets/vids/SpikeBall null.mp4 saved.\n",
      "Finished.\n",
      "2021-09-28 12:21:42.419 java[8255:4703856] WARNING: NSWindow drag regions should only be invalidated on the Main Thread! This will throw an exception in the future. Called from (\n",
      "\t0   AppKit                              0x00007fff22dca481 -[NSWindow(NSWindow_Theme) _postWindowNeedsToResetDragMarginsUnlessPostingDisabled] + 352\n",
      "\t1   AppKit                              0x00007fff22db5042 -[NSWindow _initContent:styleMask:backing:defer:contentView:] + 1296\n",
      "\t2   AppKit                              0x00007fff22db4b2b -[NSWindow initWithContentRect:styleMask:backing:defer:] + 42\n",
      "\t3   libnativewindow_macosx.jnilib       0x000000012ceb73fe Java_jogamp_nativewindow_macosx_OSXUtil_CreateNSWindow0 + 398\n",
      "\t4   ???                                 0x000000010efd9a88 0x0 + 4546468488\n",
      ")\n",
      "/Users/trentonbricken/blitzgenerative.github.io/assets/vids/SpikeBall null.mp4 saved.\n",
      "Finished.\n",
      "2021-09-28 12:22:38.554 java[8295:4705079] WARNING: NSWindow drag regions should only be invalidated on the Main Thread! This will throw an exception in the future. Called from (\n",
      "\t0   AppKit                              0x00007fff22dca481 -[NSWindow(NSWindow_Theme) _postWindowNeedsToResetDragMarginsUnlessPostingDisabled] + 352\n",
      "\t1   AppKit                              0x00007fff22db5042 -[NSWindow _initContent:styleMask:backing:defer:contentView:] + 1296\n",
      "\t2   AppKit                              0x00007fff22db4b2b -[NSWindow initWithContentRect:styleMask:backing:defer:] + 42\n",
      "\t3   libnativewindow_macosx.jnilib       0x00000001304d43fe Java_jogamp_nativewindow_macosx_OSXUtil_CreateNSWindow0 + 398\n",
      "\t4   ???                                 0x00000001167a6a88 0x0 + 4672088712\n",
      ")\n",
      "/Users/trentonbricken/blitzgenerative.github.io/assets/vids/SpikeBall null.mp4 saved.\n",
      "Finished.\n"
     ]
    }
   ],
   "source": [
    "for k,v in tdict.items():\n",
    "    !processing-java --sketch=/Users/trentonbricken/Documents/Processing/SaveOut_java_sphere_morph --run $v\n",
    "    os.rename('/Users/trentonbricken/blitzgenerative.github.io/assets/vids/SpikeBall null.mp4',\n",
    "             '/Users/trentonbricken/blitzgenerative.github.io/assets/vids/SpikeBall '+str(k)+'.mp4')\n",
    "    os.rename('/Users/trentonbricken/blitzgenerative.github.io/assets/thumbnails/SpikeBall null.png',\n",
    "             '/Users/trentonbricken/blitzgenerative.github.io/assets/thumbnails/SpikeBall '+str(k)+'.png')\n",
    "    \n",
    "    \n",
    "    \n"
   ]
  },
  {
   "cell_type": "code",
   "execution_count": 1,
   "metadata": {},
   "outputs": [
    {
     "name": "stdout",
     "output_type": "stream",
     "text": [
      "[gh-pages bcab00f] updated series\n",
      " 4 files changed, 109 insertions(+), 2 deletions(-)\n",
      " create mode 100644 .ipynb_checkpoints/README-checkpoint.md\n",
      " rewrite works/0 (99%)\n",
      "Enumerating objects: 11, done.\n",
      "Counting objects: 100% (11/11), done.\n",
      "Delta compression using up to 12 threads\n",
      "Compressing objects: 100% (6/6), done.\n",
      "Writing objects: 100% (6/6), 756 bytes | 756.00 KiB/s, done.\n",
      "Total 6 (delta 3), reused 0 (delta 0)\n",
      "remote: Resolving deltas: 100% (3/3), completed with 3 local objects.\u001b[K\n",
      "To https://github.com/blitzgenerative/blitzgenerative.github.io\n",
      "   3e5db5a..bcab00f  gh-pages -> gh-pages\n"
     ]
    }
   ],
   "source": [
    "! git add .\n",
    "! git commit -m \"updated series\"\n",
    "! git push"
   ]
  },
  {
   "cell_type": "code",
   "execution_count": null,
   "metadata": {},
   "outputs": [],
   "source": []
  }
 ],
 "metadata": {
  "kernelspec": {
   "display_name": "Python 3",
   "language": "python",
   "name": "python3"
  },
  "language_info": {
   "codemirror_mode": {
    "name": "ipython",
    "version": 3
   },
   "file_extension": ".py",
   "mimetype": "text/x-python",
   "name": "python",
   "nbconvert_exporter": "python",
   "pygments_lexer": "ipython3",
   "version": "3.7.5"
  }
 },
 "nbformat": 4,
 "nbformat_minor": 4
}
