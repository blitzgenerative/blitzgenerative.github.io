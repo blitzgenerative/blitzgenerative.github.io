{
 "cells": [
  {
   "cell_type": "code",
   "execution_count": 1,
   "metadata": {},
   "outputs": [],
   "source": [
    "from web3 import Web3\n",
    "w3 = Web3(Web3.HTTPProvider('https://infura.io/v3/7666ec09a4e747b5aea5380b91f62f9b'))\n"
   ]
  },
  {
   "cell_type": "code",
   "execution_count": 2,
   "metadata": {},
   "outputs": [
    {
     "data": {
      "text/plain": [
       "<web3.main.Web3 at 0x7ff02c42c7d0>"
      ]
     },
     "execution_count": 2,
     "metadata": {},
     "output_type": "execute_result"
    }
   ],
   "source": [
    "w3"
   ]
  },
  {
   "cell_type": "code",
   "execution_count": 3,
   "metadata": {},
   "outputs": [],
   "source": [
    "import os\n",
    "os.environ['WEB3_INFURA_PROJECT_ID']='7666ec09a4e747b5aea5380b91f62f9b'"
   ]
  },
  {
   "cell_type": "code",
   "execution_count": 4,
   "metadata": {},
   "outputs": [
    {
     "data": {
      "text/plain": [
       "13359093"
      ]
     },
     "execution_count": 4,
     "metadata": {},
     "output_type": "execute_result"
    }
   ],
   "source": [
    "from web3.auto.infura import w3 \n",
    "import json \n",
    "w3.eth.block_number"
   ]
  },
  {
   "cell_type": "code",
   "execution_count": 5,
   "metadata": {},
   "outputs": [],
   "source": [
    "abi = json.loads('[\t{\t\t\"inputs\": [],\t\t\"stateMutability\": \"nonpayable\",\t\t\"type\": \"constructor\"\t},\t{\t\t\"anonymous\": false,\t\t\"inputs\": [\t\t\t{\t\t\t\t\"indexed\": true,\t\t\t\t\"internalType\": \"address\",\t\t\t\t\"name\": \"owner\",\t\t\t\t\"type\": \"address\"\t\t\t},\t\t\t{\t\t\t\t\"indexed\": true,\t\t\t\t\"internalType\": \"address\",\t\t\t\t\"name\": \"approved\",\t\t\t\t\"type\": \"address\"\t\t\t},\t\t\t{\t\t\t\t\"indexed\": true,\t\t\t\t\"internalType\": \"uint256\",\t\t\t\t\"name\": \"tokenId\",\t\t\t\t\"type\": \"uint256\"\t\t\t}\t\t],\t\t\"name\": \"Approval\",\t\t\"type\": \"event\"\t},\t{\t\t\"anonymous\": false,\t\t\"inputs\": [\t\t\t{\t\t\t\t\"indexed\": true,\t\t\t\t\"internalType\": \"address\",\t\t\t\t\"name\": \"owner\",\t\t\t\t\"type\": \"address\"\t\t\t},\t\t\t{\t\t\t\t\"indexed\": true,\t\t\t\t\"internalType\": \"address\",\t\t\t\t\"name\": \"operator\",\t\t\t\t\"type\": \"address\"\t\t\t},\t\t\t{\t\t\t\t\"indexed\": false,\t\t\t\t\"internalType\": \"bool\",\t\t\t\t\"name\": \"approved\",\t\t\t\t\"type\": \"bool\"\t\t\t}\t\t],\t\t\"name\": \"ApprovalForAll\",\t\t\"type\": \"event\"\t},\t{\t\t\"anonymous\": false,\t\t\"inputs\": [\t\t\t{\t\t\t\t\"indexed\": true,\t\t\t\t\"internalType\": \"address\",\t\t\t\t\"name\": \"to\",\t\t\t\t\"type\": \"address\"\t\t\t},\t\t\t{\t\t\t\t\"indexed\": true,\t\t\t\t\"internalType\": \"uint256\",\t\t\t\t\"name\": \"tokenID\",\t\t\t\t\"type\": \"uint256\"\t\t\t},\t\t\t{\t\t\t\t\"indexed\": true,\t\t\t\t\"internalType\": \"uint256\",\t\t\t\t\"name\": \"sid\",\t\t\t\t\"type\": \"uint256\"\t\t\t}\t\t],\t\t\"name\": \"Mint\",\t\t\"type\": \"event\"\t},\t{\t\t\"anonymous\": false,\t\t\"inputs\": [\t\t\t{\t\t\t\t\"indexed\": true,\t\t\t\t\"internalType\": \"bytes32\",\t\t\t\t\"name\": \"role\",\t\t\t\t\"type\": \"bytes32\"\t\t\t},\t\t\t{\t\t\t\t\"indexed\": true,\t\t\t\t\"internalType\": \"bytes32\",\t\t\t\t\"name\": \"previousAdminRole\",\t\t\t\t\"type\": \"bytes32\"\t\t\t},\t\t\t{\t\t\t\t\"indexed\": true,\t\t\t\t\"internalType\": \"bytes32\",\t\t\t\t\"name\": \"newAdminRole\",\t\t\t\t\"type\": \"bytes32\"\t\t\t}\t\t],\t\t\"name\": \"RoleAdminChanged\",\t\t\"type\": \"event\"\t},\t{\t\t\"anonymous\": false,\t\t\"inputs\": [\t\t\t{\t\t\t\t\"indexed\": true,\t\t\t\t\"internalType\": \"bytes32\",\t\t\t\t\"name\": \"role\",\t\t\t\t\"type\": \"bytes32\"\t\t\t},\t\t\t{\t\t\t\t\"indexed\": true,\t\t\t\t\"internalType\": \"address\",\t\t\t\t\"name\": \"account\",\t\t\t\t\"type\": \"address\"\t\t\t},\t\t\t{\t\t\t\t\"indexed\": true,\t\t\t\t\"internalType\": \"address\",\t\t\t\t\"name\": \"sender\",\t\t\t\t\"type\": \"address\"\t\t\t}\t\t],\t\t\"name\": \"RoleGranted\",\t\t\"type\": \"event\"\t},\t{\t\t\"anonymous\": false,\t\t\"inputs\": [\t\t\t{\t\t\t\t\"indexed\": true,\t\t\t\t\"internalType\": \"bytes32\",\t\t\t\t\"name\": \"role\",\t\t\t\t\"type\": \"bytes32\"\t\t\t},\t\t\t{\t\t\t\t\"indexed\": true,\t\t\t\t\"internalType\": \"address\",\t\t\t\t\"name\": \"account\",\t\t\t\t\"type\": \"address\"\t\t\t},\t\t\t{\t\t\t\t\"indexed\": true,\t\t\t\t\"internalType\": \"address\",\t\t\t\t\"name\": \"sender\",\t\t\t\t\"type\": \"address\"\t\t\t}\t\t],\t\t\"name\": \"RoleRevoked\",\t\t\"type\": \"event\"\t},\t{\t\t\"anonymous\": false,\t\t\"inputs\": [\t\t\t{\t\t\t\t\"indexed\": true,\t\t\t\t\"internalType\": \"address\",\t\t\t\t\"name\": \"from\",\t\t\t\t\"type\": \"address\"\t\t\t},\t\t\t{\t\t\t\t\"indexed\": true,\t\t\t\t\"internalType\": \"address\",\t\t\t\t\"name\": \"to\",\t\t\t\t\"type\": \"address\"\t\t\t},\t\t\t{\t\t\t\t\"indexed\": true,\t\t\t\t\"internalType\": \"uint256\",\t\t\t\t\"name\": \"tokenId\",\t\t\t\t\"type\": \"uint256\"\t\t\t}\t\t],\t\t\"name\": \"Transfer\",\t\t\"type\": \"event\"\t},\t{\t\t\"inputs\": [],\t\t\"name\": \"DEFAULT_ADMIN_ROLE\",\t\t\"outputs\": [\t\t\t{\t\t\t\t\"internalType\": \"bytes32\",\t\t\t\t\"name\": \"\",\t\t\t\t\"type\": \"bytes32\"\t\t\t}\t\t],\t\t\"stateMutability\": \"view\",\t\t\"type\": \"function\"\t},\t{\t\t\"inputs\": [],\t\t\"name\": \"MINTER_ROLE\",\t\t\"outputs\": [\t\t\t{\t\t\t\t\"internalType\": \"bytes32\",\t\t\t\t\"name\": \"\",\t\t\t\t\"type\": \"bytes32\"\t\t\t}\t\t],\t\t\"stateMutability\": \"view\",\t\t\"type\": \"function\"\t},\t{\t\t\"inputs\": [\t\t\t{\t\t\t\t\"internalType\": \"uint256\",\t\t\t\t\"name\": \"startingWeiPrice\",\t\t\t\t\"type\": \"uint256\"\t\t\t},\t\t\t{\t\t\t\t\"internalType\": \"uint256\",\t\t\t\t\"name\": \"maxMint\",\t\t\t\t\"type\": \"uint256\"\t\t\t},\t\t\t{\t\t\t\t\"internalType\": \"uint256\",\t\t\t\t\"name\": \"royaltyPercentage\",\t\t\t\t\"type\": \"uint256\"\t\t\t}\t\t],\t\t\"name\": \"addSeries\",\t\t\"outputs\": [\t\t\t{\t\t\t\t\"internalType\": \"uint256\",\t\t\t\t\"name\": \"sid\",\t\t\t\t\"type\": \"uint256\"\t\t\t}\t\t],\t\t\"stateMutability\": \"nonpayable\",\t\t\"type\": \"function\"\t},\t{\t\t\"inputs\": [\t\t\t{\t\t\t\t\"internalType\": \"uint256\",\t\t\t\t\"name\": \"sid\",\t\t\t\t\"type\": \"uint256\"\t\t\t},\t\t\t{\t\t\t\t\"internalType\": \"string\",\t\t\t\t\"name\": \"_script\",\t\t\t\t\"type\": \"string\"\t\t\t}\t\t],\t\t\"name\": \"addSeriesScript\",\t\t\"outputs\": [],\t\t\"stateMutability\": \"nonpayable\",\t\t\"type\": \"function\"\t},\t{\t\t\"inputs\": [\t\t\t{\t\t\t\t\"internalType\": \"address\",\t\t\t\t\"name\": \"to\",\t\t\t\t\"type\": \"address\"\t\t\t},\t\t\t{\t\t\t\t\"internalType\": \"uint256\",\t\t\t\t\"name\": \"tokenId\",\t\t\t\t\"type\": \"uint256\"\t\t\t}\t\t],\t\t\"name\": \"approve\",\t\t\"outputs\": [],\t\t\"stateMutability\": \"nonpayable\",\t\t\"type\": \"function\"\t},\t{\t\t\"inputs\": [\t\t\t{\t\t\t\t\"internalType\": \"address\",\t\t\t\t\"name\": \"owner\",\t\t\t\t\"type\": \"address\"\t\t\t}\t\t],\t\t\"name\": \"balanceOf\",\t\t\"outputs\": [\t\t\t{\t\t\t\t\"internalType\": \"uint256\",\t\t\t\t\"name\": \"\",\t\t\t\t\"type\": \"uint256\"\t\t\t}\t\t],\t\t\"stateMutability\": \"view\",\t\t\"type\": \"function\"\t},\t{\t\t\"inputs\": [\t\t\t{\t\t\t\t\"internalType\": \"uint256\",\t\t\t\t\"name\": \"tokenId\",\t\t\t\t\"type\": \"uint256\"\t\t\t}\t\t],\t\t\"name\": \"getApproved\",\t\t\"outputs\": [\t\t\t{\t\t\t\t\"internalType\": \"address\",\t\t\t\t\"name\": \"\",\t\t\t\t\"type\": \"address\"\t\t\t}\t\t],\t\t\"stateMutability\": \"view\",\t\t\"type\": \"function\"\t},\t{\t\t\"inputs\": [\t\t\t{\t\t\t\t\"internalType\": \"bytes32\",\t\t\t\t\"name\": \"role\",\t\t\t\t\"type\": \"bytes32\"\t\t\t}\t\t],\t\t\"name\": \"getRoleAdmin\",\t\t\"outputs\": [\t\t\t{\t\t\t\t\"internalType\": \"bytes32\",\t\t\t\t\"name\": \"\",\t\t\t\t\"type\": \"bytes32\"\t\t\t}\t\t],\t\t\"stateMutability\": \"view\",\t\t\"type\": \"function\"\t},\t{\t\t\"inputs\": [\t\t\t{\t\t\t\t\"internalType\": \"uint256\",\t\t\t\t\"name\": \"i\",\t\t\t\t\"type\": \"uint256\"\t\t\t},\t\t\t{\t\t\t\t\"internalType\": \"uint256\",\t\t\t\t\"name\": \"script_id\",\t\t\t\t\"type\": \"uint256\"\t\t\t}\t\t],\t\t\"name\": \"getSeries\",\t\t\"outputs\": [\t\t\t{\t\t\t\t\"internalType\": \"string\",\t\t\t\t\"name\": \"script\",\t\t\t\t\"type\": \"string\"\t\t\t},\t\t\t{\t\t\t\t\"internalType\": \"uint256\",\t\t\t\t\"name\": \"numCodeLocations\",\t\t\t\t\"type\": \"uint256\"\t\t\t},\t\t\t{\t\t\t\t\"internalType\": \"uint256\",\t\t\t\t\"name\": \"numMint\",\t\t\t\t\"type\": \"uint256\"\t\t\t},\t\t\t{\t\t\t\t\"internalType\": \"uint256\",\t\t\t\t\"name\": \"maxMint\",\t\t\t\t\"type\": \"uint256\"\t\t\t},\t\t\t{\t\t\t\t\"internalType\": \"uint256\",\t\t\t\t\"name\": \"curPricePerToken\",\t\t\t\t\"type\": \"uint256\"\t\t\t},\t\t\t{\t\t\t\t\"internalType\": \"uint256\",\t\t\t\t\"name\": \"royaltyPercentage\",\t\t\t\t\"type\": \"uint256\"\t\t\t},\t\t\t{\t\t\t\t\"internalType\": \"string\",\t\t\t\t\"name\": \"ipfs_cid\",\t\t\t\t\"type\": \"string\"\t\t\t},\t\t\t{\t\t\t\t\"internalType\": \"bool\",\t\t\t\t\"name\": \"paused\",\t\t\t\t\"type\": \"bool\"\t\t\t},\t\t\t{\t\t\t\t\"internalType\": \"bool\",\t\t\t\t\"name\": \"locked\",\t\t\t\t\"type\": \"bool\"\t\t\t}\t\t],\t\t\"stateMutability\": \"view\",\t\t\"type\": \"function\"\t},\t{\t\t\"inputs\": [\t\t\t{\t\t\t\t\"internalType\": \"uint256\",\t\t\t\t\"name\": \"i\",\t\t\t\t\"type\": \"uint256\"\t\t\t}\t\t],\t\t\"name\": \"getTokenParams\",\t\t\"outputs\": [\t\t\t{\t\t\t\t\"internalType\": \"bytes32\",\t\t\t\t\"name\": \"seed\",\t\t\t\t\"type\": \"bytes32\"\t\t\t},\t\t\t{\t\t\t\t\"internalType\": \"string\",\t\t\t\t\"name\": \"codeLocation0\",\t\t\t\t\"type\": \"string\"\t\t\t},\t\t\t{\t\t\t\t\"internalType\": \"uint256\",\t\t\t\t\"name\": \"seriesID\",\t\t\t\t\"type\": \"uint256\"\t\t\t},\t\t\t{\t\t\t\t\"internalType\": \"uint256\",\t\t\t\t\"name\": \"royaltyPercentage\",\t\t\t\t\"type\": \"uint256\"\t\t\t},\t\t\t{\t\t\t\t\"internalType\": \"uint32\",\t\t\t\t\"name\": \"nTrades\",\t\t\t\t\"type\": \"uint32\"\t\t\t}\t\t],\t\t\"stateMutability\": \"view\",\t\t\"type\": \"function\"\t},\t{\t\t\"inputs\": [\t\t\t{\t\t\t\t\"internalType\": \"bytes32\",\t\t\t\t\"name\": \"role\",\t\t\t\t\"type\": \"bytes32\"\t\t\t},\t\t\t{\t\t\t\t\"internalType\": \"address\",\t\t\t\t\"name\": \"account\",\t\t\t\t\"type\": \"address\"\t\t\t}\t\t],\t\t\"name\": \"grantRole\",\t\t\"outputs\": [],\t\t\"stateMutability\": \"nonpayable\",\t\t\"type\": \"function\"\t},\t{\t\t\"inputs\": [\t\t\t{\t\t\t\t\"internalType\": \"bytes32\",\t\t\t\t\"name\": \"role\",\t\t\t\t\"type\": \"bytes32\"\t\t\t},\t\t\t{\t\t\t\t\"internalType\": \"address\",\t\t\t\t\"name\": \"account\",\t\t\t\t\"type\": \"address\"\t\t\t}\t\t],\t\t\"name\": \"hasRole\",\t\t\"outputs\": [\t\t\t{\t\t\t\t\"internalType\": \"bool\",\t\t\t\t\"name\": \"\",\t\t\t\t\"type\": \"bool\"\t\t\t}\t\t],\t\t\"stateMutability\": \"view\",\t\t\"type\": \"function\"\t},\t{\t\t\"inputs\": [\t\t\t{\t\t\t\t\"internalType\": \"address\",\t\t\t\t\"name\": \"owner\",\t\t\t\t\"type\": \"address\"\t\t\t},\t\t\t{\t\t\t\t\"internalType\": \"address\",\t\t\t\t\"name\": \"operator\",\t\t\t\t\"type\": \"address\"\t\t\t}\t\t],\t\t\"name\": \"isApprovedForAll\",\t\t\"outputs\": [\t\t\t{\t\t\t\t\"internalType\": \"bool\",\t\t\t\t\"name\": \"\",\t\t\t\t\"type\": \"bool\"\t\t\t}\t\t],\t\t\"stateMutability\": \"view\",\t\t\"type\": \"function\"\t},\t{\t\t\"inputs\": [\t\t\t{\t\t\t\t\"internalType\": \"uint256\",\t\t\t\t\"name\": \"sid\",\t\t\t\t\"type\": \"uint256\"\t\t\t}\t\t],\t\t\"name\": \"lockCodeForever\",\t\t\"outputs\": [],\t\t\"stateMutability\": \"nonpayable\",\t\t\"type\": \"function\"\t},\t{\t\t\"inputs\": [\t\t\t{\t\t\t\t\"internalType\": \"uint256\",\t\t\t\t\"name\": \"sid\",\t\t\t\t\"type\": \"uint256\"\t\t\t},\t\t\t{\t\t\t\t\"internalType\": \"address\",\t\t\t\t\"name\": \"to\",\t\t\t\t\"type\": \"address\"\t\t\t}\t\t],\t\t\"name\": \"minterMint\",\t\t\"outputs\": [],\t\t\"stateMutability\": \"nonpayable\",\t\t\"type\": \"function\"\t},\t{\t\t\"inputs\": [],\t\t\"name\": \"name\",\t\t\"outputs\": [\t\t\t{\t\t\t\t\"internalType\": \"string\",\t\t\t\t\"name\": \"\",\t\t\t\t\"type\": \"string\"\t\t\t}\t\t],\t\t\"stateMutability\": \"view\",\t\t\"type\": \"function\"\t},\t{\t\t\"inputs\": [],\t\t\"name\": \"numSeries\",\t\t\"outputs\": [\t\t\t{\t\t\t\t\"internalType\": \"uint256\",\t\t\t\t\"name\": \"\",\t\t\t\t\"type\": \"uint256\"\t\t\t}\t\t],\t\t\"stateMutability\": \"view\",\t\t\"type\": \"function\"\t},\t{\t\t\"inputs\": [\t\t\t{\t\t\t\t\"internalType\": \"uint256\",\t\t\t\t\"name\": \"tokenId\",\t\t\t\t\"type\": \"uint256\"\t\t\t}\t\t],\t\t\"name\": \"ownerOf\",\t\t\"outputs\": [\t\t\t{\t\t\t\t\"internalType\": \"address\",\t\t\t\t\"name\": \"\",\t\t\t\t\"type\": \"address\"\t\t\t}\t\t],\t\t\"stateMutability\": \"view\",\t\t\"type\": \"function\"\t},\t{\t\t\"inputs\": [\t\t\t{\t\t\t\t\"internalType\": \"uint256\",\t\t\t\t\"name\": \"sid\",\t\t\t\t\"type\": \"uint256\"\t\t\t}\t\t],\t\t\"name\": \"purchase\",\t\t\"outputs\": [\t\t\t{\t\t\t\t\"internalType\": \"uint256\",\t\t\t\t\"name\": \"_tokenId\",\t\t\t\t\"type\": \"uint256\"\t\t\t}\t\t],\t\t\"stateMutability\": \"payable\",\t\t\"type\": \"function\"\t},\t{\t\t\"inputs\": [\t\t\t{\t\t\t\t\"internalType\": \"bytes32\",\t\t\t\t\"name\": \"role\",\t\t\t\t\"type\": \"bytes32\"\t\t\t},\t\t\t{\t\t\t\t\"internalType\": \"address\",\t\t\t\t\"name\": \"account\",\t\t\t\t\"type\": \"address\"\t\t\t}\t\t],\t\t\"name\": \"renounceRole\",\t\t\"outputs\": [],\t\t\"stateMutability\": \"nonpayable\",\t\t\"type\": \"function\"\t},\t{\t\t\"inputs\": [\t\t\t{\t\t\t\t\"internalType\": \"bytes32\",\t\t\t\t\"name\": \"role\",\t\t\t\t\"type\": \"bytes32\"\t\t\t},\t\t\t{\t\t\t\t\"internalType\": \"address\",\t\t\t\t\"name\": \"account\",\t\t\t\t\"type\": \"address\"\t\t\t}\t\t],\t\t\"name\": \"revokeRole\",\t\t\"outputs\": [],\t\t\"stateMutability\": \"nonpayable\",\t\t\"type\": \"function\"\t},\t{\t\t\"inputs\": [\t\t\t{\t\t\t\t\"internalType\": \"address\",\t\t\t\t\"name\": \"from\",\t\t\t\t\"type\": \"address\"\t\t\t},\t\t\t{\t\t\t\t\"internalType\": \"address\",\t\t\t\t\"name\": \"to\",\t\t\t\t\"type\": \"address\"\t\t\t},\t\t\t{\t\t\t\t\"internalType\": \"uint256\",\t\t\t\t\"name\": \"tokenId\",\t\t\t\t\"type\": \"uint256\"\t\t\t}\t\t],\t\t\"name\": \"safeTransferFrom\",\t\t\"outputs\": [],\t\t\"stateMutability\": \"nonpayable\",\t\t\"type\": \"function\"\t},\t{\t\t\"inputs\": [\t\t\t{\t\t\t\t\"internalType\": \"address\",\t\t\t\t\"name\": \"from\",\t\t\t\t\"type\": \"address\"\t\t\t},\t\t\t{\t\t\t\t\"internalType\": \"address\",\t\t\t\t\"name\": \"to\",\t\t\t\t\"type\": \"address\"\t\t\t},\t\t\t{\t\t\t\t\"internalType\": \"uint256\",\t\t\t\t\"name\": \"tokenId\",\t\t\t\t\"type\": \"uint256\"\t\t\t},\t\t\t{\t\t\t\t\"internalType\": \"bytes\",\t\t\t\t\"name\": \"_data\",\t\t\t\t\"type\": \"bytes\"\t\t\t}\t\t],\t\t\"name\": \"safeTransferFrom\",\t\t\"outputs\": [],\t\t\"stateMutability\": \"nonpayable\",\t\t\"type\": \"function\"\t},\t{\t\t\"inputs\": [\t\t\t{\t\t\t\t\"internalType\": \"bool\",\t\t\t\t\"name\": \"m\",\t\t\t\t\"type\": \"bool\"\t\t\t}\t\t],\t\t\"name\": \"setAllowInternalPurchases\",\t\t\"outputs\": [],\t\t\"stateMutability\": \"nonpayable\",\t\t\"type\": \"function\"\t},\t{\t\t\"inputs\": [\t\t\t{\t\t\t\t\"internalType\": \"address\",\t\t\t\t\"name\": \"operator\",\t\t\t\t\"type\": \"address\"\t\t\t},\t\t\t{\t\t\t\t\"internalType\": \"bool\",\t\t\t\t\"name\": \"approved\",\t\t\t\t\"type\": \"bool\"\t\t\t}\t\t],\t\t\"name\": \"setApprovalForAll\",\t\t\"outputs\": [],\t\t\"stateMutability\": \"nonpayable\",\t\t\"type\": \"function\"\t},\t{\t\t\"inputs\": [\t\t\t{\t\t\t\t\"internalType\": \"uint256\",\t\t\t\t\"name\": \"sid\",\t\t\t\t\"type\": \"uint256\"\t\t\t},\t\t\t{\t\t\t\t\"internalType\": \"uint256\",\t\t\t\t\"name\": \"m\",\t\t\t\t\"type\": \"uint256\"\t\t\t}\t\t],\t\t\"name\": \"setMaxMint\",\t\t\"outputs\": [],\t\t\"stateMutability\": \"nonpayable\",\t\t\"type\": \"function\"\t},\t{\t\t\"inputs\": [\t\t\t{\t\t\t\t\"internalType\": \"uint256\",\t\t\t\t\"name\": \"sid\",\t\t\t\t\"type\": \"uint256\"\t\t\t},\t\t\t{\t\t\t\t\"internalType\": \"uint256\",\t\t\t\t\"name\": \"m\",\t\t\t\t\"type\": \"uint256\"\t\t\t}\t\t],\t\t\"name\": \"setSecondaryMarketPercentage\",\t\t\"outputs\": [],\t\t\"stateMutability\": \"nonpayable\",\t\t\"type\": \"function\"\t},\t{\t\t\"inputs\": [\t\t\t{\t\t\t\t\"internalType\": \"uint256\",\t\t\t\t\"name\": \"sid\",\t\t\t\t\"type\": \"uint256\"\t\t\t},\t\t\t{\t\t\t\t\"internalType\": \"string\",\t\t\t\t\"name\": \"cid\",\t\t\t\t\"type\": \"string\"\t\t\t}\t\t],\t\t\"name\": \"setSeriesIPFS\",\t\t\"outputs\": [],\t\t\"stateMutability\": \"nonpayable\",\t\t\"type\": \"function\"\t},\t{\t\t\"inputs\": [\t\t\t{\t\t\t\t\"internalType\": \"uint256\",\t\t\t\t\"name\": \"sid\",\t\t\t\t\"type\": \"uint256\"\t\t\t},\t\t\t{\t\t\t\t\"internalType\": \"bool\",\t\t\t\t\"name\": \"m\",\t\t\t\t\"type\": \"bool\"\t\t\t}\t\t],\t\t\"name\": \"setSeriesPause\",\t\t\"outputs\": [],\t\t\"stateMutability\": \"nonpayable\",\t\t\"type\": \"function\"\t},\t{\t\t\"inputs\": [\t\t\t{\t\t\t\t\"internalType\": \"uint256\",\t\t\t\t\"name\": \"sid\",\t\t\t\t\"type\": \"uint256\"\t\t\t},\t\t\t{\t\t\t\t\"internalType\": \"uint256\",\t\t\t\t\"name\": \"p\",\t\t\t\t\"type\": \"uint256\"\t\t\t}\t\t],\t\t\"name\": \"setWeiPrice\",\t\t\"outputs\": [],\t\t\"stateMutability\": \"nonpayable\",\t\t\"type\": \"function\"\t},\t{\t\t\"inputs\": [\t\t\t{\t\t\t\t\"internalType\": \"uint256\",\t\t\t\t\"name\": \"sid\",\t\t\t\t\"type\": \"uint256\"\t\t\t}\t\t],\t\t\"name\": \"showAllTokensPerSeries\",\t\t\"outputs\": [\t\t\t{\t\t\t\t\"internalType\": \"uint256[]\",\t\t\t\t\"name\": \"\",\t\t\t\t\"type\": \"uint256[]\"\t\t\t}\t\t],\t\t\"stateMutability\": \"view\",\t\t\"type\": \"function\"\t},\t{\t\t\"inputs\": [\t\t\t{\t\t\t\t\"internalType\": \"bytes4\",\t\t\t\t\"name\": \"interfaceId\",\t\t\t\t\"type\": \"bytes4\"\t\t\t}\t\t],\t\t\"name\": \"supportsInterface\",\t\t\"outputs\": [\t\t\t{\t\t\t\t\"internalType\": \"bool\",\t\t\t\t\"name\": \"\",\t\t\t\t\"type\": \"bool\"\t\t\t}\t\t],\t\t\"stateMutability\": \"view\",\t\t\"type\": \"function\"\t},\t{\t\t\"inputs\": [],\t\t\"name\": \"symbol\",\t\t\"outputs\": [\t\t\t{\t\t\t\t\"internalType\": \"string\",\t\t\t\t\"name\": \"\",\t\t\t\t\"type\": \"string\"\t\t\t}\t\t],\t\t\"stateMutability\": \"view\",\t\t\"type\": \"function\"\t},\t{\t\t\"inputs\": [\t\t\t{\t\t\t\t\"internalType\": \"uint256\",\t\t\t\t\"name\": \"index\",\t\t\t\t\"type\": \"uint256\"\t\t\t}\t\t],\t\t\"name\": \"tokenByIndex\",\t\t\"outputs\": [\t\t\t{\t\t\t\t\"internalType\": \"uint256\",\t\t\t\t\"name\": \"\",\t\t\t\t\"type\": \"uint256\"\t\t\t}\t\t],\t\t\"stateMutability\": \"view\",\t\t\"type\": \"function\"\t},\t{\t\t\"inputs\": [\t\t\t{\t\t\t\t\"internalType\": \"address\",\t\t\t\t\"name\": \"owner\",\t\t\t\t\"type\": \"address\"\t\t\t},\t\t\t{\t\t\t\t\"internalType\": \"uint256\",\t\t\t\t\"name\": \"index\",\t\t\t\t\"type\": \"uint256\"\t\t\t}\t\t],\t\t\"name\": \"tokenOfOwnerByIndex\",\t\t\"outputs\": [\t\t\t{\t\t\t\t\"internalType\": \"uint256\",\t\t\t\t\"name\": \"\",\t\t\t\t\"type\": \"uint256\"\t\t\t}\t\t],\t\t\"stateMutability\": \"view\",\t\t\"type\": \"function\"\t},\t{\t\t\"inputs\": [\t\t\t{\t\t\t\t\"internalType\": \"uint256\",\t\t\t\t\"name\": \"tokenId\",\t\t\t\t\"type\": \"uint256\"\t\t\t}\t\t],\t\t\"name\": \"tokenURI\",\t\t\"outputs\": [\t\t\t{\t\t\t\t\"internalType\": \"string\",\t\t\t\t\"name\": \"\",\t\t\t\t\"type\": \"string\"\t\t\t}\t\t],\t\t\"stateMutability\": \"view\",\t\t\"type\": \"function\"\t},\t{\t\t\"inputs\": [\t\t\t{\t\t\t\t\"internalType\": \"address\",\t\t\t\t\"name\": \"owner\",\t\t\t\t\"type\": \"address\"\t\t\t}\t\t],\t\t\"name\": \"tokensOfOwner\",\t\t\"outputs\": [\t\t\t{\t\t\t\t\"internalType\": \"uint256[]\",\t\t\t\t\"name\": \"\",\t\t\t\t\"type\": \"uint256[]\"\t\t\t}\t\t],\t\t\"stateMutability\": \"view\",\t\t\"type\": \"function\"\t},\t{\t\t\"inputs\": [],\t\t\"name\": \"totalSupply\",\t\t\"outputs\": [\t\t\t{\t\t\t\t\"internalType\": \"uint256\",\t\t\t\t\"name\": \"\",\t\t\t\t\"type\": \"uint256\"\t\t\t}\t\t],\t\t\"stateMutability\": \"view\",\t\t\"type\": \"function\"\t},\t{\t\t\"inputs\": [\t\t\t{\t\t\t\t\"internalType\": \"address\",\t\t\t\t\"name\": \"from\",\t\t\t\t\"type\": \"address\"\t\t\t},\t\t\t{\t\t\t\t\"internalType\": \"address\",\t\t\t\t\"name\": \"to\",\t\t\t\t\"type\": \"address\"\t\t\t},\t\t\t{\t\t\t\t\"internalType\": \"uint256\",\t\t\t\t\"name\": \"tokenId\",\t\t\t\t\"type\": \"uint256\"\t\t\t}\t\t],\t\t\"name\": \"transferFrom\",\t\t\"outputs\": [],\t\t\"stateMutability\": \"nonpayable\",\t\t\"type\": \"function\"\t},\t{\t\t\"inputs\": [\t\t\t{\t\t\t\t\"internalType\": \"uint256\",\t\t\t\t\"name\": \"sid\",\t\t\t\t\"type\": \"uint256\"\t\t\t},\t\t\t{\t\t\t\t\"internalType\": \"uint256\",\t\t\t\t\"name\": \"_scriptId\",\t\t\t\t\"type\": \"uint256\"\t\t\t},\t\t\t{\t\t\t\t\"internalType\": \"string\",\t\t\t\t\"name\": \"_script\",\t\t\t\t\"type\": \"string\"\t\t\t}\t\t],\t\t\"name\": \"updateSeriesScript\",\t\t\"outputs\": [],\t\t\"stateMutability\": \"nonpayable\",\t\t\"type\": \"function\"\t},\t{\t\t\"inputs\": [\t\t\t{\t\t\t\t\"internalType\": \"uint256\",\t\t\t\t\"name\": \"amount\",\t\t\t\t\"type\": \"uint256\"\t\t\t}\t\t],\t\t\"name\": \"withdraw\",\t\t\"outputs\": [],\t\t\"stateMutability\": \"nonpayable\",\t\t\"type\": \"function\"\t}]')\n",
    "contactAddress = '0x08e8BD2b24ebeF3ef407AcA9dB13436D3FcE25c2'\n",
    "      \n",
    "sc = w3.eth.contract(abi=abi, address=contactAddress)"
   ]
  },
  {
   "cell_type": "code",
   "execution_count": 6,
   "metadata": {},
   "outputs": [
    {
     "name": "stdout",
     "output_type": "stream",
     "text": [
      "DEFAULT_ADMIN_ROLE\n",
      "MINTER_ROLE\n",
      "addSeries\n",
      "addSeriesScript\n",
      "approve\n",
      "balanceOf\n",
      "getApproved\n",
      "getRoleAdmin\n",
      "getSeries\n",
      "getTokenParams\n",
      "grantRole\n",
      "hasRole\n",
      "isApprovedForAll\n",
      "lockCodeForever\n",
      "minterMint\n",
      "name\n",
      "numSeries\n",
      "ownerOf\n",
      "purchase\n",
      "renounceRole\n",
      "revokeRole\n",
      "safeTransferFrom\n",
      "safeTransferFrom\n",
      "setAllowInternalPurchases\n",
      "setApprovalForAll\n",
      "setMaxMint\n",
      "setSecondaryMarketPercentage\n",
      "setSeriesIPFS\n",
      "setSeriesPause\n",
      "setWeiPrice\n",
      "showAllTokensPerSeries\n",
      "supportsInterface\n",
      "symbol\n",
      "tokenByIndex\n",
      "tokenOfOwnerByIndex\n",
      "tokenURI\n",
      "tokensOfOwner\n",
      "totalSupply\n",
      "transferFrom\n",
      "updateSeriesScript\n",
      "withdraw\n"
     ]
    }
   ],
   "source": [
    "for f in sc.functions:\n",
    "    print(f)"
   ]
  },
  {
   "cell_type": "code",
   "execution_count": 7,
   "metadata": {},
   "outputs": [
    {
     "data": {
      "text/plain": [
       "'https://blitzgenerative.com/uris/0.json'"
      ]
     },
     "execution_count": 7,
     "metadata": {},
     "output_type": "execute_result"
    }
   ],
   "source": [
    "sc.functions.tokenURI(0).call()"
   ]
  },
  {
   "cell_type": "code",
   "execution_count": 8,
   "metadata": {},
   "outputs": [
    {
     "name": "stdout",
     "output_type": "stream",
     "text": [
      "<class 'web3._utils.datatypes.Approval'>\n",
      "<class 'web3._utils.datatypes.ApprovalForAll'>\n",
      "<class 'web3._utils.datatypes.Mint'>\n",
      "<class 'web3._utils.datatypes.RoleAdminChanged'>\n",
      "<class 'web3._utils.datatypes.RoleGranted'>\n",
      "<class 'web3._utils.datatypes.RoleRevoked'>\n",
      "<class 'web3._utils.datatypes.Transfer'>\n"
     ]
    }
   ],
   "source": [
    "for e in sc.events:\n",
    "    print(e)"
   ]
  },
  {
   "cell_type": "code",
   "execution_count": 9,
   "metadata": {},
   "outputs": [
    {
     "data": {
      "text/plain": [
       "[0, 1]"
      ]
     },
     "execution_count": 9,
     "metadata": {},
     "output_type": "execute_result"
    }
   ],
   "source": [
    "# getting all of the tokens that have been made for a series. \n",
    "\n",
    "sid = 0\n",
    "seriesName = \"SpikeBall\"\n",
    "seriesTokens = sc.functions.showAllTokensPerSeries(sid).call()\n",
    "seriesTokens"
   ]
  },
  {
   "cell_type": "code",
   "execution_count": 10,
   "metadata": {},
   "outputs": [
    {
     "data": {
      "text/plain": [
       "[]"
      ]
     },
     "execution_count": 10,
     "metadata": {},
     "output_type": "execute_result"
    }
   ],
   "source": [
    "import glob\n",
    "# seeing what tokens are already on the website: \n",
    "vids = glob.glob(\"assets/vids/*\")\n",
    "tokens_gend = []\n",
    "for v in vids: \n",
    "    tokens_gend.append( int(v.split('.mp4')[0].split(' ')[-1]))\n",
    "tokens_gend   "
   ]
  },
  {
   "cell_type": "code",
   "execution_count": 11,
   "metadata": {},
   "outputs": [
    {
     "data": {
      "text/plain": [
       "[0, 1]"
      ]
     },
     "execution_count": 11,
     "metadata": {},
     "output_type": "execute_result"
    }
   ],
   "source": [
    "ungen_tokens = list(set(seriesTokens) - set(tokens_gend))\n",
    "ungen_tokens"
   ]
  },
  {
   "cell_type": "code",
   "execution_count": 12,
   "metadata": {},
   "outputs": [],
   "source": [
    "tdict = {}\n",
    "with open(\"_data/works.yml\", 'a') as file: \n",
    "    for tid in ungen_tokens:\n",
    "        tp = sc.functions.getTokenParams(tid).call()\n",
    "        seed = Web3.toHex(tp[0])\n",
    "        ntrades = tp[4]\n",
    "        owner = sc.functions.ownerOf(tid).call()\n",
    "        link = \"/\"+seriesName+\"-\"+str(tid)+\"/\"\n",
    "        \n",
    "        file.write(seriesName+' '+str(tid)+':'+'\\n')\n",
    "        file.write('  '+'link: '+link+'\\n')\n",
    "        file.write('  '+'owner: \\\"'+owner+'\\\"\\n')\n",
    "        file.write('  '+'seed: \\\"'+str(seed)+'\\\"\\n')\n",
    "        file.write('  '+'nTransactions: '+str(ntrades)+'\\n')\n",
    "        tdict[tid]=seed\n",
    "        "
   ]
  },
  {
   "cell_type": "code",
   "execution_count": 13,
   "metadata": {},
   "outputs": [],
   "source": [
    "for tid in ungen_tokens:\n",
    "    with open(\"works/SpikeBall-\"+str(tid)+\".md\", 'w') as file: \n",
    "        file.write('---\\n')\n",
    "        file.write('layout: post\\n')\n",
    "        file.write('title: SpikeBall '+str(tid)+'\\n')\n",
    "        file.write('---\\n')\n",
    "        file.write('{% include token.html %}')"
   ]
  },
  {
   "cell_type": "code",
   "execution_count": 14,
   "metadata": {},
   "outputs": [],
   "source": [
    "import copy\n",
    "# writing the json info for each token. \n",
    "template = {\n",
    "  \"description\":\"Blitz Generative \\n\\nAll code and settings for this piece are immutably embedded in the Ethereum blockchain.\\n\\nSeries 0 - Spike Balls - Token TOKENNUM\\n\\n.\\n\",\n",
    "  \"external_url\":\"https://www.blitzgenerative.com/works/SpikeBall-TOKENNUM\",\n",
    "  \"image\":\"https://www.blitzgenerative.com/assets/thumbnails/SpikeBall TOKENNUM.png\",\n",
    "  \"animation_url\":\"https://www.blitzgenerative.com/assets/vids/SpikeBall TOKENNUM.mp4\",\n",
    "  \"name\":\"Blitz Generative Series 0: Spike Ball - Token TOKENNUM\",\n",
    "}\n",
    "\n",
    "for tid in seriesTokens: # ungen_tokens\n",
    "    with open(\"uris/\"+str(tid)+\".json\", 'w') as file: \n",
    "        tjson = copy.copy(template)\n",
    "        for k,v in template.items():\n",
    "            tjson[k] = v.replace('TOKENNUM', str(tid))\n",
    "        json.dump(tjson, file)"
   ]
  },
  {
   "cell_type": "code",
   "execution_count": null,
   "metadata": {},
   "outputs": [],
   "source": [
    "\"attributes\":[\n",
    "    {\"trait_type\":\"Tempo\",\"value\":\"Very Fast\"},\n",
    "    {\"trait_type\":\"BPM\",\"value\":\"771.07\"},\n",
    "    {\"trait_type\":\"Tonality\",\"value\":\"lydian\"},\n",
    "    {\"trait_type\":\"Fundamental Freq\",\"value\":\"66.287\"},\n",
    "    {\"trait_type\":\"Beats per Measure\",\"value\":\"12\"},\n",
    "    {\"trait_type\":\"Pitch Pattern Length\",\"value\":\"6\"},\n",
    "    {\"trait_type\":\"Pitch Variability\",\"value\":\"0\"},\n",
    "    {\"trait_type\":\"Inharmonic\",\"value\":\"No\"}]"
   ]
  },
  {
   "cell_type": "code",
   "execution_count": 46,
   "metadata": {},
   "outputs": [
    {
     "data": {
      "text/plain": [
       "{11: '0x301b2d3e032f4739d803dd10b73df48fa54d028b0fcb9b14da82cacc7960dd65',\n",
       " 12: '0x718424e8c15a020fcaac89d5dd8ada355018ffac55290db9d7950f808134ae89',\n",
       " 13: '0x1d5a94bac5b57bdb57b00fe0956b40fe971c55666e962c14b288618b4677ad7d'}"
      ]
     },
     "execution_count": 46,
     "metadata": {},
     "output_type": "execute_result"
    }
   ],
   "source": [
    "tdict"
   ]
  },
  {
   "cell_type": "code",
   "execution_count": 15,
   "metadata": {},
   "outputs": [],
   "source": [
    "import os"
   ]
  },
  {
   "cell_type": "code",
   "execution_count": 19,
   "metadata": {},
   "outputs": [
    {
     "name": "stdout",
     "output_type": "stream",
     "text": [
      "/Users/trentonbricken/blitzgenerative.github.io/assets/vids/SpikeBall null.mp4 saved.\n",
      "Finished.\n",
      "/Users/trentonbricken/blitzgenerative.github.io/assets/vids/SpikeBall null.mp4 saved.\n",
      "Finished.\n"
     ]
    }
   ],
   "source": [
    "for k,v in tdict.items():\n",
    "    !processing-java --sketch=/Users/trentonbricken/Documents/Processing/SaveOut_java_sphere_morph --run $v\n",
    "    os.rename('/Users/trentonbricken/blitzgenerative.github.io/assets/vids/SpikeBall null.mp4',\n",
    "             '/Users/trentonbricken/blitzgenerative.github.io/assets/vids/SpikeBall '+str(k)+'.mp4')\n",
    "    os.rename('/Users/trentonbricken/blitzgenerative.github.io/assets/thumbnails/SpikeBall null.png',\n",
    "             '/Users/trentonbricken/blitzgenerative.github.io/assets/thumbnails/SpikeBall '+str(k)+'.png')\n",
    "    \n",
    "    \n",
    "    \n"
   ]
  },
  {
   "cell_type": "code",
   "execution_count": 41,
   "metadata": {},
   "outputs": [
    {
     "name": "stdout",
     "output_type": "stream",
     "text": [
      "[gh-pages 22e5462] updated series and json\n",
      " 30 files changed, 325 insertions(+), 153 deletions(-)\n",
      " rewrite uris/0.json (100%)\n",
      " create mode 100644 uris/1.json\n",
      " create mode 100644 uris/10.json\n",
      " create mode 100644 uris/11.json\n",
      " create mode 100644 uris/12.json\n",
      " create mode 100644 uris/13.json\n",
      " create mode 100644 uris/14.json\n",
      " create mode 100644 uris/15.json\n",
      " create mode 100644 uris/16.json\n",
      " create mode 100644 uris/17.json\n",
      " create mode 100644 uris/18.json\n",
      " create mode 100644 uris/19.json\n",
      " create mode 100644 uris/2.json\n",
      " create mode 100644 uris/20.json\n",
      " create mode 100644 uris/21.json\n",
      " create mode 100644 uris/22.json\n",
      " create mode 100644 uris/23.json\n",
      " create mode 100644 uris/24.json\n",
      " create mode 100644 uris/25.json\n",
      " create mode 100644 uris/26.json\n",
      " create mode 100644 uris/27.json\n",
      " create mode 100644 uris/3.json\n",
      " create mode 100644 uris/4.json\n",
      " create mode 100644 uris/5.json\n",
      " create mode 100644 uris/6.json\n",
      " create mode 100644 uris/7.json\n",
      " create mode 100644 uris/8.json\n",
      " create mode 100644 uris/9.json\n",
      "Enumerating objects: 40, done.\n",
      "Counting objects: 100% (40/40), done.\n",
      "Delta compression using up to 12 threads\n",
      "Compressing objects: 100% (34/34), done.\n",
      "Writing objects: 100% (34/34), 8.82 KiB | 4.41 MiB/s, done.\n",
      "Total 34 (delta 30), reused 0 (delta 0)\n",
      "remote: Resolving deltas: 100% (30/30), completed with 2 local objects.\u001b[K\n",
      "To https://github.com/blitzgenerative/blitzgenerative.github.io\n",
      "   835bd8c..22e5462  gh-pages -> gh-pages\n"
     ]
    }
   ],
   "source": [
    "! git add .\n",
    "! git commit -m \"updated series and json\"\n",
    "! git push"
   ]
  },
  {
   "cell_type": "code",
   "execution_count": null,
   "metadata": {},
   "outputs": [],
   "source": []
  },
  {
   "cell_type": "code",
   "execution_count": null,
   "metadata": {},
   "outputs": [],
   "source": []
  },
  {
   "cell_type": "code",
   "execution_count": null,
   "metadata": {},
   "outputs": [],
   "source": []
  },
  {
   "cell_type": "code",
   "execution_count": null,
   "metadata": {},
   "outputs": [],
   "source": []
  },
  {
   "cell_type": "markdown",
   "metadata": {},
   "source": [
    "'''\n",
    "LOAD IN DEAFBEEF CONTRACT. \n",
    "from web3.auto.infura import w3\n",
    "addr= \"0xd754937672300Ae6708a51229112dE4017810934\"\n",
    "abi = json.loads('[    {      \"inputs\": [        {          \"internalType\": \"string\",          \"name\": \"name\",          \"type\": \"string\"        },        {          \"internalType\": \"string\",          \"name\": \"symbol\",          \"type\": \"string\"        },        {          \"internalType\": \"string\",          \"name\": \"baseURI\",          \"type\": \"string\"        }      ],      \"stateMutability\": \"nonpayable\",      \"type\": \"constructor\"    },    {      \"anonymous\": false,      \"inputs\": [        {          \"indexed\": true,          \"internalType\": \"address\",          \"name\": \"owner\",          \"type\": \"address\"        },        {          \"indexed\": true,          \"internalType\": \"address\",          \"name\": \"approved\",          \"type\": \"address\"        },        {          \"indexed\": true,          \"internalType\": \"uint256\",          \"name\": \"tokenId\",          \"type\": \"uint256\"        }      ],      \"name\": \"Approval\",      \"type\": \"event\"    },    {      \"anonymous\": false,      \"inputs\": [        {          \"indexed\": true,          \"internalType\": \"address\",          \"name\": \"owner\",          \"type\": \"address\"        },        {          \"indexed\": true,          \"internalType\": \"address\",          \"name\": \"operator\",          \"type\": \"address\"        },        {          \"indexed\": false,          \"internalType\": \"bool\",          \"name\": \"approved\",          \"type\": \"bool\"        }      ],      \"name\": \"ApprovalForAll\",      \"type\": \"event\"    },    {      \"anonymous\": false,      \"inputs\": [        {          \"indexed\": true,          \"internalType\": \"bytes32\",          \"name\": \"role\",          \"type\": \"bytes32\"        },        {          \"indexed\": true,          \"internalType\": \"bytes32\",          \"name\": \"previousAdminRole\",          \"type\": \"bytes32\"        },        {          \"indexed\": true,          \"internalType\": \"bytes32\",          \"name\": \"newAdminRole\",          \"type\": \"bytes32\"        }      ],      \"name\": \"RoleAdminChanged\",      \"type\": \"event\"    },    {      \"anonymous\": false,      \"inputs\": [        {          \"indexed\": true,          \"internalType\": \"bytes32\",          \"name\": \"role\",          \"type\": \"bytes32\"        },        {          \"indexed\": true,          \"internalType\": \"address\",          \"name\": \"account\",          \"type\": \"address\"        },        {          \"indexed\": true,          \"internalType\": \"address\",          \"name\": \"sender\",          \"type\": \"address\"        }      ],      \"name\": \"RoleGranted\",      \"type\": \"event\"    },    {      \"anonymous\": false,      \"inputs\": [        {          \"indexed\": true,          \"internalType\": \"bytes32\",          \"name\": \"role\",          \"type\": \"bytes32\"        },        {          \"indexed\": true,          \"internalType\": \"address\",          \"name\": \"account\",          \"type\": \"address\"        },        {          \"indexed\": true,          \"internalType\": \"address\",          \"name\": \"sender\",          \"type\": \"address\"        }      ],      \"name\": \"RoleRevoked\",      \"type\": \"event\"    },    {      \"anonymous\": false,      \"inputs\": [        {          \"indexed\": true,          \"internalType\": \"address\",          \"name\": \"from\",          \"type\": \"address\"        },        {          \"indexed\": true,          \"internalType\": \"address\",          \"name\": \"to\",          \"type\": \"address\"        },        {          \"indexed\": true,          \"internalType\": \"uint256\",          \"name\": \"tokenId\",          \"type\": \"uint256\"        }      ],      \"name\": \"Transfer\",      \"type\": \"event\"    },    {      \"inputs\": [],      \"name\": \"DEFAULT_ADMIN_ROLE\",      \"outputs\": [        {          \"internalType\": \"bytes32\",          \"name\": \"\",          \"type\": \"bytes32\"        }      ],      \"stateMutability\": \"view\",      \"type\": \"function\",      \"constant\": true    },    {      \"inputs\": [],      \"name\": \"MINTER_ROLE\",      \"outputs\": [        {          \"internalType\": \"bytes32\",          \"name\": \"\",          \"type\": \"bytes32\"        }      ],      \"stateMutability\": \"view\",      \"type\": \"function\",      \"constant\": true    },    {      \"inputs\": [        {          \"internalType\": \"address\",          \"name\": \"to\",          \"type\": \"address\"        },        {          \"internalType\": \"uint256\",          \"name\": \"tokenId\",          \"type\": \"uint256\"        }      ],      \"name\": \"approve\",      \"outputs\": [],      \"stateMutability\": \"nonpayable\",      \"type\": \"function\"    },    {      \"inputs\": [        {          \"internalType\": \"address\",          \"name\": \"owner\",          \"type\": \"address\"        }      ],      \"name\": \"balanceOf\",      \"outputs\": [        {          \"internalType\": \"uint256\",          \"name\": \"\",          \"type\": \"uint256\"        }      ],      \"stateMutability\": \"view\",      \"type\": \"function\",      \"constant\": true    },    {      \"inputs\": [],      \"name\": \"baseURI\",      \"outputs\": [        {          \"internalType\": \"string\",          \"name\": \"\",          \"type\": \"string\"        }      ],      \"stateMutability\": \"view\",      \"type\": \"function\",      \"constant\": true    },    {      \"inputs\": [        {          \"internalType\": \"uint256\",          \"name\": \"tokenId\",          \"type\": \"uint256\"        }      ],      \"name\": \"getApproved\",      \"outputs\": [        {          \"internalType\": \"address\",          \"name\": \"\",          \"type\": \"address\"        }      ],      \"stateMutability\": \"view\",      \"type\": \"function\",      \"constant\": true    },    {      \"inputs\": [        {          \"internalType\": \"bytes32\",          \"name\": \"role\",          \"type\": \"bytes32\"        }      ],      \"name\": \"getRoleAdmin\",      \"outputs\": [        {          \"internalType\": \"bytes32\",          \"name\": \"\",          \"type\": \"bytes32\"        }      ],      \"stateMutability\": \"view\",      \"type\": \"function\",      \"constant\": true    },    {      \"inputs\": [        {          \"internalType\": \"bytes32\",          \"name\": \"role\",          \"type\": \"bytes32\"        },        {          \"internalType\": \"uint256\",          \"name\": \"index\",          \"type\": \"uint256\"        }      ],      \"name\": \"getRoleMember\",      \"outputs\": [        {          \"internalType\": \"address\",          \"name\": \"\",          \"type\": \"address\"        }      ],      \"stateMutability\": \"view\",      \"type\": \"function\",      \"constant\": true    },    {      \"inputs\": [        {          \"internalType\": \"bytes32\",          \"name\": \"role\",          \"type\": \"bytes32\"        }      ],      \"name\": \"getRoleMemberCount\",      \"outputs\": [        {          \"internalType\": \"uint256\",          \"name\": \"\",          \"type\": \"uint256\"        }      ],      \"stateMutability\": \"view\",      \"type\": \"function\",      \"constant\": true    },    {      \"inputs\": [        {          \"internalType\": \"bytes32\",          \"name\": \"role\",          \"type\": \"bytes32\"        },        {          \"internalType\": \"address\",          \"name\": \"account\",          \"type\": \"address\"        }      ],      \"name\": \"grantRole\",      \"outputs\": [],      \"stateMutability\": \"nonpayable\",      \"type\": \"function\"    },    {      \"inputs\": [        {          \"internalType\": \"bytes32\",          \"name\": \"role\",          \"type\": \"bytes32\"        },        {          \"internalType\": \"address\",          \"name\": \"account\",          \"type\": \"address\"        }      ],      \"name\": \"hasRole\",      \"outputs\": [        {          \"internalType\": \"bool\",          \"name\": \"\",          \"type\": \"bool\"        }      ],      \"stateMutability\": \"view\",      \"type\": \"function\",      \"constant\": true    },    {      \"inputs\": [        {          \"internalType\": \"address\",          \"name\": \"owner\",          \"type\": \"address\"        },        {          \"internalType\": \"address\",          \"name\": \"operator\",          \"type\": \"address\"        }      ],      \"name\": \"isApprovedForAll\",      \"outputs\": [        {          \"internalType\": \"bool\",          \"name\": \"\",          \"type\": \"bool\"        }      ],      \"stateMutability\": \"view\",      \"type\": \"function\",      \"constant\": true    },    {      \"inputs\": [],      \"name\": \"name\",      \"outputs\": [        {          \"internalType\": \"string\",          \"name\": \"\",          \"type\": \"string\"        }      ],      \"stateMutability\": \"view\",      \"type\": \"function\",      \"constant\": true    },    {      \"inputs\": [],      \"name\": \"numSeries\",      \"outputs\": [        {          \"internalType\": \"uint256\",          \"name\": \"\",          \"type\": \"uint256\"        }      ],      \"stateMutability\": \"view\",      \"type\": \"function\",      \"constant\": true    },    {      \"inputs\": [        {          \"internalType\": \"uint256\",          \"name\": \"tokenId\",          \"type\": \"uint256\"        }      ],      \"name\": \"ownerOf\",      \"outputs\": [        {          \"internalType\": \"address\",          \"name\": \"\",          \"type\": \"address\"        }      ],      \"stateMutability\": \"view\",      \"type\": \"function\",      \"constant\": true    },    {      \"inputs\": [        {          \"internalType\": \"bytes32\",          \"name\": \"role\",          \"type\": \"bytes32\"        },        {          \"internalType\": \"address\",          \"name\": \"account\",          \"type\": \"address\"        }      ],      \"name\": \"renounceRole\",      \"outputs\": [],      \"stateMutability\": \"nonpayable\",      \"type\": \"function\"    },    {      \"inputs\": [        {          \"internalType\": \"bytes32\",          \"name\": \"role\",          \"type\": \"bytes32\"        },        {          \"internalType\": \"address\",          \"name\": \"account\",          \"type\": \"address\"        }      ],      \"name\": \"revokeRole\",      \"outputs\": [],      \"stateMutability\": \"nonpayable\",      \"type\": \"function\"    },    {      \"inputs\": [        {          \"internalType\": \"address\",          \"name\": \"from\",          \"type\": \"address\"        },        {          \"internalType\": \"address\",          \"name\": \"to\",          \"type\": \"address\"        },        {          \"internalType\": \"uint256\",          \"name\": \"tokenId\",          \"type\": \"uint256\"        }      ],      \"name\": \"safeTransferFrom\",      \"outputs\": [],      \"stateMutability\": \"nonpayable\",      \"type\": \"function\"    },    {      \"inputs\": [        {          \"internalType\": \"address\",          \"name\": \"from\",          \"type\": \"address\"        },        {          \"internalType\": \"address\",          \"name\": \"to\",          \"type\": \"address\"        },        {          \"internalType\": \"uint256\",          \"name\": \"tokenId\",          \"type\": \"uint256\"        },        {          \"internalType\": \"bytes\",          \"name\": \"_data\",          \"type\": \"bytes\"        }      ],      \"name\": \"safeTransferFrom\",      \"outputs\": [],      \"stateMutability\": \"nonpayable\",      \"type\": \"function\"    },    {      \"inputs\": [        {          \"internalType\": \"address\",          \"name\": \"operator\",          \"type\": \"address\"        },        {          \"internalType\": \"bool\",          \"name\": \"approved\",          \"type\": \"bool\"        }      ],      \"name\": \"setApprovalForAll\",      \"outputs\": [],      \"stateMutability\": \"nonpayable\",      \"type\": \"function\"    },    {      \"inputs\": [        {          \"internalType\": \"bytes4\",          \"name\": \"interfaceId\",          \"type\": \"bytes4\"        }      ],      \"name\": \"supportsInterface\",      \"outputs\": [        {          \"internalType\": \"bool\",          \"name\": \"\",          \"type\": \"bool\"        }      ],      \"stateMutability\": \"view\",      \"type\": \"function\",      \"constant\": true    },    {      \"inputs\": [],      \"name\": \"symbol\",      \"outputs\": [        {          \"internalType\": \"string\",          \"name\": \"\",          \"type\": \"string\"        }      ],      \"stateMutability\": \"view\",      \"type\": \"function\",      \"constant\": true    },    {      \"inputs\": [        {          \"internalType\": \"uint256\",          \"name\": \"index\",          \"type\": \"uint256\"        }      ],      \"name\": \"tokenByIndex\",      \"outputs\": [        {          \"internalType\": \"uint256\",          \"name\": \"\",          \"type\": \"uint256\"        }      ],      \"stateMutability\": \"view\",      \"type\": \"function\",      \"constant\": true    },    {      \"inputs\": [        {          \"internalType\": \"address\",          \"name\": \"owner\",          \"type\": \"address\"        },        {          \"internalType\": \"uint256\",          \"name\": \"index\",          \"type\": \"uint256\"        }      ],      \"name\": \"tokenOfOwnerByIndex\",      \"outputs\": [        {          \"internalType\": \"uint256\",          \"name\": \"\",          \"type\": \"uint256\"        }      ],      \"stateMutability\": \"view\",      \"type\": \"function\",      \"constant\": true    },    {      \"inputs\": [        {          \"internalType\": \"uint256\",          \"name\": \"tokenId\",          \"type\": \"uint256\"        }      ],      \"name\": \"tokenURI\",      \"outputs\": [        {          \"internalType\": \"string\",          \"name\": \"\",          \"type\": \"string\"        }      ],      \"stateMutability\": \"view\",      \"type\": \"function\",      \"constant\": true    },    {      \"inputs\": [],      \"name\": \"totalSupply\",      \"outputs\": [        {          \"internalType\": \"uint256\",          \"name\": \"\",          \"type\": \"uint256\"        }      ],      \"stateMutability\": \"view\",      \"type\": \"function\",      \"constant\": true    },    {      \"inputs\": [        {          \"internalType\": \"address\",          \"name\": \"from\",          \"type\": \"address\"        },        {          \"internalType\": \"address\",          \"name\": \"to\",          \"type\": \"address\"        },        {          \"internalType\": \"uint256\",          \"name\": \"tokenId\",          \"type\": \"uint256\"        }      ],      \"name\": \"transferFrom\",      \"outputs\": [],      \"stateMutability\": \"nonpayable\",      \"type\": \"function\"    },    {      \"inputs\": [        {          \"internalType\": \"uint256\",          \"name\": \"sid\",          \"type\": \"uint256\"        },        {          \"internalType\": \"uint256\",          \"name\": \"m\",          \"type\": \"uint256\"        }      ],      \"name\": \"setMaxMint\",      \"outputs\": [],      \"stateMutability\": \"nonpayable\",      \"type\": \"function\"    },    {      \"inputs\": [        {          \"internalType\": \"uint256\",          \"name\": \"sid\",          \"type\": \"uint256\"        },        {          \"internalType\": \"uint32\",          \"name\": \"n\",          \"type\": \"uint32\"        }      ],      \"name\": \"setNumCodeLocations\",      \"outputs\": [],      \"stateMutability\": \"nonpayable\",      \"type\": \"function\"    },    {      \"inputs\": [        {          \"internalType\": \"uint256\",          \"name\": \"sid\",          \"type\": \"uint256\"        },        {          \"internalType\": \"uint256\",          \"name\": \"i\",          \"type\": \"uint256\"        },        {          \"internalType\": \"bytes32\",          \"name\": \"txhash\",          \"type\": \"bytes32\"        }      ],      \"name\": \"setCodeLocation\",      \"outputs\": [],      \"stateMutability\": \"nonpayable\",      \"type\": \"function\"    },    {      \"inputs\": [        {          \"internalType\": \"uint256\",          \"name\": \"sid\",          \"type\": \"uint256\"        },        {          \"internalType\": \"uint256\",          \"name\": \"i\",          \"type\": \"uint256\"        },        {          \"internalType\": \"uint32\",          \"name\": \"v\",          \"type\": \"uint32\"        }      ],      \"name\": \"setSeriesParam\",      \"outputs\": [],      \"stateMutability\": \"nonpayable\",      \"type\": \"function\"    },    {      \"inputs\": [        {          \"internalType\": \"uint256\",          \"name\": \"tokenID\",          \"type\": \"uint256\"        },        {          \"internalType\": \"uint256\",          \"name\": \"i\",          \"type\": \"uint256\"        },        {          \"internalType\": \"uint32\",          \"name\": \"v\",          \"type\": \"uint32\"        }      ],      \"name\": \"setTokenParam\",      \"outputs\": [],      \"stateMutability\": \"nonpayable\",      \"type\": \"function\"    },    {      \"inputs\": [        {          \"internalType\": \"uint256\",          \"name\": \"i\",          \"type\": \"uint256\"        }      ],      \"name\": \"getTokenParams\",      \"outputs\": [        {          \"internalType\": \"bytes32\",          \"name\": \"seed\",          \"type\": \"bytes32\"        },        {          \"internalType\": \"bytes32\",          \"name\": \"codeLocation0\",          \"type\": \"bytes32\"        },        {          \"internalType\": \"uint256\",          \"name\": \"seriesID\",          \"type\": \"uint256\"        },        {          \"internalType\": \"uint32\",          \"name\": \"p0\",          \"type\": \"uint32\"        },        {          \"internalType\": \"uint32\",          \"name\": \"p1\",          \"type\": \"uint32\"        },        {          \"internalType\": \"uint32\",          \"name\": \"p2\",          \"type\": \"uint32\"        },        {          \"internalType\": \"uint32\",          \"name\": \"p3\",          \"type\": \"uint32\"        },        {          \"internalType\": \"uint32\",          \"name\": \"p4\",          \"type\": \"uint32\"        },        {          \"internalType\": \"uint32\",          \"name\": \"p5\",          \"type\": \"uint32\"        },        {          \"internalType\": \"uint32\",          \"name\": \"p6\",          \"type\": \"uint32\"        },        {          \"internalType\": \"uint32\",          \"name\": \"p7\",          \"type\": \"uint32\"        }      ],      \"stateMutability\": \"view\",      \"type\": \"function\",      \"constant\": true    },    {      \"inputs\": [        {          \"internalType\": \"uint256\",          \"name\": \"i\",          \"type\": \"uint256\"        }      ],      \"name\": \"getSeriesParams\",      \"outputs\": [        {          \"internalType\": \"uint32\",          \"name\": \"p0\",          \"type\": \"uint32\"        },        {          \"internalType\": \"uint32\",          \"name\": \"p1\",          \"type\": \"uint32\"        },        {          \"internalType\": \"uint32\",          \"name\": \"p2\",          \"type\": \"uint32\"        },        {          \"internalType\": \"uint32\",          \"name\": \"p3\",          \"type\": \"uint32\"        },        {          \"internalType\": \"uint32\",          \"name\": \"p4\",          \"type\": \"uint32\"        },        {          \"internalType\": \"uint32\",          \"name\": \"p5\",          \"type\": \"uint32\"        },        {          \"internalType\": \"uint32\",          \"name\": \"p6\",          \"type\": \"uint32\"        },        {          \"internalType\": \"uint32\",          \"name\": \"p7\",          \"type\": \"uint32\"        }      ],      \"stateMutability\": \"view\",      \"type\": \"function\",      \"constant\": true    },    {      \"inputs\": [        {          \"internalType\": \"uint256\",          \"name\": \"i\",          \"type\": \"uint256\"        }      ],      \"name\": \"getSeries\",      \"outputs\": [        {          \"internalType\": \"bytes32\",          \"name\": \"codeLocation0\",          \"type\": \"bytes32\"        },        {          \"internalType\": \"uint256\",          \"name\": \"numCodeLocations\",          \"type\": \"uint256\"        },        {          \"internalType\": \"uint256\",          \"name\": \"numMint\",          \"type\": \"uint256\"        },        {          \"internalType\": \"uint256\",          \"name\": \"maxMint\",          \"type\": \"uint256\"        },        {          \"internalType\": \"uint256\",          \"name\": \"curPricePerToken\",          \"type\": \"uint256\"        },        {          \"internalType\": \"bool\",          \"name\": \"paused\",          \"type\": \"bool\"        },        {          \"internalType\": \"bool\",          \"name\": \"locked\",          \"type\": \"bool\"        }      ],      \"stateMutability\": \"view\",      \"type\": \"function\",      \"constant\": true    },    {      \"inputs\": [        {          \"internalType\": \"uint256\",          \"name\": \"sid\",          \"type\": \"uint256\"        },        {          \"internalType\": \"uint256\",          \"name\": \"i\",          \"type\": \"uint256\"        }      ],      \"name\": \"getCodeLocation\",      \"outputs\": [        {          \"internalType\": \"bytes32\",          \"name\": \"txhash\",          \"type\": \"bytes32\"        }      ],      \"stateMutability\": \"view\",      \"type\": \"function\",      \"constant\": true    },    {      \"inputs\": [],      \"name\": \"addSeries\",      \"outputs\": [        {          \"internalType\": \"uint256\",          \"name\": \"sid\",          \"type\": \"uint256\"        }      ],      \"stateMutability\": \"nonpayable\",      \"type\": \"function\"    },    {      \"inputs\": [        {          \"internalType\": \"uint256\",          \"name\": \"sid\",          \"type\": \"uint256\"        },        {          \"internalType\": \"uint256\",          \"name\": \"p\",          \"type\": \"uint256\"        }      ],      \"name\": \"setPrice\",      \"outputs\": [],      \"stateMutability\": \"nonpayable\",      \"type\": \"function\"    },    {      \"inputs\": [        {          \"internalType\": \"bool\",          \"name\": \"m\",          \"type\": \"bool\"        }      ],      \"name\": \"setAllowInternalPurchases\",      \"outputs\": [],      \"stateMutability\": \"nonpayable\",      \"type\": \"function\"    },    {      \"inputs\": [        {          \"internalType\": \"uint256\",          \"name\": \"sid\",          \"type\": \"uint256\"        },        {          \"internalType\": \"bool\",          \"name\": \"m\",          \"type\": \"bool\"        }      ],      \"name\": \"setPaused\",      \"outputs\": [],      \"stateMutability\": \"nonpayable\",      \"type\": \"function\"    },    {      \"inputs\": [        {          \"internalType\": \"uint256\",          \"name\": \"sid\",          \"type\": \"uint256\"        }      ],      \"name\": \"lockCodeForever\",      \"outputs\": [],      \"stateMutability\": \"nonpayable\",      \"type\": \"function\"    },    {      \"inputs\": [        {          \"internalType\": \"uint256\",          \"name\": \"amount\",          \"type\": \"uint256\"        }      ],      \"name\": \"withdraw\",      \"outputs\": [],      \"stateMutability\": \"nonpayable\",      \"type\": \"function\"    },    {      \"inputs\": [        {          \"internalType\": \"string\",          \"name\": \"baseURI\",          \"type\": \"string\"        }      ],      \"name\": \"setBaseURI\",      \"outputs\": [],      \"stateMutability\": \"nonpayable\",      \"type\": \"function\"    },    {      \"inputs\": [        {          \"internalType\": \"uint256\",          \"name\": \"sid\",          \"type\": \"uint256\"        },        {          \"internalType\": \"address\",          \"name\": \"to\",          \"type\": \"address\"        }      ],      \"name\": \"mint\",      \"outputs\": [        {          \"internalType\": \"uint256\",          \"name\": \"_tokenId\",          \"type\": \"uint256\"        }      ],      \"stateMutability\": \"nonpayable\",      \"type\": \"function\"    },    {      \"inputs\": [        {          \"internalType\": \"uint256\",          \"name\": \"sid\",          \"type\": \"uint256\"        }      ],      \"name\": \"purchase\",      \"outputs\": [        {          \"internalType\": \"uint256\",          \"name\": \"_tokenId\",          \"type\": \"uint256\"        }      ],      \"stateMutability\": \"payable\",      \"type\": \"function\",      \"payable\": true    },    {      \"inputs\": [        {          \"internalType\": \"uint256\",          \"name\": \"sid\",          \"type\": \"uint256\"        },        {          \"internalType\": \"address\",          \"name\": \"_to\",          \"type\": \"address\"        }      ],      \"name\": \"purchaseTo\",      \"outputs\": [        {          \"internalType\": \"uint256\",          \"name\": \"_tokenId\",          \"type\": \"uint256\"        }      ],      \"stateMutability\": \"payable\",      \"type\": \"function\",      \"payable\": true    }    ]')\n",
    "sc = w3.eth.contract(abi=abi, address=addr)'''"
   ]
  }
 ],
 "metadata": {
  "kernelspec": {
   "display_name": "Python 3",
   "language": "python",
   "name": "python3"
  },
  "language_info": {
   "codemirror_mode": {
    "name": "ipython",
    "version": 3
   },
   "file_extension": ".py",
   "mimetype": "text/x-python",
   "name": "python",
   "nbconvert_exporter": "python",
   "pygments_lexer": "ipython3",
   "version": "3.7.5"
  }
 },
 "nbformat": 4,
 "nbformat_minor": 4
}
