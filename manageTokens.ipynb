{
 "cells": [
  {
   "cell_type": "code",
   "execution_count": 1,
   "metadata": {},
   "outputs": [],
   "source": [
    "from web3 import Web3\n",
    "w3 = Web3(Web3.HTTPProvider('https://infura.io/v3/7666ec09a4e747b5aea5380b91f62f9b'))\n"
   ]
  },
  {
   "cell_type": "code",
   "execution_count": 2,
   "metadata": {},
   "outputs": [
    {
     "data": {
      "text/plain": [
       "<web3.main.Web3 at 0x7fa11f63f650>"
      ]
     },
     "execution_count": 2,
     "metadata": {},
     "output_type": "execute_result"
    }
   ],
   "source": [
    "w3"
   ]
  },
  {
   "cell_type": "code",
   "execution_count": 3,
   "metadata": {},
   "outputs": [],
   "source": [
    "import os\n",
    "os.environ['WEB3_INFURA_PROJECT_ID']='7666ec09a4e747b5aea5380b91f62f9b'"
   ]
  },
  {
   "cell_type": "code",
   "execution_count": 4,
   "metadata": {},
   "outputs": [
    {
     "data": {
      "text/plain": [
       "13595361"
      ]
     },
     "execution_count": 4,
     "metadata": {},
     "output_type": "execute_result"
    }
   ],
   "source": [
    "from web3.auto.infura import w3 \n",
    "import json \n",
    "w3.eth.block_number"
   ]
  },
  {
   "cell_type": "code",
   "execution_count": 5,
   "metadata": {},
   "outputs": [],
   "source": [
    "abi = json.loads('[\t{\t\t\"inputs\": [],\t\t\"stateMutability\": \"nonpayable\",\t\t\"type\": \"constructor\"\t},\t{\t\t\"anonymous\": false,\t\t\"inputs\": [\t\t\t{\t\t\t\t\"indexed\": true,\t\t\t\t\"internalType\": \"address\",\t\t\t\t\"name\": \"owner\",\t\t\t\t\"type\": \"address\"\t\t\t},\t\t\t{\t\t\t\t\"indexed\": true,\t\t\t\t\"internalType\": \"address\",\t\t\t\t\"name\": \"approved\",\t\t\t\t\"type\": \"address\"\t\t\t},\t\t\t{\t\t\t\t\"indexed\": true,\t\t\t\t\"internalType\": \"uint256\",\t\t\t\t\"name\": \"tokenId\",\t\t\t\t\"type\": \"uint256\"\t\t\t}\t\t],\t\t\"name\": \"Approval\",\t\t\"type\": \"event\"\t},\t{\t\t\"anonymous\": false,\t\t\"inputs\": [\t\t\t{\t\t\t\t\"indexed\": true,\t\t\t\t\"internalType\": \"address\",\t\t\t\t\"name\": \"owner\",\t\t\t\t\"type\": \"address\"\t\t\t},\t\t\t{\t\t\t\t\"indexed\": true,\t\t\t\t\"internalType\": \"address\",\t\t\t\t\"name\": \"operator\",\t\t\t\t\"type\": \"address\"\t\t\t},\t\t\t{\t\t\t\t\"indexed\": false,\t\t\t\t\"internalType\": \"bool\",\t\t\t\t\"name\": \"approved\",\t\t\t\t\"type\": \"bool\"\t\t\t}\t\t],\t\t\"name\": \"ApprovalForAll\",\t\t\"type\": \"event\"\t},\t{\t\t\"anonymous\": false,\t\t\"inputs\": [\t\t\t{\t\t\t\t\"indexed\": true,\t\t\t\t\"internalType\": \"address\",\t\t\t\t\"name\": \"to\",\t\t\t\t\"type\": \"address\"\t\t\t},\t\t\t{\t\t\t\t\"indexed\": true,\t\t\t\t\"internalType\": \"uint256\",\t\t\t\t\"name\": \"tokenID\",\t\t\t\t\"type\": \"uint256\"\t\t\t},\t\t\t{\t\t\t\t\"indexed\": true,\t\t\t\t\"internalType\": \"uint256\",\t\t\t\t\"name\": \"sid\",\t\t\t\t\"type\": \"uint256\"\t\t\t}\t\t],\t\t\"name\": \"Mint\",\t\t\"type\": \"event\"\t},\t{\t\t\"anonymous\": false,\t\t\"inputs\": [\t\t\t{\t\t\t\t\"indexed\": true,\t\t\t\t\"internalType\": \"bytes32\",\t\t\t\t\"name\": \"role\",\t\t\t\t\"type\": \"bytes32\"\t\t\t},\t\t\t{\t\t\t\t\"indexed\": true,\t\t\t\t\"internalType\": \"bytes32\",\t\t\t\t\"name\": \"previousAdminRole\",\t\t\t\t\"type\": \"bytes32\"\t\t\t},\t\t\t{\t\t\t\t\"indexed\": true,\t\t\t\t\"internalType\": \"bytes32\",\t\t\t\t\"name\": \"newAdminRole\",\t\t\t\t\"type\": \"bytes32\"\t\t\t}\t\t],\t\t\"name\": \"RoleAdminChanged\",\t\t\"type\": \"event\"\t},\t{\t\t\"anonymous\": false,\t\t\"inputs\": [\t\t\t{\t\t\t\t\"indexed\": true,\t\t\t\t\"internalType\": \"bytes32\",\t\t\t\t\"name\": \"role\",\t\t\t\t\"type\": \"bytes32\"\t\t\t},\t\t\t{\t\t\t\t\"indexed\": true,\t\t\t\t\"internalType\": \"address\",\t\t\t\t\"name\": \"account\",\t\t\t\t\"type\": \"address\"\t\t\t},\t\t\t{\t\t\t\t\"indexed\": true,\t\t\t\t\"internalType\": \"address\",\t\t\t\t\"name\": \"sender\",\t\t\t\t\"type\": \"address\"\t\t\t}\t\t],\t\t\"name\": \"RoleGranted\",\t\t\"type\": \"event\"\t},\t{\t\t\"anonymous\": false,\t\t\"inputs\": [\t\t\t{\t\t\t\t\"indexed\": true,\t\t\t\t\"internalType\": \"bytes32\",\t\t\t\t\"name\": \"role\",\t\t\t\t\"type\": \"bytes32\"\t\t\t},\t\t\t{\t\t\t\t\"indexed\": true,\t\t\t\t\"internalType\": \"address\",\t\t\t\t\"name\": \"account\",\t\t\t\t\"type\": \"address\"\t\t\t},\t\t\t{\t\t\t\t\"indexed\": true,\t\t\t\t\"internalType\": \"address\",\t\t\t\t\"name\": \"sender\",\t\t\t\t\"type\": \"address\"\t\t\t}\t\t],\t\t\"name\": \"RoleRevoked\",\t\t\"type\": \"event\"\t},\t{\t\t\"anonymous\": false,\t\t\"inputs\": [\t\t\t{\t\t\t\t\"indexed\": true,\t\t\t\t\"internalType\": \"address\",\t\t\t\t\"name\": \"from\",\t\t\t\t\"type\": \"address\"\t\t\t},\t\t\t{\t\t\t\t\"indexed\": true,\t\t\t\t\"internalType\": \"address\",\t\t\t\t\"name\": \"to\",\t\t\t\t\"type\": \"address\"\t\t\t},\t\t\t{\t\t\t\t\"indexed\": true,\t\t\t\t\"internalType\": \"uint256\",\t\t\t\t\"name\": \"tokenId\",\t\t\t\t\"type\": \"uint256\"\t\t\t}\t\t],\t\t\"name\": \"Transfer\",\t\t\"type\": \"event\"\t},\t{\t\t\"inputs\": [],\t\t\"name\": \"DEFAULT_ADMIN_ROLE\",\t\t\"outputs\": [\t\t\t{\t\t\t\t\"internalType\": \"bytes32\",\t\t\t\t\"name\": \"\",\t\t\t\t\"type\": \"bytes32\"\t\t\t}\t\t],\t\t\"stateMutability\": \"view\",\t\t\"type\": \"function\"\t},\t{\t\t\"inputs\": [],\t\t\"name\": \"MINTER_ROLE\",\t\t\"outputs\": [\t\t\t{\t\t\t\t\"internalType\": \"bytes32\",\t\t\t\t\"name\": \"\",\t\t\t\t\"type\": \"bytes32\"\t\t\t}\t\t],\t\t\"stateMutability\": \"view\",\t\t\"type\": \"function\"\t},\t{\t\t\"inputs\": [\t\t\t{\t\t\t\t\"internalType\": \"uint256\",\t\t\t\t\"name\": \"startingWeiPrice\",\t\t\t\t\"type\": \"uint256\"\t\t\t},\t\t\t{\t\t\t\t\"internalType\": \"uint256\",\t\t\t\t\"name\": \"maxMint\",\t\t\t\t\"type\": \"uint256\"\t\t\t},\t\t\t{\t\t\t\t\"internalType\": \"uint256\",\t\t\t\t\"name\": \"royaltyPercentage\",\t\t\t\t\"type\": \"uint256\"\t\t\t}\t\t],\t\t\"name\": \"addSeries\",\t\t\"outputs\": [\t\t\t{\t\t\t\t\"internalType\": \"uint256\",\t\t\t\t\"name\": \"sid\",\t\t\t\t\"type\": \"uint256\"\t\t\t}\t\t],\t\t\"stateMutability\": \"nonpayable\",\t\t\"type\": \"function\"\t},\t{\t\t\"inputs\": [\t\t\t{\t\t\t\t\"internalType\": \"uint256\",\t\t\t\t\"name\": \"sid\",\t\t\t\t\"type\": \"uint256\"\t\t\t},\t\t\t{\t\t\t\t\"internalType\": \"string\",\t\t\t\t\"name\": \"_script\",\t\t\t\t\"type\": \"string\"\t\t\t}\t\t],\t\t\"name\": \"addSeriesScript\",\t\t\"outputs\": [],\t\t\"stateMutability\": \"nonpayable\",\t\t\"type\": \"function\"\t},\t{\t\t\"inputs\": [\t\t\t{\t\t\t\t\"internalType\": \"address\",\t\t\t\t\"name\": \"to\",\t\t\t\t\"type\": \"address\"\t\t\t},\t\t\t{\t\t\t\t\"internalType\": \"uint256\",\t\t\t\t\"name\": \"tokenId\",\t\t\t\t\"type\": \"uint256\"\t\t\t}\t\t],\t\t\"name\": \"approve\",\t\t\"outputs\": [],\t\t\"stateMutability\": \"nonpayable\",\t\t\"type\": \"function\"\t},\t{\t\t\"inputs\": [\t\t\t{\t\t\t\t\"internalType\": \"address\",\t\t\t\t\"name\": \"owner\",\t\t\t\t\"type\": \"address\"\t\t\t}\t\t],\t\t\"name\": \"balanceOf\",\t\t\"outputs\": [\t\t\t{\t\t\t\t\"internalType\": \"uint256\",\t\t\t\t\"name\": \"\",\t\t\t\t\"type\": \"uint256\"\t\t\t}\t\t],\t\t\"stateMutability\": \"view\",\t\t\"type\": \"function\"\t},\t{\t\t\"inputs\": [\t\t\t{\t\t\t\t\"internalType\": \"uint256\",\t\t\t\t\"name\": \"tokenId\",\t\t\t\t\"type\": \"uint256\"\t\t\t}\t\t],\t\t\"name\": \"getApproved\",\t\t\"outputs\": [\t\t\t{\t\t\t\t\"internalType\": \"address\",\t\t\t\t\"name\": \"\",\t\t\t\t\"type\": \"address\"\t\t\t}\t\t],\t\t\"stateMutability\": \"view\",\t\t\"type\": \"function\"\t},\t{\t\t\"inputs\": [\t\t\t{\t\t\t\t\"internalType\": \"bytes32\",\t\t\t\t\"name\": \"role\",\t\t\t\t\"type\": \"bytes32\"\t\t\t}\t\t],\t\t\"name\": \"getRoleAdmin\",\t\t\"outputs\": [\t\t\t{\t\t\t\t\"internalType\": \"bytes32\",\t\t\t\t\"name\": \"\",\t\t\t\t\"type\": \"bytes32\"\t\t\t}\t\t],\t\t\"stateMutability\": \"view\",\t\t\"type\": \"function\"\t},\t{\t\t\"inputs\": [\t\t\t{\t\t\t\t\"internalType\": \"uint256\",\t\t\t\t\"name\": \"i\",\t\t\t\t\"type\": \"uint256\"\t\t\t},\t\t\t{\t\t\t\t\"internalType\": \"uint256\",\t\t\t\t\"name\": \"script_id\",\t\t\t\t\"type\": \"uint256\"\t\t\t}\t\t],\t\t\"name\": \"getSeries\",\t\t\"outputs\": [\t\t\t{\t\t\t\t\"internalType\": \"string\",\t\t\t\t\"name\": \"script\",\t\t\t\t\"type\": \"string\"\t\t\t},\t\t\t{\t\t\t\t\"internalType\": \"uint256\",\t\t\t\t\"name\": \"numCodeLocations\",\t\t\t\t\"type\": \"uint256\"\t\t\t},\t\t\t{\t\t\t\t\"internalType\": \"uint256\",\t\t\t\t\"name\": \"numMint\",\t\t\t\t\"type\": \"uint256\"\t\t\t},\t\t\t{\t\t\t\t\"internalType\": \"uint256\",\t\t\t\t\"name\": \"maxMint\",\t\t\t\t\"type\": \"uint256\"\t\t\t},\t\t\t{\t\t\t\t\"internalType\": \"uint256\",\t\t\t\t\"name\": \"curPricePerToken\",\t\t\t\t\"type\": \"uint256\"\t\t\t},\t\t\t{\t\t\t\t\"internalType\": \"uint256\",\t\t\t\t\"name\": \"royaltyPercentage\",\t\t\t\t\"type\": \"uint256\"\t\t\t},\t\t\t{\t\t\t\t\"internalType\": \"string\",\t\t\t\t\"name\": \"ipfs_cid\",\t\t\t\t\"type\": \"string\"\t\t\t},\t\t\t{\t\t\t\t\"internalType\": \"bool\",\t\t\t\t\"name\": \"paused\",\t\t\t\t\"type\": \"bool\"\t\t\t},\t\t\t{\t\t\t\t\"internalType\": \"bool\",\t\t\t\t\"name\": \"locked\",\t\t\t\t\"type\": \"bool\"\t\t\t}\t\t],\t\t\"stateMutability\": \"view\",\t\t\"type\": \"function\"\t},\t{\t\t\"inputs\": [\t\t\t{\t\t\t\t\"internalType\": \"uint256\",\t\t\t\t\"name\": \"i\",\t\t\t\t\"type\": \"uint256\"\t\t\t}\t\t],\t\t\"name\": \"getTokenParams\",\t\t\"outputs\": [\t\t\t{\t\t\t\t\"internalType\": \"bytes32\",\t\t\t\t\"name\": \"seed\",\t\t\t\t\"type\": \"bytes32\"\t\t\t},\t\t\t{\t\t\t\t\"internalType\": \"string\",\t\t\t\t\"name\": \"codeLocation0\",\t\t\t\t\"type\": \"string\"\t\t\t},\t\t\t{\t\t\t\t\"internalType\": \"uint256\",\t\t\t\t\"name\": \"seriesID\",\t\t\t\t\"type\": \"uint256\"\t\t\t},\t\t\t{\t\t\t\t\"internalType\": \"uint256\",\t\t\t\t\"name\": \"royaltyPercentage\",\t\t\t\t\"type\": \"uint256\"\t\t\t},\t\t\t{\t\t\t\t\"internalType\": \"uint32\",\t\t\t\t\"name\": \"nTrades\",\t\t\t\t\"type\": \"uint32\"\t\t\t}\t\t],\t\t\"stateMutability\": \"view\",\t\t\"type\": \"function\"\t},\t{\t\t\"inputs\": [\t\t\t{\t\t\t\t\"internalType\": \"bytes32\",\t\t\t\t\"name\": \"role\",\t\t\t\t\"type\": \"bytes32\"\t\t\t},\t\t\t{\t\t\t\t\"internalType\": \"address\",\t\t\t\t\"name\": \"account\",\t\t\t\t\"type\": \"address\"\t\t\t}\t\t],\t\t\"name\": \"grantRole\",\t\t\"outputs\": [],\t\t\"stateMutability\": \"nonpayable\",\t\t\"type\": \"function\"\t},\t{\t\t\"inputs\": [\t\t\t{\t\t\t\t\"internalType\": \"bytes32\",\t\t\t\t\"name\": \"role\",\t\t\t\t\"type\": \"bytes32\"\t\t\t},\t\t\t{\t\t\t\t\"internalType\": \"address\",\t\t\t\t\"name\": \"account\",\t\t\t\t\"type\": \"address\"\t\t\t}\t\t],\t\t\"name\": \"hasRole\",\t\t\"outputs\": [\t\t\t{\t\t\t\t\"internalType\": \"bool\",\t\t\t\t\"name\": \"\",\t\t\t\t\"type\": \"bool\"\t\t\t}\t\t],\t\t\"stateMutability\": \"view\",\t\t\"type\": \"function\"\t},\t{\t\t\"inputs\": [\t\t\t{\t\t\t\t\"internalType\": \"address\",\t\t\t\t\"name\": \"owner\",\t\t\t\t\"type\": \"address\"\t\t\t},\t\t\t{\t\t\t\t\"internalType\": \"address\",\t\t\t\t\"name\": \"operator\",\t\t\t\t\"type\": \"address\"\t\t\t}\t\t],\t\t\"name\": \"isApprovedForAll\",\t\t\"outputs\": [\t\t\t{\t\t\t\t\"internalType\": \"bool\",\t\t\t\t\"name\": \"\",\t\t\t\t\"type\": \"bool\"\t\t\t}\t\t],\t\t\"stateMutability\": \"view\",\t\t\"type\": \"function\"\t},\t{\t\t\"inputs\": [\t\t\t{\t\t\t\t\"internalType\": \"uint256\",\t\t\t\t\"name\": \"sid\",\t\t\t\t\"type\": \"uint256\"\t\t\t}\t\t],\t\t\"name\": \"lockCodeForever\",\t\t\"outputs\": [],\t\t\"stateMutability\": \"nonpayable\",\t\t\"type\": \"function\"\t},\t{\t\t\"inputs\": [\t\t\t{\t\t\t\t\"internalType\": \"uint256\",\t\t\t\t\"name\": \"sid\",\t\t\t\t\"type\": \"uint256\"\t\t\t},\t\t\t{\t\t\t\t\"internalType\": \"address\",\t\t\t\t\"name\": \"to\",\t\t\t\t\"type\": \"address\"\t\t\t}\t\t],\t\t\"name\": \"minterMint\",\t\t\"outputs\": [],\t\t\"stateMutability\": \"nonpayable\",\t\t\"type\": \"function\"\t},\t{\t\t\"inputs\": [],\t\t\"name\": \"name\",\t\t\"outputs\": [\t\t\t{\t\t\t\t\"internalType\": \"string\",\t\t\t\t\"name\": \"\",\t\t\t\t\"type\": \"string\"\t\t\t}\t\t],\t\t\"stateMutability\": \"view\",\t\t\"type\": \"function\"\t},\t{\t\t\"inputs\": [],\t\t\"name\": \"numSeries\",\t\t\"outputs\": [\t\t\t{\t\t\t\t\"internalType\": \"uint256\",\t\t\t\t\"name\": \"\",\t\t\t\t\"type\": \"uint256\"\t\t\t}\t\t],\t\t\"stateMutability\": \"view\",\t\t\"type\": \"function\"\t},\t{\t\t\"inputs\": [\t\t\t{\t\t\t\t\"internalType\": \"uint256\",\t\t\t\t\"name\": \"tokenId\",\t\t\t\t\"type\": \"uint256\"\t\t\t}\t\t],\t\t\"name\": \"ownerOf\",\t\t\"outputs\": [\t\t\t{\t\t\t\t\"internalType\": \"address\",\t\t\t\t\"name\": \"\",\t\t\t\t\"type\": \"address\"\t\t\t}\t\t],\t\t\"stateMutability\": \"view\",\t\t\"type\": \"function\"\t},\t{\t\t\"inputs\": [\t\t\t{\t\t\t\t\"internalType\": \"uint256\",\t\t\t\t\"name\": \"sid\",\t\t\t\t\"type\": \"uint256\"\t\t\t}\t\t],\t\t\"name\": \"purchase\",\t\t\"outputs\": [\t\t\t{\t\t\t\t\"internalType\": \"uint256\",\t\t\t\t\"name\": \"_tokenId\",\t\t\t\t\"type\": \"uint256\"\t\t\t}\t\t],\t\t\"stateMutability\": \"payable\",\t\t\"type\": \"function\"\t},\t{\t\t\"inputs\": [\t\t\t{\t\t\t\t\"internalType\": \"bytes32\",\t\t\t\t\"name\": \"role\",\t\t\t\t\"type\": \"bytes32\"\t\t\t},\t\t\t{\t\t\t\t\"internalType\": \"address\",\t\t\t\t\"name\": \"account\",\t\t\t\t\"type\": \"address\"\t\t\t}\t\t],\t\t\"name\": \"renounceRole\",\t\t\"outputs\": [],\t\t\"stateMutability\": \"nonpayable\",\t\t\"type\": \"function\"\t},\t{\t\t\"inputs\": [\t\t\t{\t\t\t\t\"internalType\": \"bytes32\",\t\t\t\t\"name\": \"role\",\t\t\t\t\"type\": \"bytes32\"\t\t\t},\t\t\t{\t\t\t\t\"internalType\": \"address\",\t\t\t\t\"name\": \"account\",\t\t\t\t\"type\": \"address\"\t\t\t}\t\t],\t\t\"name\": \"revokeRole\",\t\t\"outputs\": [],\t\t\"stateMutability\": \"nonpayable\",\t\t\"type\": \"function\"\t},\t{\t\t\"inputs\": [\t\t\t{\t\t\t\t\"internalType\": \"address\",\t\t\t\t\"name\": \"from\",\t\t\t\t\"type\": \"address\"\t\t\t},\t\t\t{\t\t\t\t\"internalType\": \"address\",\t\t\t\t\"name\": \"to\",\t\t\t\t\"type\": \"address\"\t\t\t},\t\t\t{\t\t\t\t\"internalType\": \"uint256\",\t\t\t\t\"name\": \"tokenId\",\t\t\t\t\"type\": \"uint256\"\t\t\t}\t\t],\t\t\"name\": \"safeTransferFrom\",\t\t\"outputs\": [],\t\t\"stateMutability\": \"nonpayable\",\t\t\"type\": \"function\"\t},\t{\t\t\"inputs\": [\t\t\t{\t\t\t\t\"internalType\": \"address\",\t\t\t\t\"name\": \"from\",\t\t\t\t\"type\": \"address\"\t\t\t},\t\t\t{\t\t\t\t\"internalType\": \"address\",\t\t\t\t\"name\": \"to\",\t\t\t\t\"type\": \"address\"\t\t\t},\t\t\t{\t\t\t\t\"internalType\": \"uint256\",\t\t\t\t\"name\": \"tokenId\",\t\t\t\t\"type\": \"uint256\"\t\t\t},\t\t\t{\t\t\t\t\"internalType\": \"bytes\",\t\t\t\t\"name\": \"_data\",\t\t\t\t\"type\": \"bytes\"\t\t\t}\t\t],\t\t\"name\": \"safeTransferFrom\",\t\t\"outputs\": [],\t\t\"stateMutability\": \"nonpayable\",\t\t\"type\": \"function\"\t},\t{\t\t\"inputs\": [\t\t\t{\t\t\t\t\"internalType\": \"bool\",\t\t\t\t\"name\": \"m\",\t\t\t\t\"type\": \"bool\"\t\t\t}\t\t],\t\t\"name\": \"setAllowInternalPurchases\",\t\t\"outputs\": [],\t\t\"stateMutability\": \"nonpayable\",\t\t\"type\": \"function\"\t},\t{\t\t\"inputs\": [\t\t\t{\t\t\t\t\"internalType\": \"address\",\t\t\t\t\"name\": \"operator\",\t\t\t\t\"type\": \"address\"\t\t\t},\t\t\t{\t\t\t\t\"internalType\": \"bool\",\t\t\t\t\"name\": \"approved\",\t\t\t\t\"type\": \"bool\"\t\t\t}\t\t],\t\t\"name\": \"setApprovalForAll\",\t\t\"outputs\": [],\t\t\"stateMutability\": \"nonpayable\",\t\t\"type\": \"function\"\t},\t{\t\t\"inputs\": [\t\t\t{\t\t\t\t\"internalType\": \"uint256\",\t\t\t\t\"name\": \"sid\",\t\t\t\t\"type\": \"uint256\"\t\t\t},\t\t\t{\t\t\t\t\"internalType\": \"uint256\",\t\t\t\t\"name\": \"m\",\t\t\t\t\"type\": \"uint256\"\t\t\t}\t\t],\t\t\"name\": \"setMaxMint\",\t\t\"outputs\": [],\t\t\"stateMutability\": \"nonpayable\",\t\t\"type\": \"function\"\t},\t{\t\t\"inputs\": [\t\t\t{\t\t\t\t\"internalType\": \"uint256\",\t\t\t\t\"name\": \"sid\",\t\t\t\t\"type\": \"uint256\"\t\t\t},\t\t\t{\t\t\t\t\"internalType\": \"uint256\",\t\t\t\t\"name\": \"m\",\t\t\t\t\"type\": \"uint256\"\t\t\t}\t\t],\t\t\"name\": \"setSecondaryMarketPercentage\",\t\t\"outputs\": [],\t\t\"stateMutability\": \"nonpayable\",\t\t\"type\": \"function\"\t},\t{\t\t\"inputs\": [\t\t\t{\t\t\t\t\"internalType\": \"uint256\",\t\t\t\t\"name\": \"sid\",\t\t\t\t\"type\": \"uint256\"\t\t\t},\t\t\t{\t\t\t\t\"internalType\": \"string\",\t\t\t\t\"name\": \"cid\",\t\t\t\t\"type\": \"string\"\t\t\t}\t\t],\t\t\"name\": \"setSeriesIPFS\",\t\t\"outputs\": [],\t\t\"stateMutability\": \"nonpayable\",\t\t\"type\": \"function\"\t},\t{\t\t\"inputs\": [\t\t\t{\t\t\t\t\"internalType\": \"uint256\",\t\t\t\t\"name\": \"sid\",\t\t\t\t\"type\": \"uint256\"\t\t\t},\t\t\t{\t\t\t\t\"internalType\": \"bool\",\t\t\t\t\"name\": \"m\",\t\t\t\t\"type\": \"bool\"\t\t\t}\t\t],\t\t\"name\": \"setSeriesPause\",\t\t\"outputs\": [],\t\t\"stateMutability\": \"nonpayable\",\t\t\"type\": \"function\"\t},\t{\t\t\"inputs\": [\t\t\t{\t\t\t\t\"internalType\": \"uint256\",\t\t\t\t\"name\": \"sid\",\t\t\t\t\"type\": \"uint256\"\t\t\t},\t\t\t{\t\t\t\t\"internalType\": \"uint256\",\t\t\t\t\"name\": \"p\",\t\t\t\t\"type\": \"uint256\"\t\t\t}\t\t],\t\t\"name\": \"setWeiPrice\",\t\t\"outputs\": [],\t\t\"stateMutability\": \"nonpayable\",\t\t\"type\": \"function\"\t},\t{\t\t\"inputs\": [\t\t\t{\t\t\t\t\"internalType\": \"uint256\",\t\t\t\t\"name\": \"sid\",\t\t\t\t\"type\": \"uint256\"\t\t\t}\t\t],\t\t\"name\": \"showAllTokensPerSeries\",\t\t\"outputs\": [\t\t\t{\t\t\t\t\"internalType\": \"uint256[]\",\t\t\t\t\"name\": \"\",\t\t\t\t\"type\": \"uint256[]\"\t\t\t}\t\t],\t\t\"stateMutability\": \"view\",\t\t\"type\": \"function\"\t},\t{\t\t\"inputs\": [\t\t\t{\t\t\t\t\"internalType\": \"bytes4\",\t\t\t\t\"name\": \"interfaceId\",\t\t\t\t\"type\": \"bytes4\"\t\t\t}\t\t],\t\t\"name\": \"supportsInterface\",\t\t\"outputs\": [\t\t\t{\t\t\t\t\"internalType\": \"bool\",\t\t\t\t\"name\": \"\",\t\t\t\t\"type\": \"bool\"\t\t\t}\t\t],\t\t\"stateMutability\": \"view\",\t\t\"type\": \"function\"\t},\t{\t\t\"inputs\": [],\t\t\"name\": \"symbol\",\t\t\"outputs\": [\t\t\t{\t\t\t\t\"internalType\": \"string\",\t\t\t\t\"name\": \"\",\t\t\t\t\"type\": \"string\"\t\t\t}\t\t],\t\t\"stateMutability\": \"view\",\t\t\"type\": \"function\"\t},\t{\t\t\"inputs\": [\t\t\t{\t\t\t\t\"internalType\": \"uint256\",\t\t\t\t\"name\": \"index\",\t\t\t\t\"type\": \"uint256\"\t\t\t}\t\t],\t\t\"name\": \"tokenByIndex\",\t\t\"outputs\": [\t\t\t{\t\t\t\t\"internalType\": \"uint256\",\t\t\t\t\"name\": \"\",\t\t\t\t\"type\": \"uint256\"\t\t\t}\t\t],\t\t\"stateMutability\": \"view\",\t\t\"type\": \"function\"\t},\t{\t\t\"inputs\": [\t\t\t{\t\t\t\t\"internalType\": \"address\",\t\t\t\t\"name\": \"owner\",\t\t\t\t\"type\": \"address\"\t\t\t},\t\t\t{\t\t\t\t\"internalType\": \"uint256\",\t\t\t\t\"name\": \"index\",\t\t\t\t\"type\": \"uint256\"\t\t\t}\t\t],\t\t\"name\": \"tokenOfOwnerByIndex\",\t\t\"outputs\": [\t\t\t{\t\t\t\t\"internalType\": \"uint256\",\t\t\t\t\"name\": \"\",\t\t\t\t\"type\": \"uint256\"\t\t\t}\t\t],\t\t\"stateMutability\": \"view\",\t\t\"type\": \"function\"\t},\t{\t\t\"inputs\": [\t\t\t{\t\t\t\t\"internalType\": \"uint256\",\t\t\t\t\"name\": \"tokenId\",\t\t\t\t\"type\": \"uint256\"\t\t\t}\t\t],\t\t\"name\": \"tokenURI\",\t\t\"outputs\": [\t\t\t{\t\t\t\t\"internalType\": \"string\",\t\t\t\t\"name\": \"\",\t\t\t\t\"type\": \"string\"\t\t\t}\t\t],\t\t\"stateMutability\": \"view\",\t\t\"type\": \"function\"\t},\t{\t\t\"inputs\": [\t\t\t{\t\t\t\t\"internalType\": \"address\",\t\t\t\t\"name\": \"owner\",\t\t\t\t\"type\": \"address\"\t\t\t}\t\t],\t\t\"name\": \"tokensOfOwner\",\t\t\"outputs\": [\t\t\t{\t\t\t\t\"internalType\": \"uint256[]\",\t\t\t\t\"name\": \"\",\t\t\t\t\"type\": \"uint256[]\"\t\t\t}\t\t],\t\t\"stateMutability\": \"view\",\t\t\"type\": \"function\"\t},\t{\t\t\"inputs\": [],\t\t\"name\": \"totalSupply\",\t\t\"outputs\": [\t\t\t{\t\t\t\t\"internalType\": \"uint256\",\t\t\t\t\"name\": \"\",\t\t\t\t\"type\": \"uint256\"\t\t\t}\t\t],\t\t\"stateMutability\": \"view\",\t\t\"type\": \"function\"\t},\t{\t\t\"inputs\": [\t\t\t{\t\t\t\t\"internalType\": \"address\",\t\t\t\t\"name\": \"from\",\t\t\t\t\"type\": \"address\"\t\t\t},\t\t\t{\t\t\t\t\"internalType\": \"address\",\t\t\t\t\"name\": \"to\",\t\t\t\t\"type\": \"address\"\t\t\t},\t\t\t{\t\t\t\t\"internalType\": \"uint256\",\t\t\t\t\"name\": \"tokenId\",\t\t\t\t\"type\": \"uint256\"\t\t\t}\t\t],\t\t\"name\": \"transferFrom\",\t\t\"outputs\": [],\t\t\"stateMutability\": \"nonpayable\",\t\t\"type\": \"function\"\t},\t{\t\t\"inputs\": [\t\t\t{\t\t\t\t\"internalType\": \"uint256\",\t\t\t\t\"name\": \"sid\",\t\t\t\t\"type\": \"uint256\"\t\t\t},\t\t\t{\t\t\t\t\"internalType\": \"uint256\",\t\t\t\t\"name\": \"_scriptId\",\t\t\t\t\"type\": \"uint256\"\t\t\t},\t\t\t{\t\t\t\t\"internalType\": \"string\",\t\t\t\t\"name\": \"_script\",\t\t\t\t\"type\": \"string\"\t\t\t}\t\t],\t\t\"name\": \"updateSeriesScript\",\t\t\"outputs\": [],\t\t\"stateMutability\": \"nonpayable\",\t\t\"type\": \"function\"\t},\t{\t\t\"inputs\": [\t\t\t{\t\t\t\t\"internalType\": \"uint256\",\t\t\t\t\"name\": \"amount\",\t\t\t\t\"type\": \"uint256\"\t\t\t}\t\t],\t\t\"name\": \"withdraw\",\t\t\"outputs\": [],\t\t\"stateMutability\": \"nonpayable\",\t\t\"type\": \"function\"\t}]')\n",
    "contactAddress = '0x08e8BD2b24ebeF3ef407AcA9dB13436D3FcE25c2'\n",
    "      \n",
    "sc = w3.eth.contract(abi=abi, address=contactAddress)"
   ]
  },
  {
   "cell_type": "code",
   "execution_count": 6,
   "metadata": {},
   "outputs": [
    {
     "name": "stdout",
     "output_type": "stream",
     "text": [
      "DEFAULT_ADMIN_ROLE\n",
      "MINTER_ROLE\n",
      "addSeries\n",
      "addSeriesScript\n",
      "approve\n",
      "balanceOf\n",
      "getApproved\n",
      "getRoleAdmin\n",
      "getSeries\n",
      "getTokenParams\n",
      "grantRole\n",
      "hasRole\n",
      "isApprovedForAll\n",
      "lockCodeForever\n",
      "minterMint\n",
      "name\n",
      "numSeries\n",
      "ownerOf\n",
      "purchase\n",
      "renounceRole\n",
      "revokeRole\n",
      "safeTransferFrom\n",
      "safeTransferFrom\n",
      "setAllowInternalPurchases\n",
      "setApprovalForAll\n",
      "setMaxMint\n",
      "setSecondaryMarketPercentage\n",
      "setSeriesIPFS\n",
      "setSeriesPause\n",
      "setWeiPrice\n",
      "showAllTokensPerSeries\n",
      "supportsInterface\n",
      "symbol\n",
      "tokenByIndex\n",
      "tokenOfOwnerByIndex\n",
      "tokenURI\n",
      "tokensOfOwner\n",
      "totalSupply\n",
      "transferFrom\n",
      "updateSeriesScript\n",
      "withdraw\n"
     ]
    }
   ],
   "source": [
    "for f in sc.functions:\n",
    "    print(f)"
   ]
  },
  {
   "cell_type": "code",
   "execution_count": 7,
   "metadata": {},
   "outputs": [
    {
     "data": {
      "text/plain": [
       "'https://blitzgenerative.com/uris/0.json'"
      ]
     },
     "execution_count": 7,
     "metadata": {},
     "output_type": "execute_result"
    }
   ],
   "source": [
    "sc.functions.tokenURI(0).call()"
   ]
  },
  {
   "cell_type": "code",
   "execution_count": 8,
   "metadata": {},
   "outputs": [
    {
     "name": "stdout",
     "output_type": "stream",
     "text": [
      "<class 'web3._utils.datatypes.Approval'>\n",
      "<class 'web3._utils.datatypes.ApprovalForAll'>\n",
      "<class 'web3._utils.datatypes.Mint'>\n",
      "<class 'web3._utils.datatypes.RoleAdminChanged'>\n",
      "<class 'web3._utils.datatypes.RoleGranted'>\n",
      "<class 'web3._utils.datatypes.RoleRevoked'>\n",
      "<class 'web3._utils.datatypes.Transfer'>\n"
     ]
    }
   ],
   "source": [
    "for e in sc.events:\n",
    "    print(e)"
   ]
  },
  {
   "cell_type": "code",
   "execution_count": 9,
   "metadata": {},
   "outputs": [
    {
     "data": {
      "text/plain": [
       "[0, 1]"
      ]
     },
     "execution_count": 9,
     "metadata": {},
     "output_type": "execute_result"
    }
   ],
   "source": [
    "# getting all of the tokens that have been made for a series. \n",
    "\n",
    "sid = 0\n",
    "seriesName = \"SpikeBall\"\n",
    "seriesTokens = sc.functions.showAllTokensPerSeries(sid).call()\n",
    "seriesTokens"
   ]
  },
  {
   "cell_type": "code",
   "execution_count": 10,
   "metadata": {},
   "outputs": [
    {
     "data": {
      "text/plain": [
       "[1, 0]"
      ]
     },
     "execution_count": 10,
     "metadata": {},
     "output_type": "execute_result"
    }
   ],
   "source": [
    "import glob\n",
    "# seeing what tokens are already on the website: \n",
    "vids = glob.glob(\"assets/vids/*\")\n",
    "tokens_gend = []\n",
    "for v in vids: \n",
    "    if 'null' in v: \n",
    "        continue\n",
    "    tokens_gend.append( int(v.split('.mp4')[0].split(' ')[-1]))\n",
    "tokens_gend   "
   ]
  },
  {
   "cell_type": "code",
   "execution_count": 11,
   "metadata": {},
   "outputs": [
    {
     "data": {
      "text/plain": [
       "[0, 1]"
      ]
     },
     "execution_count": 11,
     "metadata": {},
     "output_type": "execute_result"
    }
   ],
   "source": [
    "regenerate_all=True \n",
    "\n",
    "if regenerate_all:\n",
    "    ungen_tokens = seriesTokens\n",
    "    w_or_a = 'w'\n",
    "else: \n",
    "    ungen_tokens = list(set(seriesTokens) - set(tokens_gend))\n",
    "    w_or_a = 'a'\n",
    "ungen_tokens"
   ]
  },
  {
   "cell_type": "code",
   "execution_count": 12,
   "metadata": {},
   "outputs": [],
   "source": [
    "tdict = {}\n",
    "with open(\"_data/works.yml\", w_or_a) as file: \n",
    "    for tid in ungen_tokens:\n",
    "        tp = sc.functions.getTokenParams(tid).call()\n",
    "        seed = Web3.toHex(tp[0])\n",
    "        tdict[tid]=seed\n",
    "        "
   ]
  },
  {
   "cell_type": "code",
   "execution_count": 14,
   "metadata": {},
   "outputs": [
    {
     "data": {
      "text/plain": [
       "{0: '0x6718d730a36743aefdd5fbe6949e7c2dfb0e79bea9c9e94f7bb12fa260f5b6cb',\n",
       " 1: '0xf1927ad968923422a8ade0d337e450d3ebbab52ed95d5170ea30b38ea361719d'}"
      ]
     },
     "execution_count": 14,
     "metadata": {},
     "output_type": "execute_result"
    }
   ],
   "source": [
    "tdict"
   ]
  },
  {
   "cell_type": "code",
   "execution_count": 15,
   "metadata": {},
   "outputs": [],
   "source": [
    "import os"
   ]
  },
  {
   "cell_type": "code",
   "execution_count": 22,
   "metadata": {},
   "outputs": [
    {
     "name": "stdout",
     "output_type": "stream",
     "text": [
      "2021-11-11 09:28:16.762 java[88497:3912575] WARNING: NSWindow drag regions should only be invalidated on the Main Thread! This will throw an exception in the future. Called from (\n",
      "\t0   AppKit                              0x00007fff22d7eed1 -[NSWindow(NSWindow_Theme) _postWindowNeedsToResetDragMarginsUnlessPostingDisabled] + 352\n",
      "\t1   AppKit                              0x00007fff22d69aa2 -[NSWindow _initContent:styleMask:backing:defer:contentView:] + 1296\n",
      "\t2   AppKit                              0x00007fff22d6958b -[NSWindow initWithContentRect:styleMask:backing:defer:] + 42\n",
      "\t3   libnativewindow_macosx.jnilib       0x00000001269973fe Java_jogamp_nativewindow_macosx_OSXUtil_CreateNSWindow0 + 398\n",
      "\t4   ???                                 0x0000000109820a88 0x0 + 4454484616\n",
      ")\n",
      "0.43255913 = prob growth \n",
      "93.47153 = rad \n",
      "3041.479 = index selector \n",
      "/Users/trentonbricken/blitzgenerative.github.io/assets/vids/SpikeBall null.mp4 saved.\n",
      "Finished.\n",
      "2021-11-11 09:29:48.958 java[88950:3916017] WARNING: NSWindow drag regions should only be invalidated on the Main Thread! This will throw an exception in the future. Called from (\n",
      "\t0   AppKit                              0x00007fff22d7eed1 -[NSWindow(NSWindow_Theme) _postWindowNeedsToResetDragMarginsUnlessPostingDisabled] + 352\n",
      "\t1   AppKit                              0x00007fff22d69aa2 -[NSWindow _initContent:styleMask:backing:defer:contentView:] + 1296\n",
      "\t2   AppKit                              0x00007fff22d6958b -[NSWindow initWithContentRect:styleMask:backing:defer:] + 42\n",
      "\t3   libnativewindow_macosx.jnilib       0x000000012d5f93fe Java_jogamp_nativewindow_macosx_OSXUtil_CreateNSWindow0 + 398\n",
      "\t4   ???                                 0x0000000111820a88 0x0 + 4588702344\n",
      ")\n",
      "0.5757903 = prob growth \n",
      "69.78315 = rad \n",
      "1173.4976 = index selector \n",
      "/Users/trentonbricken/blitzgenerative.github.io/assets/vids/SpikeBall null.mp4 saved.\n",
      "Finished.\n"
     ]
    }
   ],
   "source": [
    "for k,v in tdict.items():\n",
    "    !processing-java --sketch=/Users/trentonbricken/Documents/Processing/SaveOut_java_sphere_morph --run $v\n",
    "    os.rename('/Users/trentonbricken/blitzgenerative.github.io/assets/vids/SpikeBall null.mp4',\n",
    "             '/Users/trentonbricken/blitzgenerative.github.io/assets/vids/SpikeBall '+str(k)+'.mp4')\n",
    "    os.rename('/Users/trentonbricken/blitzgenerative.github.io/assets/thumbnails/SpikeBall null.png',\n",
    "             '/Users/trentonbricken/blitzgenerative.github.io/assets/thumbnails/SpikeBall '+str(k)+'.png')\n",
    "    os.rename('/Users/trentonbricken/blitzgenerative.github.io/uris/SpikeBall null.txt',\n",
    "             '/Users/trentonbricken/blitzgenerative.github.io/uris/SpikeBall attrs '+str(k)+'.txt')\n",
    "    \n",
    "    \n",
    "    \n"
   ]
  },
  {
   "cell_type": "code",
   "execution_count": 23,
   "metadata": {},
   "outputs": [
    {
     "name": "stdout",
     "output_type": "stream",
     "text": [
      "Collecting pinatapy-vourhey\n",
      "  Downloading pinatapy_vourhey-0.1.3-py3-none-any.whl (4.8 kB)\n",
      "Requirement already satisfied: requests in /Users/trentonbricken/anaconda3/lib/python3.7/site-packages (from pinatapy-vourhey) (2.24.0)\n",
      "Requirement already satisfied: urllib3!=1.25.0,!=1.25.1,<1.26,>=1.21.1 in /Users/trentonbricken/anaconda3/lib/python3.7/site-packages (from requests->pinatapy-vourhey) (1.25.9)\n",
      "Requirement already satisfied: certifi>=2017.4.17 in /Users/trentonbricken/anaconda3/lib/python3.7/site-packages (from requests->pinatapy-vourhey) (2021.5.30)\n",
      "Requirement already satisfied: idna<3,>=2.5 in /Users/trentonbricken/anaconda3/lib/python3.7/site-packages (from requests->pinatapy-vourhey) (2.10)\n",
      "Requirement already satisfied: chardet<4,>=3.0.2 in /Users/trentonbricken/anaconda3/lib/python3.7/site-packages (from requests->pinatapy-vourhey) (3.0.4)\n",
      "Installing collected packages: pinatapy-vourhey\n",
      "Successfully installed pinatapy-vourhey-0.1.3\n"
     ]
    }
   ],
   "source": [
    "#!pip install pinatapy-vourhey"
   ]
  },
  {
   "cell_type": "code",
   "execution_count": 31,
   "metadata": {},
   "outputs": [],
   "source": [
    "with open('pinata_api.txt', 'r') as pinf:\n",
    "    skey = pinf.readlines()"
   ]
  },
  {
   "cell_type": "code",
   "execution_count": 24,
   "metadata": {},
   "outputs": [],
   "source": [
    "# upload videos to pinata\n",
    "\n",
    "from pinatapy import PinataPy\n",
    "pinata = PinataPy('54b2e06ea26bf942a0da', skey[0])\n",
    "\n"
   ]
  },
  {
   "cell_type": "code",
   "execution_count": 26,
   "metadata": {},
   "outputs": [],
   "source": [
    "ipfs_hashes = dict()\n",
    "for tid in ungen_tokens:\n",
    "    fpath = '/Users/trentonbricken/blitzgenerative.github.io/assets/vids/SpikeBall '+str(tid)+'.mp4'\n",
    "    out = pinata.pin_file_to_ipfs(fpath)\n",
    "    ipfs_hashes[tid] = out['IpfsHash']"
   ]
  },
  {
   "cell_type": "code",
   "execution_count": 38,
   "metadata": {},
   "outputs": [],
   "source": [
    "ipfs_hashes[0]"
   ]
  },
  {
   "cell_type": "code",
   "execution_count": 39,
   "metadata": {},
   "outputs": [],
   "source": [
    "tdict = {}\n",
    "with open(\"_data/works.yml\", w_or_a) as file: \n",
    "    for tid in ungen_tokens:\n",
    "        tp = sc.functions.getTokenParams(tid).call()\n",
    "        seed = Web3.toHex(tp[0])\n",
    "        ntrades = tp[4]\n",
    "        owner = sc.functions.ownerOf(tid).call()\n",
    "        link = \"/\"+seriesName+\"-\"+str(tid)+\"/\"\n",
    "        \n",
    "        file.write(seriesName+' '+str(tid)+':'+'\\n')\n",
    "        file.write('  '+'id: '+str(tid)+'\\n')\n",
    "        file.write('  '+'link: '+link+'\\n')\n",
    "        file.write('  '+'owner: \\\"'+owner+'\\\"\\n')\n",
    "        file.write('  '+'seed: \\\"'+str(seed)+'\\\"\\n')\n",
    "        file.write('  '+'nTransactions: '+str(ntrades)+'\\n')\n",
    "        file.write('  '+'ipfs_hash: '+ipfs_hashes[tid]+'\\n')\n",
    "        tdict[tid]=seed"
   ]
  },
  {
   "cell_type": "code",
   "execution_count": 40,
   "metadata": {},
   "outputs": [],
   "source": [
    "for tid in ungen_tokens:\n",
    "    with open(\"works/SpikeBall-\"+str(tid)+\".md\", 'w') as file: \n",
    "        file.write('---\\n')\n",
    "        file.write('layout: post\\n')\n",
    "        file.write('title: SpikeBall '+str(tid)+'\\n')\n",
    "        file.write('---\\n')\n",
    "        file.write('{% include token.html %}')\n"
   ]
  },
  {
   "cell_type": "code",
   "execution_count": 25,
   "metadata": {},
   "outputs": [
    {
     "name": "stdout",
     "output_type": "stream",
     "text": [
      "Requirement already satisfied: webcolors==1.3 in /Users/trentonbricken/anaconda3/lib/python3.7/site-packages (1.3)\n"
     ]
    }
   ],
   "source": [
    "!pip install webcolors==1.3"
   ]
  },
  {
   "cell_type": "code",
   "execution_count": 41,
   "metadata": {},
   "outputs": [],
   "source": [
    "import webcolors\n",
    "import math\n",
    "\n",
    "def closest_colour(requested_colour):\n",
    "    min_colours = {}\n",
    "    for key, name in webcolors.css3_hex_to_names.items():\n",
    "        r_c, g_c, b_c = webcolors.hex_to_rgb(key)\n",
    "        rd = (r_c - requested_colour[0]) ** 2\n",
    "        gd = (g_c - requested_colour[1]) ** 2\n",
    "        bd = (b_c - requested_colour[2]) ** 2\n",
    "        min_colours[(rd + gd + bd)] = name\n",
    "    return min_colours[min(min_colours.keys())]\n",
    "\n",
    "def get_colour_name(requested_colour):\n",
    "    try:\n",
    "        closest_name = actual_name = webcolors.rgb_to_name(requested_colour)\n",
    "    except ValueError:\n",
    "        closest_name = closest_colour(requested_colour)\n",
    "        actual_name = None\n",
    "    return actual_name, closest_name\n",
    "\n",
    "def orderOfMagnitude(number):\n",
    "    return math.floor(math.log(number, 10))\n",
    "\n",
    "all_colors_names = [\"AliceBlue\",  \"AntiqueWhite\",  \"Aqua\",  \"Aquamarine\",  \"Azure\",  \"Beige\",  \"Bisque\",  \"Black\",  \"BlanchedAlmond\",  \"Blue\",  \"BlueViolet\",  \"Brown\",  \"BurlyWood\",  \"CadetBlue\",  \"Chartreuse\",  \"Chocolate\",  \"Coral\",  \"CornflowerBlue\",  \"Cornsilk\",  \"Crimson\",  \"Cyan\",  \"DarkBlue\",  \"DarkCyan\",  \"DarkGoldenRod\",  \"DarkGray\",  \"DarkGrey\",  \"DarkGreen\",  \"DarkKhaki\",  \"DarkMagenta\",  \"DarkOliveGreen\",  \"DarkOrange\",  \"DarkOrchid\",  \"DarkRed\",  \"DarkSalmon\",  \"DarkSeaGreen\",  \"DarkSlateBlue\",  \"DarkSlateGray\",  \"DarkSlateGrey\",  \"DarkTurquoise\",  \"DarkViolet\",  \"DeepPink\",  \"DeepSkyBlue\",  \"DimGray\",  \"DimGrey\",  \"DodgerBlue\",  \"FireBrick\",  \"FloralWhite\",  \"ForestGreen\",  \"Fuchsia\",  \"Gainsboro\",  \"GhostWhite\",  \"Gold\",  \"GoldenRod\",  \"Gray\",  \"Grey\",  \"Green\",  \"GreenYellow\",  \"HoneyDew\",  \"HotPink\",  \"IndianRed\",  \"Indigo\",  \"Ivory\",  \"Khaki\",  \"Lavender\",  \"LavenderBlush\",  \"LawnGreen\",  \"LemonChiffon\",  \"LightBlue\",  \"LightCoral\",  \"LightCyan\",  \"LightGoldenRodYellow\",  \"LightGray\",  \"LightGrey\",  \"LightGreen\",  \"LightPink\",  \"LightSalmon\",  \"LightSeaGreen\",  \"LightSkyBlue\",  \"LightSlateGray\",  \"LightSlateGrey\",  \"LightSteelBlue\",  \"LightYellow\",  \"Lime\",  \"LimeGreen\",  \"Linen\",  \"Magenta\",  \"Maroon\",  \"MediumAquaMarine\",  \"MediumBlue\",  \"MediumOrchid\",  \"MediumPurple\",  \"MediumSeaGreen\",  \"MediumSlateBlue\",  \"MediumSpringGreen\",  \"MediumTurquoise\",  \"MediumVioletRed\",  \"MidnightBlue\",  \"MintCream\",  \"MistyRose\",  \"Moccasin\",  \"NavajoWhite\",  \"Navy\",  \"OldLace\",  \"Olive\",  \"OliveDrab\",  \"Orange\",  \"OrangeRed\",  \"Orchid\",  \"PaleGoldenRod\",  \"PaleGreen\",  \"PaleTurquoise\",  \"PaleVioletRed\",  \"PapayaWhip\",  \"PeachPuff\",  \"Peru\",  \"Pink\",  \"Plum\",  \"PowderBlue\",  \"Purple\",  \"RebeccaPurple\",  \"Red\",  \"RosyBrown\",  \"RoyalBlue\",  \"SaddleBrown\",  \"Salmon\",  \"SandyBrown\",  \"SeaGreen\",  \"SeaShell\",  \"Sienna\",  \"Silver\",  \"SkyBlue\",  \"SlateBlue\",  \"SlateGray\",  \"SlateGrey\",  \"Snow\",  \"SpringGreen\",  \"SteelBlue\",  \"Tan\",  \"Teal\",  \"Thistle\",  \"Tomato\",  \"Turquoise\",  \"Violet\",  \"Wheat\",  \"White\",  \"WhiteSmoke\",  \"Yellow\",  \"YellowGreen\",]\n",
    "all_colors_names_lc = [n.lower() for n in all_colors_names]"
   ]
  },
  {
   "cell_type": "code",
   "execution_count": 42,
   "metadata": {},
   "outputs": [],
   "source": [
    "# need to convert to small medium large etc. \n",
    "import numpy as np\n",
    "\n",
    "def labelAttributes(attrs_file):\n",
    "    temp_colors = []\n",
    "    attrs = {'Rotation':[]}\n",
    "    lis = attrs_file.readlines()\n",
    "    for l in lis: \n",
    "        cl = l.strip().split(' ')\n",
    "        if cl[0] == 'colors':\n",
    "            temp_colors.append(int(cl[-1]))\n",
    "        elif cl[0] == 'Rotation':\n",
    "            attrs[cl[0]].append(float(cl[-1]))\n",
    "        else: \n",
    "            attrs[cl[0]] = float(cl[-1])\n",
    "        print(l.strip())\n",
    "\n",
    "    color_locs = ['Background', 'Lighting', 'Surface', 'Stroke']\n",
    "    for i in range(len(color_locs)): # there are 4 color types here. \n",
    "        si = (i*3)\n",
    "        ei = (i*3)+3\n",
    "        requested_colour = tuple(temp_colors[si:ei])\n",
    "        print(requested_colour)\n",
    "        actual_name, closest_name = get_colour_name(requested_colour)\n",
    "        print(\"Actual colour name:\", actual_name, \", closest colour name:\", closest_name)\n",
    "\n",
    "        if closest_name in all_colors_names_lc: \n",
    "            ind = all_colors_names_lc.index(closest_name)\n",
    "            attrs[color_locs[i]+\"Color\"] = all_colors_names[ind]\n",
    "\n",
    "    attr_labelled = {}\n",
    "    rind_types = ['Extremely Sparse', 'Extremely Sparse', 'Very Sparse', 'Sparse', \n",
    "                  'Well Distributed', 'Dense','Very Dense', 'Extremely Dense']\n",
    "    for k, v in attrs.items(): \n",
    "        if k == 'GrowthProbability':\n",
    "            if v < 0.46: \n",
    "                labl = 'Fast Decay'\n",
    "            elif v>=0.46 and v<=0.5:\n",
    "                labl = 'Slow Decay'\n",
    "            elif v>0.55 and v< 0.61:\n",
    "                labl = 'Slow Growth'\n",
    "            elif v>=0.61:\n",
    "                labl = 'Fast Growth'    \n",
    "        elif k=='NumberVertices':\n",
    "            if v==4:\n",
    "                labl = 'Few Vertices'\n",
    "            elif v==5: \n",
    "                labl = 'Many Vertices'\n",
    "        elif k=='Radius':\n",
    "            if v<47:\n",
    "                labl = 'Small'\n",
    "            elif v>=47 and v<53: \n",
    "                labl = 'Medium'\n",
    "            elif v>=53:\n",
    "                labl = 'Large'\n",
    "        elif k=='SurfaceRandomizer':\n",
    "            omag = orderOfMagnitude(v) + 3 # puts on 0 index scale\n",
    "            labl = rind_types[omag]\n",
    "        elif k == 'Rotation':\n",
    "            tmp_res = []\n",
    "            for d in v: \n",
    "                if d>0:\n",
    "                    dirl = \"Positive\"\n",
    "                else: \n",
    "                    dirl='Negative'\n",
    "                dmag = np.abs(d)\n",
    "                if dmag>0.001:\n",
    "                    dirs =  'Fast'\n",
    "                elif dmag<=0.001 and dmag>0.0001:\n",
    "                    dirs = 'Medium'\n",
    "                else: \n",
    "                    dirs = 'Slow'\n",
    "                tmp_res.append(dirl + ' ' +dirs)\n",
    "            attr_labelled[k+'X'] = tmp_res[0]\n",
    "            attr_labelled[k+'Y'] = tmp_res[1]\n",
    "            continue\n",
    "        elif 'Color' in k: \n",
    "            attr_labelled[k] = v\n",
    "            continue\n",
    "\n",
    "        print(k)\n",
    "        attr_labelled[k] = labl\n",
    "    return attr_labelled"
   ]
  },
  {
   "cell_type": "code",
   "execution_count": 43,
   "metadata": {},
   "outputs": [
    {
     "ename": "FileNotFoundError",
     "evalue": "[Errno 2] No such file or directory: 'uris/SpikeBall attrs 0.txt'",
     "output_type": "error",
     "traceback": [
      "\u001b[0;31m---------------------------------------------------------------------------\u001b[0m",
      "\u001b[0;31mFileNotFoundError\u001b[0m                         Traceback (most recent call last)",
      "\u001b[0;32m<ipython-input-43-831e77fc0a28>\u001b[0m in \u001b[0;36m<module>\u001b[0;34m\u001b[0m\n\u001b[1;32m     24\u001b[0m \u001b[0;34m\u001b[0m\u001b[0m\n\u001b[1;32m     25\u001b[0m             \u001b[0;31m# adding attributes\u001b[0m\u001b[0;34m\u001b[0m\u001b[0;34m\u001b[0m\u001b[0;34m\u001b[0m\u001b[0m\n\u001b[0;32m---> 26\u001b[0;31m             \u001b[0;32mwith\u001b[0m \u001b[0mopen\u001b[0m\u001b[0;34m(\u001b[0m\u001b[0;34m\"uris/SpikeBall attrs \"\u001b[0m\u001b[0;34m+\u001b[0m\u001b[0mstr\u001b[0m\u001b[0;34m(\u001b[0m\u001b[0mtid\u001b[0m\u001b[0;34m)\u001b[0m\u001b[0;34m+\u001b[0m\u001b[0;34m\".txt\"\u001b[0m\u001b[0;34m,\u001b[0m \u001b[0;34m'r'\u001b[0m\u001b[0;34m)\u001b[0m \u001b[0;32mas\u001b[0m \u001b[0mattrs_file\u001b[0m\u001b[0;34m:\u001b[0m\u001b[0;34m\u001b[0m\u001b[0;34m\u001b[0m\u001b[0m\n\u001b[0m\u001b[1;32m     27\u001b[0m                 \u001b[0mattr_labelled\u001b[0m \u001b[0;34m=\u001b[0m \u001b[0mlabelAttributes\u001b[0m\u001b[0;34m(\u001b[0m\u001b[0mattrs_file\u001b[0m\u001b[0;34m)\u001b[0m\u001b[0;34m\u001b[0m\u001b[0;34m\u001b[0m\u001b[0m\n\u001b[1;32m     28\u001b[0m \u001b[0;34m\u001b[0m\u001b[0m\n",
      "\u001b[0;31mFileNotFoundError\u001b[0m: [Errno 2] No such file or directory: 'uris/SpikeBall attrs 0.txt'"
     ]
    }
   ],
   "source": [
    "# add spike ball attributes to the json files\n",
    "import copy\n",
    "# writing the json info for each token. \n",
    "template = {\n",
    "  \"description\":\"Blitz Generative \\n\\n Growth & Decay | Explosions & Implosions | Sphere Morphology\\n\\nAll code and settings for this piece are immutably embedded in the Ethereum blockchain.\\n\\nSeries 0 - Spike Balls - Token TOKENNUM\\n\\n The Spike Balls series emerged out of a whimsical exploration of sphere meshes and Perlin noise. The first challenge was finding the best way to represent a sphere as a mesh object that could be manipulated to morph it in different ways. Then experimenting with Perlin noise and stochastically manipulating the surface produced aesthetically pleasing and surprising results. \\n\\nHaving the sphere become highly entropic before slowly returning to its low entropy, starting state, is analogous to states of wake and sleep, alteration and restoration that can be played indefinitely on repeat. Each repetition uses the same underlying parameters but follows a slightly different, unique trajectory.\",\n",
    "  \"external_url\":\"https://www.blitzgenerative.com/works/SpikeBall-TOKENNUM\",\n",
    "  \"image\":\"https://www.blitzgenerative.com/assets/thumbnails/SpikeBall TOKENNUM.png\",\n",
    "  \"animation_url\":\"https://gateway.pinata.cloud/ipfs/IPFS_HASH\",\n",
    "  \"name\":\"Series 0: Spike Ball - Token TOKENNUM\",\n",
    "  \"attributes\":[]\n",
    "}\n",
    "with open(\"_data/SpikeBall_attrs.yaml\", w_or_a) as yaml_attrs_file: \n",
    "    # write everything into this one yaml file\n",
    "    for tid in ungen_tokens: # ungen_tokens\n",
    "        with open(\"uris/\"+str(tid)+\".json\", 'w') as file: \n",
    "            tjson = copy.deepcopy(template)\n",
    "            for k,v in template.items():\n",
    "                if k ==\"attributes\":\n",
    "                    continue\n",
    "                if k == 'animation_url':\n",
    "                    tjson[k] = v.replace('IPFS_HASH', ipfs_hashes[tid])\n",
    "                else: \n",
    "                    tjson[k] = v.replace('TOKENNUM', str(tid))\n",
    "\n",
    "            # adding attributes\n",
    "            with open(\"uris/SpikeBall attrs \"+str(tid)+\".txt\", 'r') as attrs_file: \n",
    "                attr_labelled = labelAttributes(attrs_file)\n",
    "\n",
    "                # write out the attrs file as a yaml. \n",
    "                yaml_attrs_file.write(seriesName+' '+str(tid)+':'+'\\n')\n",
    "\n",
    "                for k, v in attr_labelled.items():\n",
    "                    tjson['attributes'].append({'trait_type':k,'value':v})\n",
    "                    yaml_attrs_file.write('  '+k+': '+str(v)+'\\n')\n",
    "\n",
    "\n",
    "            json.dump(tjson, file)\n",
    "    \n",
    "    "
   ]
  },
  {
   "cell_type": "code",
   "execution_count": 35,
   "metadata": {},
   "outputs": [
    {
     "data": {
      "text/plain": [
       "{'description': 'Blitz Generative \\n\\n Growth & Decay | Explosions & Implosions | Sphere Morphology\\n\\nAll code and settings for this piece are immutably embedded in the Ethereum blockchain.\\n\\nSeries 0 - Spike Balls - Token 1\\n\\n The Spike Balls series emerged out of a whimsical exploration of sphere meshes and Perlin noise. The first challenge was finding the best way to represent a sphere as a mesh object that could be manipulated to morph it in different ways. Then experimenting with Perlin noise and stochastically manipulating the surface produced aesthetically pleasing and surprising results. \\n\\nHaving the sphere become highly entropic before slowly returning to its low entropy, starting state, is analogous to states of wake and sleep, alteration and restoration that can be played indefinitely on repeat. Each repetition uses the same underlying parameters but follows a slightly different, unique trajectory.',\n",
       " 'external_url': 'https://www.blitzgenerative.com/works/SpikeBall-1',\n",
       " 'image': 'https://www.blitzgenerative.com/assets/thumbnails/SpikeBall 1.png',\n",
       " 'animation_url': 'https://gateway.pinata.cloud/ipfs/QmcZbv5kNStjWU1fh8CPVG5yXaUsjnj1rSBams8f6U1iNk',\n",
       " 'name': 'Series 0: Spike Ball - Token 1',\n",
       " 'attributes': [{'trait_type': 'RotationX', 'value': 'Positive Fast'},\n",
       "  {'trait_type': 'RotationY', 'value': 'Negative Fast'},\n",
       "  {'trait_type': 'GrowthProbability', 'value': 'Slow Growth'},\n",
       "  {'trait_type': 'NumberVertices', 'value': 'Slow Growth'},\n",
       "  {'trait_type': 'Radius', 'value': 'Large'},\n",
       "  {'trait_type': 'SurfaceRandomizer', 'value': 'Very Dense'},\n",
       "  {'trait_type': 'BackgroundColor', 'value': 'Tan'},\n",
       "  {'trait_type': 'LightingColor', 'value': 'DimGrey'},\n",
       "  {'trait_type': 'SurfaceColor', 'value': 'DarkOrchid'},\n",
       "  {'trait_type': 'StrokeColor', 'value': 'MediumPurple'}]}"
      ]
     },
     "execution_count": 35,
     "metadata": {},
     "output_type": "execute_result"
    }
   ],
   "source": [
    "tjson"
   ]
  },
  {
   "cell_type": "code",
   "execution_count": 36,
   "metadata": {},
   "outputs": [],
   "source": [
    "# delete the attr files: \n",
    "\n",
    "for tid in ungen_tokens: # ungen_tokens\n",
    "    os.remove(\"uris/SpikeBall attrs \"+str(tid)+\".txt\")"
   ]
  },
  {
   "cell_type": "code",
   "execution_count": 45,
   "metadata": {},
   "outputs": [
    {
     "name": "stdout",
     "output_type": "stream",
     "text": [
      "[gh-pages 260b427] updated series and json\n",
      " 4 files changed, 38 insertions(+), 109 deletions(-)\n",
      "Enumerating objects: 13, done.\n",
      "Counting objects: 100% (13/13), done.\n",
      "Delta compression using up to 12 threads\n",
      "Compressing objects: 100% (7/7), done.\n",
      "Writing objects: 100% (7/7), 1.33 KiB | 1.33 MiB/s, done.\n",
      "Total 7 (delta 5), reused 0 (delta 0)\n",
      "remote: Resolving deltas: 100% (5/5), completed with 5 local objects.\u001b[K\n",
      "To https://github.com/blitzgenerative/blitzgenerative.github.io\n",
      "   18f295e..260b427  gh-pages -> gh-pages\n"
     ]
    }
   ],
   "source": [
    "! git add .\n",
    "! git commit -m \"updated series and json\"\n",
    "! git push"
   ]
  },
  {
   "cell_type": "code",
   "execution_count": null,
   "metadata": {},
   "outputs": [],
   "source": []
  },
  {
   "cell_type": "code",
   "execution_count": null,
   "metadata": {},
   "outputs": [],
   "source": []
  },
  {
   "cell_type": "code",
   "execution_count": null,
   "metadata": {},
   "outputs": [],
   "source": []
  },
  {
   "cell_type": "code",
   "execution_count": null,
   "metadata": {},
   "outputs": [],
   "source": []
  },
  {
   "cell_type": "markdown",
   "metadata": {},
   "source": [
    "'''\n",
    "LOAD IN DEAFBEEF CONTRACT. \n",
    "from web3.auto.infura import w3\n",
    "addr= \"0xd754937672300Ae6708a51229112dE4017810934\"\n",
    "abi = json.loads('[    {      \"inputs\": [        {          \"internalType\": \"string\",          \"name\": \"name\",          \"type\": \"string\"        },        {          \"internalType\": \"string\",          \"name\": \"symbol\",          \"type\": \"string\"        },        {          \"internalType\": \"string\",          \"name\": \"baseURI\",          \"type\": \"string\"        }      ],      \"stateMutability\": \"nonpayable\",      \"type\": \"constructor\"    },    {      \"anonymous\": false,      \"inputs\": [        {          \"indexed\": true,          \"internalType\": \"address\",          \"name\": \"owner\",          \"type\": \"address\"        },        {          \"indexed\": true,          \"internalType\": \"address\",          \"name\": \"approved\",          \"type\": \"address\"        },        {          \"indexed\": true,          \"internalType\": \"uint256\",          \"name\": \"tokenId\",          \"type\": \"uint256\"        }      ],      \"name\": \"Approval\",      \"type\": \"event\"    },    {      \"anonymous\": false,      \"inputs\": [        {          \"indexed\": true,          \"internalType\": \"address\",          \"name\": \"owner\",          \"type\": \"address\"        },        {          \"indexed\": true,          \"internalType\": \"address\",          \"name\": \"operator\",          \"type\": \"address\"        },        {          \"indexed\": false,          \"internalType\": \"bool\",          \"name\": \"approved\",          \"type\": \"bool\"        }      ],      \"name\": \"ApprovalForAll\",      \"type\": \"event\"    },    {      \"anonymous\": false,      \"inputs\": [        {          \"indexed\": true,          \"internalType\": \"bytes32\",          \"name\": \"role\",          \"type\": \"bytes32\"        },        {          \"indexed\": true,          \"internalType\": \"bytes32\",          \"name\": \"previousAdminRole\",          \"type\": \"bytes32\"        },        {          \"indexed\": true,          \"internalType\": \"bytes32\",          \"name\": \"newAdminRole\",          \"type\": \"bytes32\"        }      ],      \"name\": \"RoleAdminChanged\",      \"type\": \"event\"    },    {      \"anonymous\": false,      \"inputs\": [        {          \"indexed\": true,          \"internalType\": \"bytes32\",          \"name\": \"role\",          \"type\": \"bytes32\"        },        {          \"indexed\": true,          \"internalType\": \"address\",          \"name\": \"account\",          \"type\": \"address\"        },        {          \"indexed\": true,          \"internalType\": \"address\",          \"name\": \"sender\",          \"type\": \"address\"        }      ],      \"name\": \"RoleGranted\",      \"type\": \"event\"    },    {      \"anonymous\": false,      \"inputs\": [        {          \"indexed\": true,          \"internalType\": \"bytes32\",          \"name\": \"role\",          \"type\": \"bytes32\"        },        {          \"indexed\": true,          \"internalType\": \"address\",          \"name\": \"account\",          \"type\": \"address\"        },        {          \"indexed\": true,          \"internalType\": \"address\",          \"name\": \"sender\",          \"type\": \"address\"        }      ],      \"name\": \"RoleRevoked\",      \"type\": \"event\"    },    {      \"anonymous\": false,      \"inputs\": [        {          \"indexed\": true,          \"internalType\": \"address\",          \"name\": \"from\",          \"type\": \"address\"        },        {          \"indexed\": true,          \"internalType\": \"address\",          \"name\": \"to\",          \"type\": \"address\"        },        {          \"indexed\": true,          \"internalType\": \"uint256\",          \"name\": \"tokenId\",          \"type\": \"uint256\"        }      ],      \"name\": \"Transfer\",      \"type\": \"event\"    },    {      \"inputs\": [],      \"name\": \"DEFAULT_ADMIN_ROLE\",      \"outputs\": [        {          \"internalType\": \"bytes32\",          \"name\": \"\",          \"type\": \"bytes32\"        }      ],      \"stateMutability\": \"view\",      \"type\": \"function\",      \"constant\": true    },    {      \"inputs\": [],      \"name\": \"MINTER_ROLE\",      \"outputs\": [        {          \"internalType\": \"bytes32\",          \"name\": \"\",          \"type\": \"bytes32\"        }      ],      \"stateMutability\": \"view\",      \"type\": \"function\",      \"constant\": true    },    {      \"inputs\": [        {          \"internalType\": \"address\",          \"name\": \"to\",          \"type\": \"address\"        },        {          \"internalType\": \"uint256\",          \"name\": \"tokenId\",          \"type\": \"uint256\"        }      ],      \"name\": \"approve\",      \"outputs\": [],      \"stateMutability\": \"nonpayable\",      \"type\": \"function\"    },    {      \"inputs\": [        {          \"internalType\": \"address\",          \"name\": \"owner\",          \"type\": \"address\"        }      ],      \"name\": \"balanceOf\",      \"outputs\": [        {          \"internalType\": \"uint256\",          \"name\": \"\",          \"type\": \"uint256\"        }      ],      \"stateMutability\": \"view\",      \"type\": \"function\",      \"constant\": true    },    {      \"inputs\": [],      \"name\": \"baseURI\",      \"outputs\": [        {          \"internalType\": \"string\",          \"name\": \"\",          \"type\": \"string\"        }      ],      \"stateMutability\": \"view\",      \"type\": \"function\",      \"constant\": true    },    {      \"inputs\": [        {          \"internalType\": \"uint256\",          \"name\": \"tokenId\",          \"type\": \"uint256\"        }      ],      \"name\": \"getApproved\",      \"outputs\": [        {          \"internalType\": \"address\",          \"name\": \"\",          \"type\": \"address\"        }      ],      \"stateMutability\": \"view\",      \"type\": \"function\",      \"constant\": true    },    {      \"inputs\": [        {          \"internalType\": \"bytes32\",          \"name\": \"role\",          \"type\": \"bytes32\"        }      ],      \"name\": \"getRoleAdmin\",      \"outputs\": [        {          \"internalType\": \"bytes32\",          \"name\": \"\",          \"type\": \"bytes32\"        }      ],      \"stateMutability\": \"view\",      \"type\": \"function\",      \"constant\": true    },    {      \"inputs\": [        {          \"internalType\": \"bytes32\",          \"name\": \"role\",          \"type\": \"bytes32\"        },        {          \"internalType\": \"uint256\",          \"name\": \"index\",          \"type\": \"uint256\"        }      ],      \"name\": \"getRoleMember\",      \"outputs\": [        {          \"internalType\": \"address\",          \"name\": \"\",          \"type\": \"address\"        }      ],      \"stateMutability\": \"view\",      \"type\": \"function\",      \"constant\": true    },    {      \"inputs\": [        {          \"internalType\": \"bytes32\",          \"name\": \"role\",          \"type\": \"bytes32\"        }      ],      \"name\": \"getRoleMemberCount\",      \"outputs\": [        {          \"internalType\": \"uint256\",          \"name\": \"\",          \"type\": \"uint256\"        }      ],      \"stateMutability\": \"view\",      \"type\": \"function\",      \"constant\": true    },    {      \"inputs\": [        {          \"internalType\": \"bytes32\",          \"name\": \"role\",          \"type\": \"bytes32\"        },        {          \"internalType\": \"address\",          \"name\": \"account\",          \"type\": \"address\"        }      ],      \"name\": \"grantRole\",      \"outputs\": [],      \"stateMutability\": \"nonpayable\",      \"type\": \"function\"    },    {      \"inputs\": [        {          \"internalType\": \"bytes32\",          \"name\": \"role\",          \"type\": \"bytes32\"        },        {          \"internalType\": \"address\",          \"name\": \"account\",          \"type\": \"address\"        }      ],      \"name\": \"hasRole\",      \"outputs\": [        {          \"internalType\": \"bool\",          \"name\": \"\",          \"type\": \"bool\"        }      ],      \"stateMutability\": \"view\",      \"type\": \"function\",      \"constant\": true    },    {      \"inputs\": [        {          \"internalType\": \"address\",          \"name\": \"owner\",          \"type\": \"address\"        },        {          \"internalType\": \"address\",          \"name\": \"operator\",          \"type\": \"address\"        }      ],      \"name\": \"isApprovedForAll\",      \"outputs\": [        {          \"internalType\": \"bool\",          \"name\": \"\",          \"type\": \"bool\"        }      ],      \"stateMutability\": \"view\",      \"type\": \"function\",      \"constant\": true    },    {      \"inputs\": [],      \"name\": \"name\",      \"outputs\": [        {          \"internalType\": \"string\",          \"name\": \"\",          \"type\": \"string\"        }      ],      \"stateMutability\": \"view\",      \"type\": \"function\",      \"constant\": true    },    {      \"inputs\": [],      \"name\": \"numSeries\",      \"outputs\": [        {          \"internalType\": \"uint256\",          \"name\": \"\",          \"type\": \"uint256\"        }      ],      \"stateMutability\": \"view\",      \"type\": \"function\",      \"constant\": true    },    {      \"inputs\": [        {          \"internalType\": \"uint256\",          \"name\": \"tokenId\",          \"type\": \"uint256\"        }      ],      \"name\": \"ownerOf\",      \"outputs\": [        {          \"internalType\": \"address\",          \"name\": \"\",          \"type\": \"address\"        }      ],      \"stateMutability\": \"view\",      \"type\": \"function\",      \"constant\": true    },    {      \"inputs\": [        {          \"internalType\": \"bytes32\",          \"name\": \"role\",          \"type\": \"bytes32\"        },        {          \"internalType\": \"address\",          \"name\": \"account\",          \"type\": \"address\"        }      ],      \"name\": \"renounceRole\",      \"outputs\": [],      \"stateMutability\": \"nonpayable\",      \"type\": \"function\"    },    {      \"inputs\": [        {          \"internalType\": \"bytes32\",          \"name\": \"role\",          \"type\": \"bytes32\"        },        {          \"internalType\": \"address\",          \"name\": \"account\",          \"type\": \"address\"        }      ],      \"name\": \"revokeRole\",      \"outputs\": [],      \"stateMutability\": \"nonpayable\",      \"type\": \"function\"    },    {      \"inputs\": [        {          \"internalType\": \"address\",          \"name\": \"from\",          \"type\": \"address\"        },        {          \"internalType\": \"address\",          \"name\": \"to\",          \"type\": \"address\"        },        {          \"internalType\": \"uint256\",          \"name\": \"tokenId\",          \"type\": \"uint256\"        }      ],      \"name\": \"safeTransferFrom\",      \"outputs\": [],      \"stateMutability\": \"nonpayable\",      \"type\": \"function\"    },    {      \"inputs\": [        {          \"internalType\": \"address\",          \"name\": \"from\",          \"type\": \"address\"        },        {          \"internalType\": \"address\",          \"name\": \"to\",          \"type\": \"address\"        },        {          \"internalType\": \"uint256\",          \"name\": \"tokenId\",          \"type\": \"uint256\"        },        {          \"internalType\": \"bytes\",          \"name\": \"_data\",          \"type\": \"bytes\"        }      ],      \"name\": \"safeTransferFrom\",      \"outputs\": [],      \"stateMutability\": \"nonpayable\",      \"type\": \"function\"    },    {      \"inputs\": [        {          \"internalType\": \"address\",          \"name\": \"operator\",          \"type\": \"address\"        },        {          \"internalType\": \"bool\",          \"name\": \"approved\",          \"type\": \"bool\"        }      ],      \"name\": \"setApprovalForAll\",      \"outputs\": [],      \"stateMutability\": \"nonpayable\",      \"type\": \"function\"    },    {      \"inputs\": [        {          \"internalType\": \"bytes4\",          \"name\": \"interfaceId\",          \"type\": \"bytes4\"        }      ],      \"name\": \"supportsInterface\",      \"outputs\": [        {          \"internalType\": \"bool\",          \"name\": \"\",          \"type\": \"bool\"        }      ],      \"stateMutability\": \"view\",      \"type\": \"function\",      \"constant\": true    },    {      \"inputs\": [],      \"name\": \"symbol\",      \"outputs\": [        {          \"internalType\": \"string\",          \"name\": \"\",          \"type\": \"string\"        }      ],      \"stateMutability\": \"view\",      \"type\": \"function\",      \"constant\": true    },    {      \"inputs\": [        {          \"internalType\": \"uint256\",          \"name\": \"index\",          \"type\": \"uint256\"        }      ],      \"name\": \"tokenByIndex\",      \"outputs\": [        {          \"internalType\": \"uint256\",          \"name\": \"\",          \"type\": \"uint256\"        }      ],      \"stateMutability\": \"view\",      \"type\": \"function\",      \"constant\": true    },    {      \"inputs\": [        {          \"internalType\": \"address\",          \"name\": \"owner\",          \"type\": \"address\"        },        {          \"internalType\": \"uint256\",          \"name\": \"index\",          \"type\": \"uint256\"        }      ],      \"name\": \"tokenOfOwnerByIndex\",      \"outputs\": [        {          \"internalType\": \"uint256\",          \"name\": \"\",          \"type\": \"uint256\"        }      ],      \"stateMutability\": \"view\",      \"type\": \"function\",      \"constant\": true    },    {      \"inputs\": [        {          \"internalType\": \"uint256\",          \"name\": \"tokenId\",          \"type\": \"uint256\"        }      ],      \"name\": \"tokenURI\",      \"outputs\": [        {          \"internalType\": \"string\",          \"name\": \"\",          \"type\": \"string\"        }      ],      \"stateMutability\": \"view\",      \"type\": \"function\",      \"constant\": true    },    {      \"inputs\": [],      \"name\": \"totalSupply\",      \"outputs\": [        {          \"internalType\": \"uint256\",          \"name\": \"\",          \"type\": \"uint256\"        }      ],      \"stateMutability\": \"view\",      \"type\": \"function\",      \"constant\": true    },    {      \"inputs\": [        {          \"internalType\": \"address\",          \"name\": \"from\",          \"type\": \"address\"        },        {          \"internalType\": \"address\",          \"name\": \"to\",          \"type\": \"address\"        },        {          \"internalType\": \"uint256\",          \"name\": \"tokenId\",          \"type\": \"uint256\"        }      ],      \"name\": \"transferFrom\",      \"outputs\": [],      \"stateMutability\": \"nonpayable\",      \"type\": \"function\"    },    {      \"inputs\": [        {          \"internalType\": \"uint256\",          \"name\": \"sid\",          \"type\": \"uint256\"        },        {          \"internalType\": \"uint256\",          \"name\": \"m\",          \"type\": \"uint256\"        }      ],      \"name\": \"setMaxMint\",      \"outputs\": [],      \"stateMutability\": \"nonpayable\",      \"type\": \"function\"    },    {      \"inputs\": [        {          \"internalType\": \"uint256\",          \"name\": \"sid\",          \"type\": \"uint256\"        },        {          \"internalType\": \"uint32\",          \"name\": \"n\",          \"type\": \"uint32\"        }      ],      \"name\": \"setNumCodeLocations\",      \"outputs\": [],      \"stateMutability\": \"nonpayable\",      \"type\": \"function\"    },    {      \"inputs\": [        {          \"internalType\": \"uint256\",          \"name\": \"sid\",          \"type\": \"uint256\"        },        {          \"internalType\": \"uint256\",          \"name\": \"i\",          \"type\": \"uint256\"        },        {          \"internalType\": \"bytes32\",          \"name\": \"txhash\",          \"type\": \"bytes32\"        }      ],      \"name\": \"setCodeLocation\",      \"outputs\": [],      \"stateMutability\": \"nonpayable\",      \"type\": \"function\"    },    {      \"inputs\": [        {          \"internalType\": \"uint256\",          \"name\": \"sid\",          \"type\": \"uint256\"        },        {          \"internalType\": \"uint256\",          \"name\": \"i\",          \"type\": \"uint256\"        },        {          \"internalType\": \"uint32\",          \"name\": \"v\",          \"type\": \"uint32\"        }      ],      \"name\": \"setSeriesParam\",      \"outputs\": [],      \"stateMutability\": \"nonpayable\",      \"type\": \"function\"    },    {      \"inputs\": [        {          \"internalType\": \"uint256\",          \"name\": \"tokenID\",          \"type\": \"uint256\"        },        {          \"internalType\": \"uint256\",          \"name\": \"i\",          \"type\": \"uint256\"        },        {          \"internalType\": \"uint32\",          \"name\": \"v\",          \"type\": \"uint32\"        }      ],      \"name\": \"setTokenParam\",      \"outputs\": [],      \"stateMutability\": \"nonpayable\",      \"type\": \"function\"    },    {      \"inputs\": [        {          \"internalType\": \"uint256\",          \"name\": \"i\",          \"type\": \"uint256\"        }      ],      \"name\": \"getTokenParams\",      \"outputs\": [        {          \"internalType\": \"bytes32\",          \"name\": \"seed\",          \"type\": \"bytes32\"        },        {          \"internalType\": \"bytes32\",          \"name\": \"codeLocation0\",          \"type\": \"bytes32\"        },        {          \"internalType\": \"uint256\",          \"name\": \"seriesID\",          \"type\": \"uint256\"        },        {          \"internalType\": \"uint32\",          \"name\": \"p0\",          \"type\": \"uint32\"        },        {          \"internalType\": \"uint32\",          \"name\": \"p1\",          \"type\": \"uint32\"        },        {          \"internalType\": \"uint32\",          \"name\": \"p2\",          \"type\": \"uint32\"        },        {          \"internalType\": \"uint32\",          \"name\": \"p3\",          \"type\": \"uint32\"        },        {          \"internalType\": \"uint32\",          \"name\": \"p4\",          \"type\": \"uint32\"        },        {          \"internalType\": \"uint32\",          \"name\": \"p5\",          \"type\": \"uint32\"        },        {          \"internalType\": \"uint32\",          \"name\": \"p6\",          \"type\": \"uint32\"        },        {          \"internalType\": \"uint32\",          \"name\": \"p7\",          \"type\": \"uint32\"        }      ],      \"stateMutability\": \"view\",      \"type\": \"function\",      \"constant\": true    },    {      \"inputs\": [        {          \"internalType\": \"uint256\",          \"name\": \"i\",          \"type\": \"uint256\"        }      ],      \"name\": \"getSeriesParams\",      \"outputs\": [        {          \"internalType\": \"uint32\",          \"name\": \"p0\",          \"type\": \"uint32\"        },        {          \"internalType\": \"uint32\",          \"name\": \"p1\",          \"type\": \"uint32\"        },        {          \"internalType\": \"uint32\",          \"name\": \"p2\",          \"type\": \"uint32\"        },        {          \"internalType\": \"uint32\",          \"name\": \"p3\",          \"type\": \"uint32\"        },        {          \"internalType\": \"uint32\",          \"name\": \"p4\",          \"type\": \"uint32\"        },        {          \"internalType\": \"uint32\",          \"name\": \"p5\",          \"type\": \"uint32\"        },        {          \"internalType\": \"uint32\",          \"name\": \"p6\",          \"type\": \"uint32\"        },        {          \"internalType\": \"uint32\",          \"name\": \"p7\",          \"type\": \"uint32\"        }      ],      \"stateMutability\": \"view\",      \"type\": \"function\",      \"constant\": true    },    {      \"inputs\": [        {          \"internalType\": \"uint256\",          \"name\": \"i\",          \"type\": \"uint256\"        }      ],      \"name\": \"getSeries\",      \"outputs\": [        {          \"internalType\": \"bytes32\",          \"name\": \"codeLocation0\",          \"type\": \"bytes32\"        },        {          \"internalType\": \"uint256\",          \"name\": \"numCodeLocations\",          \"type\": \"uint256\"        },        {          \"internalType\": \"uint256\",          \"name\": \"numMint\",          \"type\": \"uint256\"        },        {          \"internalType\": \"uint256\",          \"name\": \"maxMint\",          \"type\": \"uint256\"        },        {          \"internalType\": \"uint256\",          \"name\": \"curPricePerToken\",          \"type\": \"uint256\"        },        {          \"internalType\": \"bool\",          \"name\": \"paused\",          \"type\": \"bool\"        },        {          \"internalType\": \"bool\",          \"name\": \"locked\",          \"type\": \"bool\"        }      ],      \"stateMutability\": \"view\",      \"type\": \"function\",      \"constant\": true    },    {      \"inputs\": [        {          \"internalType\": \"uint256\",          \"name\": \"sid\",          \"type\": \"uint256\"        },        {          \"internalType\": \"uint256\",          \"name\": \"i\",          \"type\": \"uint256\"        }      ],      \"name\": \"getCodeLocation\",      \"outputs\": [        {          \"internalType\": \"bytes32\",          \"name\": \"txhash\",          \"type\": \"bytes32\"        }      ],      \"stateMutability\": \"view\",      \"type\": \"function\",      \"constant\": true    },    {      \"inputs\": [],      \"name\": \"addSeries\",      \"outputs\": [        {          \"internalType\": \"uint256\",          \"name\": \"sid\",          \"type\": \"uint256\"        }      ],      \"stateMutability\": \"nonpayable\",      \"type\": \"function\"    },    {      \"inputs\": [        {          \"internalType\": \"uint256\",          \"name\": \"sid\",          \"type\": \"uint256\"        },        {          \"internalType\": \"uint256\",          \"name\": \"p\",          \"type\": \"uint256\"        }      ],      \"name\": \"setPrice\",      \"outputs\": [],      \"stateMutability\": \"nonpayable\",      \"type\": \"function\"    },    {      \"inputs\": [        {          \"internalType\": \"bool\",          \"name\": \"m\",          \"type\": \"bool\"        }      ],      \"name\": \"setAllowInternalPurchases\",      \"outputs\": [],      \"stateMutability\": \"nonpayable\",      \"type\": \"function\"    },    {      \"inputs\": [        {          \"internalType\": \"uint256\",          \"name\": \"sid\",          \"type\": \"uint256\"        },        {          \"internalType\": \"bool\",          \"name\": \"m\",          \"type\": \"bool\"        }      ],      \"name\": \"setPaused\",      \"outputs\": [],      \"stateMutability\": \"nonpayable\",      \"type\": \"function\"    },    {      \"inputs\": [        {          \"internalType\": \"uint256\",          \"name\": \"sid\",          \"type\": \"uint256\"        }      ],      \"name\": \"lockCodeForever\",      \"outputs\": [],      \"stateMutability\": \"nonpayable\",      \"type\": \"function\"    },    {      \"inputs\": [        {          \"internalType\": \"uint256\",          \"name\": \"amount\",          \"type\": \"uint256\"        }      ],      \"name\": \"withdraw\",      \"outputs\": [],      \"stateMutability\": \"nonpayable\",      \"type\": \"function\"    },    {      \"inputs\": [        {          \"internalType\": \"string\",          \"name\": \"baseURI\",          \"type\": \"string\"        }      ],      \"name\": \"setBaseURI\",      \"outputs\": [],      \"stateMutability\": \"nonpayable\",      \"type\": \"function\"    },    {      \"inputs\": [        {          \"internalType\": \"uint256\",          \"name\": \"sid\",          \"type\": \"uint256\"        },        {          \"internalType\": \"address\",          \"name\": \"to\",          \"type\": \"address\"        }      ],      \"name\": \"mint\",      \"outputs\": [        {          \"internalType\": \"uint256\",          \"name\": \"_tokenId\",          \"type\": \"uint256\"        }      ],      \"stateMutability\": \"nonpayable\",      \"type\": \"function\"    },    {      \"inputs\": [        {          \"internalType\": \"uint256\",          \"name\": \"sid\",          \"type\": \"uint256\"        }      ],      \"name\": \"purchase\",      \"outputs\": [        {          \"internalType\": \"uint256\",          \"name\": \"_tokenId\",          \"type\": \"uint256\"        }      ],      \"stateMutability\": \"payable\",      \"type\": \"function\",      \"payable\": true    },    {      \"inputs\": [        {          \"internalType\": \"uint256\",          \"name\": \"sid\",          \"type\": \"uint256\"        },        {          \"internalType\": \"address\",          \"name\": \"_to\",          \"type\": \"address\"        }      ],      \"name\": \"purchaseTo\",      \"outputs\": [        {          \"internalType\": \"uint256\",          \"name\": \"_tokenId\",          \"type\": \"uint256\"        }      ],      \"stateMutability\": \"payable\",      \"type\": \"function\",      \"payable\": true    }    ]')\n",
    "sc = w3.eth.contract(abi=abi, address=addr)'''"
   ]
  }
 ],
 "metadata": {
  "kernelspec": {
   "display_name": "Python 3",
   "language": "python",
   "name": "python3"
  },
  "language_info": {
   "codemirror_mode": {
    "name": "ipython",
    "version": 3
   },
   "file_extension": ".py",
   "mimetype": "text/x-python",
   "name": "python",
   "nbconvert_exporter": "python",
   "pygments_lexer": "ipython3",
   "version": "3.7.5"
  }
 },
 "nbformat": 4,
 "nbformat_minor": 4
}
